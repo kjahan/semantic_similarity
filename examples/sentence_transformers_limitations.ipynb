{
  "nbformat": 4,
  "nbformat_minor": 0,
  "metadata": {
    "colab": {
      "provenance": [],
      "authorship_tag": "ABX9TyOHgVO9tTyaxw2Wd8rO5hK/",
      "include_colab_link": true
    },
    "kernelspec": {
      "name": "python3",
      "display_name": "Python 3"
    },
    "language_info": {
      "name": "python"
    }
  },
  "cells": [
    {
      "cell_type": "markdown",
      "metadata": {
        "id": "view-in-github",
        "colab_type": "text"
      },
      "source": [
        "<a href=\"https://colab.research.google.com/github/kjahan/semantic_similarity/blob/main/examples/colab/sentence_transformers_limitations.ipynb\" target=\"_parent\"><img src=\"https://colab.research.google.com/assets/colab-badge.svg\" alt=\"Open In Colab\"/></a>"
      ]
    },
    {
      "cell_type": "markdown",
      "source": [
        "# Goal: explore limitations of sentence transformers\n",
        "\n",
        "**Install necessary packages**\n",
        "\n",
        "[Semantic Textual Similarity](https://www.sbert.net/docs/usage/semantic_textual_similarity.html)\n"
      ],
      "metadata": {
        "id": "97LtnrAwsQqu"
      }
    },
    {
      "cell_type": "code",
      "execution_count": 1,
      "metadata": {
        "colab": {
          "base_uri": "https://localhost:8080/"
        },
        "id": "tP85YGodsPCP",
        "outputId": "176fe257-729b-4652-b9c0-b221ce76b1a7"
      },
      "outputs": [
        {
          "output_type": "stream",
          "name": "stdout",
          "text": [
            "Looking in indexes: https://pypi.org/simple, https://us-python.pkg.dev/colab-wheels/public/simple/\n",
            "Collecting sentence-transformers\n",
            "  Downloading sentence-transformers-2.2.2.tar.gz (85 kB)\n",
            "\u001b[K     |████████████████████████████████| 85 kB 3.0 MB/s \n",
            "\u001b[?25hCollecting transformers<5.0.0,>=4.6.0\n",
            "  Downloading transformers-4.21.2-py3-none-any.whl (4.7 MB)\n",
            "\u001b[K     |████████████████████████████████| 4.7 MB 20.1 MB/s \n",
            "\u001b[?25hRequirement already satisfied: tqdm in /usr/local/lib/python3.7/dist-packages (from sentence-transformers) (4.64.0)\n",
            "Requirement already satisfied: torch>=1.6.0 in /usr/local/lib/python3.7/dist-packages (from sentence-transformers) (1.12.1+cu113)\n",
            "Requirement already satisfied: torchvision in /usr/local/lib/python3.7/dist-packages (from sentence-transformers) (0.13.1+cu113)\n",
            "Requirement already satisfied: numpy in /usr/local/lib/python3.7/dist-packages (from sentence-transformers) (1.21.6)\n",
            "Requirement already satisfied: scikit-learn in /usr/local/lib/python3.7/dist-packages (from sentence-transformers) (1.0.2)\n",
            "Requirement already satisfied: scipy in /usr/local/lib/python3.7/dist-packages (from sentence-transformers) (1.7.3)\n",
            "Requirement already satisfied: nltk in /usr/local/lib/python3.7/dist-packages (from sentence-transformers) (3.7)\n",
            "Collecting sentencepiece\n",
            "  Downloading sentencepiece-0.1.97-cp37-cp37m-manylinux_2_17_x86_64.manylinux2014_x86_64.whl (1.3 MB)\n",
            "\u001b[K     |████████████████████████████████| 1.3 MB 35.9 MB/s \n",
            "\u001b[?25hCollecting huggingface-hub>=0.4.0\n",
            "  Downloading huggingface_hub-0.9.1-py3-none-any.whl (120 kB)\n",
            "\u001b[K     |████████████████████████████████| 120 kB 64.1 MB/s \n",
            "\u001b[?25hRequirement already satisfied: importlib-metadata in /usr/local/lib/python3.7/dist-packages (from huggingface-hub>=0.4.0->sentence-transformers) (4.12.0)\n",
            "Requirement already satisfied: packaging>=20.9 in /usr/local/lib/python3.7/dist-packages (from huggingface-hub>=0.4.0->sentence-transformers) (21.3)\n",
            "Requirement already satisfied: filelock in /usr/local/lib/python3.7/dist-packages (from huggingface-hub>=0.4.0->sentence-transformers) (3.8.0)\n",
            "Requirement already satisfied: pyyaml>=5.1 in /usr/local/lib/python3.7/dist-packages (from huggingface-hub>=0.4.0->sentence-transformers) (6.0)\n",
            "Requirement already satisfied: typing-extensions>=3.7.4.3 in /usr/local/lib/python3.7/dist-packages (from huggingface-hub>=0.4.0->sentence-transformers) (4.1.1)\n",
            "Requirement already satisfied: requests in /usr/local/lib/python3.7/dist-packages (from huggingface-hub>=0.4.0->sentence-transformers) (2.23.0)\n",
            "Requirement already satisfied: pyparsing!=3.0.5,>=2.0.2 in /usr/local/lib/python3.7/dist-packages (from packaging>=20.9->huggingface-hub>=0.4.0->sentence-transformers) (3.0.9)\n",
            "Requirement already satisfied: regex!=2019.12.17 in /usr/local/lib/python3.7/dist-packages (from transformers<5.0.0,>=4.6.0->sentence-transformers) (2022.6.2)\n",
            "Collecting tokenizers!=0.11.3,<0.13,>=0.11.1\n",
            "  Downloading tokenizers-0.12.1-cp37-cp37m-manylinux_2_12_x86_64.manylinux2010_x86_64.whl (6.6 MB)\n",
            "\u001b[K     |████████████████████████████████| 6.6 MB 66.5 MB/s \n",
            "\u001b[?25hRequirement already satisfied: zipp>=0.5 in /usr/local/lib/python3.7/dist-packages (from importlib-metadata->huggingface-hub>=0.4.0->sentence-transformers) (3.8.1)\n",
            "Requirement already satisfied: click in /usr/local/lib/python3.7/dist-packages (from nltk->sentence-transformers) (7.1.2)\n",
            "Requirement already satisfied: joblib in /usr/local/lib/python3.7/dist-packages (from nltk->sentence-transformers) (1.1.0)\n",
            "Requirement already satisfied: idna<3,>=2.5 in /usr/local/lib/python3.7/dist-packages (from requests->huggingface-hub>=0.4.0->sentence-transformers) (2.10)\n",
            "Requirement already satisfied: urllib3!=1.25.0,!=1.25.1,<1.26,>=1.21.1 in /usr/local/lib/python3.7/dist-packages (from requests->huggingface-hub>=0.4.0->sentence-transformers) (1.24.3)\n",
            "Requirement already satisfied: chardet<4,>=3.0.2 in /usr/local/lib/python3.7/dist-packages (from requests->huggingface-hub>=0.4.0->sentence-transformers) (3.0.4)\n",
            "Requirement already satisfied: certifi>=2017.4.17 in /usr/local/lib/python3.7/dist-packages (from requests->huggingface-hub>=0.4.0->sentence-transformers) (2022.6.15)\n",
            "Requirement already satisfied: threadpoolctl>=2.0.0 in /usr/local/lib/python3.7/dist-packages (from scikit-learn->sentence-transformers) (3.1.0)\n",
            "Requirement already satisfied: pillow!=8.3.*,>=5.3.0 in /usr/local/lib/python3.7/dist-packages (from torchvision->sentence-transformers) (7.1.2)\n",
            "Building wheels for collected packages: sentence-transformers\n",
            "  Building wheel for sentence-transformers (setup.py) ... \u001b[?25l\u001b[?25hdone\n",
            "  Created wheel for sentence-transformers: filename=sentence_transformers-2.2.2-py3-none-any.whl size=125938 sha256=6b2d19360ada04b4554686d121d0626a9d9132b7813a84cc745b73236d6cebf4\n",
            "  Stored in directory: /root/.cache/pip/wheels/bf/06/fb/d59c1e5bd1dac7f6cf61ec0036cc3a10ab8fecaa6b2c3d3ee9\n",
            "Successfully built sentence-transformers\n",
            "Installing collected packages: tokenizers, huggingface-hub, transformers, sentencepiece, sentence-transformers\n",
            "Successfully installed huggingface-hub-0.9.1 sentence-transformers-2.2.2 sentencepiece-0.1.97 tokenizers-0.12.1 transformers-4.21.2\n"
          ]
        }
      ],
      "source": [
        "!pip install -U sentence-transformers"
      ]
    },
    {
      "cell_type": "code",
      "source": [
        "from sentence_transformers import SentenceTransformer, util\n",
        "\n",
        "from transformers import BertTokenizer\n",
        "from transformers import MPNetTokenizer, MPNetModel\n",
        "import torch\n",
        "\n",
        "import numpy as np\n",
        "import pandas as pd\n",
        "\n",
        "import random"
      ],
      "metadata": {
        "id": "B1n1BkaAsgsQ"
      },
      "execution_count": 2,
      "outputs": []
    },
    {
      "cell_type": "markdown",
      "source": [
        "## Load pre-trained model\n",
        "\n",
        "https://www.sbert.net/docs/pretrained_models.html"
      ],
      "metadata": {
        "id": "dJeiNyYDsndy"
      }
    },
    {
      "cell_type": "code",
      "source": [
        "model_name_1 = 'all-mpnet-base-v2'\n",
        "model_1 = SentenceTransformer(model_name_1)"
      ],
      "metadata": {
        "colab": {
          "base_uri": "https://localhost:8080/",
          "height": 465,
          "referenced_widgets": [
            "b4d474c830f948028f7f68f83baf5a72",
            "c1a88b75902d4753b08da4522f31ff2c",
            "02633dc049394339bbb0832b98934a46",
            "ae095b0a8a754db8858c7d9def7dad6d",
            "5fb52a00803c4b0999787c8cedc9ec7a",
            "ceab983af90e474996499ffcc4fec41e",
            "0a7d0f10a33245038974b1c204379f88",
            "3b1c555b193642109b931c5cae9329e9",
            "4e6f0d3c9db94a93b460615f7ad4ba9c",
            "5e80525be3a84224bec85b05fb72aea3",
            "76f291584ee5444bb07de814a2b814d7",
            "e2c49488605f440b95d3f915bb4b65ab",
            "c0a246ad3bff4af385ff6b77c4270a02",
            "54e9e50d828746ef811016cff35c8420",
            "13cf52d02b6e48a48ff36aa50dbc9288",
            "c64aec56f08746b5801d07fb7b803c8f",
            "94796ba6ae074eda9ab49dc919c74422",
            "028f8857cf014c17990ae7f737865559",
            "0e82c3f750a84436a7ff86dd04e6afd1",
            "9403e3967a9341c7b2b415fb61c8e114",
            "f7d967c78cf54ddc8acb6e4b92df5498",
            "9c85ef9533f347afb7ffd3613129f54e",
            "67f37a0cc2584ec8b74ed848daf660fb",
            "acdc5046beba4f63a064ddbc478a7950",
            "d73c883c0e974e94bcab59e468c6aabb",
            "94bab3c3bfbe4a53860dc5a8c7798c1d",
            "15648c811a494dc9a303b3f8bc8641fe",
            "68f85cea2db340fbb494b331a8336935",
            "8385879dd2c34995a9f8784a7d06eab6",
            "459884f955e546bfbc349f29b687c767",
            "6550d17fc3e442fd9afe8e9b321ca6be",
            "00b44f08b2a24ab6abd2f805b047bc19",
            "bc5e59f4de1c473ca6dcd6ca0df0b37e",
            "a1e406fd69a6444b80f42707591b38fc",
            "8c7c9dc3df4548d988eef774eada615e",
            "abe766a3900042c390c919bc76318f46",
            "09f36eff5ae441519488556ca2387799",
            "7df1ba1fdc644db986aaa91d289c84f9",
            "a30457e34a53499fa18b295796b0bba0",
            "682094aa3a6e48888bd53bf0af461edf",
            "860c6aabbc0444749f50b9c5a447bd75",
            "8c283258c06c441e9b92e6f8fac2c5a2",
            "5e1983f5766847eabb93b6aabf225abd",
            "443c95e5c0034778ad1b781722e4b793",
            "5445c40f53f8466191f0da2fdff6cf87",
            "3f93a6c6c14d465c9b738551b4f5d96d",
            "6d81d27f48a54a05b81a402864d4c641",
            "3cd01d5da08245369e3aef00ec758778",
            "086943916803494cb2feaf3e61604a94",
            "f9e17a237d944ab68b7479415458cfec",
            "6b9d61b8b0a44ade9039a880c4cc7115",
            "254da79b088240ff8a64fdcf5689c4a6",
            "c6046309682744a0b622c2a0caae9965",
            "22d4c426885644ccb0152259af6bd4be",
            "2b94b9ff35c7497e90e67029f6436529",
            "a40358bec34143fda3642be2f4070a04",
            "531cef50ab2e4bcc8762323bf9143b02",
            "0c731b25cb86470e88055cab5365380f",
            "5d01a55bab654137a5b419f5d4647aeb",
            "07fc35eacf3f428db6677d269ebc1e1e",
            "ea9e5af2f6854e8f8babd1496db3e777",
            "7829f40644194a5f89bd615acea1f43f",
            "4529385d2f69484ea847202d25991842",
            "164432345914464581cd685b945efb2d",
            "ef7ef8778d3d4deca43957c1fd07226e",
            "f24fd8db7c674a049f1769b30e01edc8",
            "1e6c1a06cb8442dd88245d338f1b6907",
            "d7d33b05570c41fe86bd85ea2b134b55",
            "88cf6c819a06453b96fe0e3bd08399f1",
            "222cfd2f7111428b8333621ac98c6147",
            "71c64c5e09c44b46ac3a089c2ed83612",
            "00245ec00322403c9b52bc2b62662dcf",
            "3b78e2b36dff4425b6c31174d455c53c",
            "dd4b30dfb6bd4321823cbe9bbf0cff22",
            "87d09261767049c99e46161131785b86",
            "00ad86304def48c9ba37d9b8e0820f93",
            "ae5043ebbf8c4f0da5a673eaa493b2fa",
            "4bc8c179537b4f40af3cfc280be630a7",
            "bf46c984c4614a77b7f3382e79b133e9",
            "ae8d3fe47b0e400b8db608987364eae8",
            "9424f23678ad4051a70bcbe18e23afaf",
            "9ddc0649f5bd4f87be5a64ddff83cce8",
            "ec23a6ed7b484865969273bfa4fbb47c",
            "b424eb8c54774a778943073259dd2664",
            "108a0a452a18444cb68738d9fe410d80",
            "68286f35f77f4f409d1a1f2d5001a9a0",
            "c6d61ed8abb0445985d9813c98159912",
            "d07ea894b0ab4a49a6435a98b825fddd",
            "9347168bb75448c2a6083fe827759664",
            "665da5af93004e6790379829317adb25",
            "6a350838d5084f3ea506261a888ca8fc",
            "201aab94bdfb4175a467828eafa2cedd",
            "d28b3c762b984ab284ebbf5601ae9f59",
            "64d3f2a64ea24f71bb03277c10d6c2c0",
            "61e7fea6bb624d24a459bb297724eaa7",
            "764b65adffc04be1b370454e2428a729",
            "d47977738e524ed191dbeb90abf23482",
            "79eddaf2ec58419ba0c5f4fee918f731",
            "ba7be90ed37d4d37874e0a7ce75db514",
            "afa91fbf39b545319cea2b647a2ab94d",
            "480f9e7db3db4ce68574b22b570dea29",
            "d4de63235ee5412385b0a7cbcd954e53",
            "ebecd972356f4369a07906236a0d5c00",
            "607b3136f010410f9605d34b276baa15",
            "265def69825442ba960a9686aa77435d",
            "ba5e78ab69484428ad7dff3fbd5717a6",
            "7881fc00b77041aa98c065b342c3d616",
            "7d0dcb3d19a94ae8856ee50e4d2df169",
            "49d826d6060b4005af2cc932994c2362",
            "3b8d9810cd354865a9cf6c621be8cbbc",
            "1fabc73e11a24fba98997acb491e6c6d",
            "575105c4a6f14b24babad75d405d556e",
            "4e63e74e69d746a197dad448b4f4d5f5",
            "65407f259c264fcb8686ca337e37e0d0",
            "090ef56161f1454681d85413dda5815f",
            "ad00c05bac204e20a60a0cfd5993fba3",
            "924901f26c274d5b9a1a8a763a5a5664",
            "98f8dd600ecf476384f4e3a57f4b2f1c",
            "ade2f4065471437dbbd7ca1ebb1b1aba",
            "d66cb6f9716749a693d58387acb2e194",
            "f043c46cfddc418faa3ec5cb238645a8",
            "b63bae6ea8554ddea1a9ceaad7cd7843",
            "373658802f51402b9a73dce5696954cc",
            "fd0bf80687614f9cbd151235f9e2d8f7",
            "9af448a6a995448783acab49299daf9c",
            "2b12b3d757cf4931b8f2665c3804e9d8",
            "fac669d2836246e5a38fa29d592def0b",
            "1eb0a12893e74210afdb610523c09c38",
            "a96ffa57259e44af8a30424f87c9d6dc",
            "a11632f421294e94b242cde9908d075a",
            "520779aa72314c338698b8961b178011",
            "47de7f6fb3f044889f61d184b3912271",
            "9cb87d56f1f144c785f97c74cbc531f9",
            "6fbd5dd9ffa0438983dcccedb520a9d8",
            "1833a4e9fa6645cdb85913cffa27dce5",
            "f3be5ffcd4084e3d96b147a2bf3dce69",
            "121e0773cf92413ca32629a075f1d25e",
            "bb6c4f8b521c4b98b038c311b33d187e",
            "14e4c0aaa4e044fca8a25397eca409b4",
            "39bb5869492c471bb04a22f7cdc69070",
            "b23113e3e55a4484a7bdd752c2cfd6fb",
            "b0b4679d844c457abd9c56603214674d",
            "81df6cd687c44154b746b2353d9c3f73",
            "bedeb107949b4a07b067e67dbf3ee54e",
            "41def8e29c8647f69af940940aa7440f",
            "ac8e745c284c4bc7b94b5f1193c89a27",
            "e72eaf63a47340c2ae8c08d6da0ddeba",
            "b63674aaa3e24718a78c6bbbac93d650",
            "029d00be6efb4ead860b7a4d6bf1f43d",
            "d07146c64b1246f88f25ec52adc6e9ec",
            "2d9c8f594f924aa8a05cb8736b1bfdcc",
            "8d9dbb155c184c5baadc2495bd7b715a",
            "5a1b7e2b1c9f4cc09a095cd12b392a90",
            "22dd4543e7ea401d96dc121c8660f8b4"
          ]
        },
        "id": "7cbEuAmUspRO",
        "outputId": "6b5830af-5408-4875-b3c6-a64fe4b337c5"
      },
      "execution_count": 3,
      "outputs": [
        {
          "output_type": "display_data",
          "data": {
            "text/plain": [
              "Downloading:   0%|          | 0.00/1.18k [00:00<?, ?B/s]"
            ],
            "application/vnd.jupyter.widget-view+json": {
              "version_major": 2,
              "version_minor": 0,
              "model_id": "b4d474c830f948028f7f68f83baf5a72"
            }
          },
          "metadata": {}
        },
        {
          "output_type": "display_data",
          "data": {
            "text/plain": [
              "Downloading:   0%|          | 0.00/190 [00:00<?, ?B/s]"
            ],
            "application/vnd.jupyter.widget-view+json": {
              "version_major": 2,
              "version_minor": 0,
              "model_id": "e2c49488605f440b95d3f915bb4b65ab"
            }
          },
          "metadata": {}
        },
        {
          "output_type": "display_data",
          "data": {
            "text/plain": [
              "Downloading:   0%|          | 0.00/10.6k [00:00<?, ?B/s]"
            ],
            "application/vnd.jupyter.widget-view+json": {
              "version_major": 2,
              "version_minor": 0,
              "model_id": "67f37a0cc2584ec8b74ed848daf660fb"
            }
          },
          "metadata": {}
        },
        {
          "output_type": "display_data",
          "data": {
            "text/plain": [
              "Downloading:   0%|          | 0.00/571 [00:00<?, ?B/s]"
            ],
            "application/vnd.jupyter.widget-view+json": {
              "version_major": 2,
              "version_minor": 0,
              "model_id": "a1e406fd69a6444b80f42707591b38fc"
            }
          },
          "metadata": {}
        },
        {
          "output_type": "display_data",
          "data": {
            "text/plain": [
              "Downloading:   0%|          | 0.00/116 [00:00<?, ?B/s]"
            ],
            "application/vnd.jupyter.widget-view+json": {
              "version_major": 2,
              "version_minor": 0,
              "model_id": "5445c40f53f8466191f0da2fdff6cf87"
            }
          },
          "metadata": {}
        },
        {
          "output_type": "display_data",
          "data": {
            "text/plain": [
              "Downloading:   0%|          | 0.00/39.3k [00:00<?, ?B/s]"
            ],
            "application/vnd.jupyter.widget-view+json": {
              "version_major": 2,
              "version_minor": 0,
              "model_id": "a40358bec34143fda3642be2f4070a04"
            }
          },
          "metadata": {}
        },
        {
          "output_type": "display_data",
          "data": {
            "text/plain": [
              "Downloading:   0%|          | 0.00/438M [00:00<?, ?B/s]"
            ],
            "application/vnd.jupyter.widget-view+json": {
              "version_major": 2,
              "version_minor": 0,
              "model_id": "1e6c1a06cb8442dd88245d338f1b6907"
            }
          },
          "metadata": {}
        },
        {
          "output_type": "display_data",
          "data": {
            "text/plain": [
              "Downloading:   0%|          | 0.00/53.0 [00:00<?, ?B/s]"
            ],
            "application/vnd.jupyter.widget-view+json": {
              "version_major": 2,
              "version_minor": 0,
              "model_id": "4bc8c179537b4f40af3cfc280be630a7"
            }
          },
          "metadata": {}
        },
        {
          "output_type": "display_data",
          "data": {
            "text/plain": [
              "Downloading:   0%|          | 0.00/239 [00:00<?, ?B/s]"
            ],
            "application/vnd.jupyter.widget-view+json": {
              "version_major": 2,
              "version_minor": 0,
              "model_id": "9347168bb75448c2a6083fe827759664"
            }
          },
          "metadata": {}
        },
        {
          "output_type": "display_data",
          "data": {
            "text/plain": [
              "Downloading:   0%|          | 0.00/466k [00:00<?, ?B/s]"
            ],
            "application/vnd.jupyter.widget-view+json": {
              "version_major": 2,
              "version_minor": 0,
              "model_id": "afa91fbf39b545319cea2b647a2ab94d"
            }
          },
          "metadata": {}
        },
        {
          "output_type": "display_data",
          "data": {
            "text/plain": [
              "Downloading:   0%|          | 0.00/363 [00:00<?, ?B/s]"
            ],
            "application/vnd.jupyter.widget-view+json": {
              "version_major": 2,
              "version_minor": 0,
              "model_id": "1fabc73e11a24fba98997acb491e6c6d"
            }
          },
          "metadata": {}
        },
        {
          "output_type": "display_data",
          "data": {
            "text/plain": [
              "Downloading:   0%|          | 0.00/13.1k [00:00<?, ?B/s]"
            ],
            "application/vnd.jupyter.widget-view+json": {
              "version_major": 2,
              "version_minor": 0,
              "model_id": "b63bae6ea8554ddea1a9ceaad7cd7843"
            }
          },
          "metadata": {}
        },
        {
          "output_type": "display_data",
          "data": {
            "text/plain": [
              "Downloading:   0%|          | 0.00/232k [00:00<?, ?B/s]"
            ],
            "application/vnd.jupyter.widget-view+json": {
              "version_major": 2,
              "version_minor": 0,
              "model_id": "9cb87d56f1f144c785f97c74cbc531f9"
            }
          },
          "metadata": {}
        },
        {
          "output_type": "display_data",
          "data": {
            "text/plain": [
              "Downloading:   0%|          | 0.00/349 [00:00<?, ?B/s]"
            ],
            "application/vnd.jupyter.widget-view+json": {
              "version_major": 2,
              "version_minor": 0,
              "model_id": "bedeb107949b4a07b067e67dbf3ee54e"
            }
          },
          "metadata": {}
        }
      ]
    },
    {
      "cell_type": "markdown",
      "source": [
        "## Last year model from sentence transformers\n",
        "\n",
        "`paraphrase-mpnet-base-v2`"
      ],
      "metadata": {
        "id": "4HPDTKSp0vbI"
      }
    },
    {
      "cell_type": "code",
      "source": [
        "model_name_2 = 'paraphrase-mpnet-base-v2'\n",
        "model_2 = SentenceTransformer(model_name_2)"
      ],
      "metadata": {
        "colab": {
          "base_uri": "https://localhost:8080/",
          "height": 401,
          "referenced_widgets": [
            "75e173e19b6a4952b96f10021bdbcc54",
            "bd473e90df674abc8a2de721cbf3b8a5",
            "c5a33093328f4356b2d940f4d97ed222",
            "63fca9c1407845a0add3b1a1492c99a7",
            "8a1db30c68414cde8c856f8b0175ae0d",
            "7bbedfceeea942c7a5e60af93a0dc0d9",
            "629c347425d6451887c4531990ff7d81",
            "4f857d9e3dc7497f8992e122910b565c",
            "9add5ead19c44e5a8ecd26b2eb2e4fea",
            "91a4b98f99874a26bd6de0c0ec5a5164",
            "cb840a0625fc4c82bd198b4c654d954d",
            "bbd86299c1564828b88eb9f5f54d6710",
            "eb92e45c4b8d436980b4bd87d7ccb793",
            "68ade3101c774fd8bb49fca468a8e735",
            "1a55fe40206246f6b31aba96fefd8711",
            "8de03c383f2b490aab5270e3f4a4d713",
            "9767dc4e7f5841f68f6bea70fcc1b376",
            "21e4a1aa54114787a31a9c78edb1d868",
            "90755c54cc324572b3f1d07ba298b31b",
            "f3d082f83fb149859936f186a567536b",
            "6d4f08005c4244088f1e527c6f58f504",
            "a9effb2866f34af3b88417d310423be3",
            "9c3ab772fbc548b8ab9bc620cdfae10f",
            "f1bb4af4bc914d15a1a4c7de1b338b5d",
            "3948d76fa3a348ce98b90e41e94cd13a",
            "961917167bb74eb59e3e332bc8693af3",
            "ed14f755a94744ab9b934f2d3543b7ec",
            "d7e1186a90184765b2f546987456eecf",
            "70ce164a621c49f5b7351c6bfe9472ae",
            "1b30e57456864f85b446568d009e97f7",
            "bcca1e0c82a34d3b8a0b2d44e5251625",
            "3f4974ba63414a92a8186cbd963a70c7",
            "3cef6579e16648528088a3fe6b8cc68d",
            "c1dce68badbe4ccaba374f2b1bd87a19",
            "da420ccbf41c48c589c951be7ade281e",
            "afa7ec03dcd749ef8993204e7a8c4dfd",
            "cfa35e5d1e464c1ea222f81320b68ad5",
            "45dbd4fcc98e41f49e3e51a810558e2b",
            "4aad2d82c638455a8d9f3d22df8ee30d",
            "14efab7f65b04f7d909560025d100578",
            "c94e47492ab34f03bec6a0c53be9df0c",
            "46a05c312135456f9f27ef73abae60ac",
            "070ce0cff6434b37b2a82bdd927a998b",
            "6ee8554b61694a6cb130bcb3991855ec",
            "fad8be6726e740e988f018ddfda26359",
            "cdc349b7e34f4f6794add3ec53b61abd",
            "1a5e240a2883413ea88b4bc3774de0a3",
            "6af1a05589a841df8af199520f4cd388",
            "ac265f93e2e94bbbac374451231ec84d",
            "6cad20089e1747d381fa7b79480eddff",
            "bb1f0d8f4fa643f98be88fcc7453f852",
            "836907021d5d4b68bda69f1b74134a48",
            "2874e9dc8b9644f291eac5c28146a4d2",
            "2f05642157aa4a6898f72889c56cc4cf",
            "fba3c436f0fe4a31925a50a097e118e6",
            "84f633c3a961465aba8b619afcd224a3",
            "476aca4faf8248d486001d161c8040f8",
            "b62be623c26541d99bdd1ea215b5d27a",
            "ba7f32f2f75a427a973e1a6a531d4435",
            "f6a21c9240584a96bd6e1ec9560bb8da",
            "bcf31dc98fe14d2b84a94ea31d3d18b6",
            "cb7ed2d263e7427db5b49807df5600b5",
            "8166659d86c746b4a0287d0f65116a5b",
            "90848d6a735f42838a9f746f696e20fa",
            "a2e6138d6acb4b7a92f2cf926fba8b2c",
            "97be99f22ccd472dba35fcc7630558c4",
            "a00eb4952f7748dfa6fb79b6fdd9019e",
            "11e006b5cda840d49fe607b21ea9edc9",
            "851b16bf44d24f8f9276a77bc971f5de",
            "36d3118de68e490e9fcc2ea23f855e41",
            "c943903030cd4b9bae41b5a79b3eee86",
            "17cbb4259616493399b41d944b0c21c6",
            "d96ae326e4de4872a7c6a25a17550956",
            "d4ce87ffeb2546659f2498ea235f8c72",
            "3349b5dc7db34f4cb64518686728c381",
            "44a3222c27fb498490348c7d547da482",
            "1c2d42564fea4048beea728b8da1b3da",
            "664818dae3fe49d1add206d21216fa3d",
            "a86e40aacadb446ba66c802a080eb137",
            "5fa8c3eeac9e4aa6ab64d196bb40f49d",
            "0a3b3260eb6044fe907b32951ebac88c",
            "d5d1628bc65a40229fefd1a4061a49a3",
            "e36e0094565e4c379fae9b41e450ec8c",
            "c34dee8003124341b3fb86bdadfbf52d",
            "208cff028b854cfc9cbd38cc2ba3bade",
            "1540132d5eb94596a6db22105712357c",
            "af3e9eece2b6490fb3dcd25644fd80ac",
            "fcb8d5d560e948bb9b648f4310d72a9f",
            "a9299a6d9d1a43e29c692fd0ca9e0aa9",
            "96d3dcb6e63d46908bab575f3d3eed21",
            "f848b6f05198444795708a2cc88cf9f8",
            "1616e2f52ff34b32ab4c57f85f8b94ea",
            "910215e098984eda8c94732218eaddd0",
            "87d17ac649a3415fb3b4223956c31af1",
            "f6fb0cb2ebb544c9b8e38c1ce48e41b3",
            "ec5e292309a1490bb4baf40d742715f2",
            "60663b8f95024928b46e1d39cfb0a3f1",
            "f7ee1a3241a747d6ad9091737289c6a0",
            "c53886875f61448c9bb538edc0355776",
            "2c0adf9948e24ba5b66b194fc13f9a06",
            "0a72616a687a459b83d5da56b6371107",
            "8a4723e66fd241c590bd676ccbba952d",
            "67cfcac46a97474bb41e92e64be0830b",
            "999d9f958d144429a905ee2085a7accd",
            "62e6db1fe0754fbe9387607c17171f3b",
            "0145499dacd54c26b09ce9dc9af5a190",
            "dc35c6d651af4e95981d1fb1946cd20e",
            "acd78c9cbd724f8e89e9a4ff1ca6f032",
            "ea73a90e212d431e80958096dc3ba6f0",
            "a3b77b86be8f4714a4a901b40565f536",
            "eb2abff5546c44fc8002a64137b10ffe",
            "c02e91e8bf96481b92852867853312a7",
            "048715b3fbbe4c05b85cfc379dfb47d8",
            "3018af7739764fba8b3c499f780574c5",
            "ae5a59bfdf1f4b8f84c89c13ed524ea7",
            "4e7e97c57e5e43fbafad00bac9437d7b",
            "f8ff3a13d12c460498046010d83fdbe6",
            "67322560ffc1470aa8f732a62cf82971",
            "f7e5c91c4aaa48588b9add1727ec59e3",
            "4ca2e14534384f8e9b4fd4fee44f1fcb",
            "a1dbea91dfa844689ee47dd4123fcec9",
            "1d30bd30e8ef4ea5a448110f425e402c",
            "4233f393306e446fa79db6cdbecc7c57",
            "d6b25feeb00d41ba90e8679229853122",
            "4855af1de1bf4f8aacdd7d7ff9c0da96",
            "0d10320740654355879671384666e2e4",
            "c68e8af589d54a1387c0ad0a6bb9ce3f",
            "17b509307d6d481195ab42db41c6cf06",
            "12f7c915a15c4ee1a4a18c5dd403afec",
            "c162a5497441449e80cb3e2a07fd3c58",
            "f4a034bdb11d424e8c7589e0c0f4d806",
            "7261e6efa94a4a58be3a00da797603fe"
          ]
        },
        "id": "D5wP-3ng0v2A",
        "outputId": "cce18012-691d-4fc4-f257-47b4293d7572"
      },
      "execution_count": 4,
      "outputs": [
        {
          "output_type": "display_data",
          "data": {
            "text/plain": [
              "Downloading:   0%|          | 0.00/690 [00:00<?, ?B/s]"
            ],
            "application/vnd.jupyter.widget-view+json": {
              "version_major": 2,
              "version_minor": 0,
              "model_id": "75e173e19b6a4952b96f10021bdbcc54"
            }
          },
          "metadata": {}
        },
        {
          "output_type": "display_data",
          "data": {
            "text/plain": [
              "Downloading:   0%|          | 0.00/190 [00:00<?, ?B/s]"
            ],
            "application/vnd.jupyter.widget-view+json": {
              "version_major": 2,
              "version_minor": 0,
              "model_id": "bbd86299c1564828b88eb9f5f54d6710"
            }
          },
          "metadata": {}
        },
        {
          "output_type": "display_data",
          "data": {
            "text/plain": [
              "Downloading:   0%|          | 0.00/3.70k [00:00<?, ?B/s]"
            ],
            "application/vnd.jupyter.widget-view+json": {
              "version_major": 2,
              "version_minor": 0,
              "model_id": "9c3ab772fbc548b8ab9bc620cdfae10f"
            }
          },
          "metadata": {}
        },
        {
          "output_type": "display_data",
          "data": {
            "text/plain": [
              "Downloading:   0%|          | 0.00/594 [00:00<?, ?B/s]"
            ],
            "application/vnd.jupyter.widget-view+json": {
              "version_major": 2,
              "version_minor": 0,
              "model_id": "c1dce68badbe4ccaba374f2b1bd87a19"
            }
          },
          "metadata": {}
        },
        {
          "output_type": "display_data",
          "data": {
            "text/plain": [
              "Downloading:   0%|          | 0.00/122 [00:00<?, ?B/s]"
            ],
            "application/vnd.jupyter.widget-view+json": {
              "version_major": 2,
              "version_minor": 0,
              "model_id": "fad8be6726e740e988f018ddfda26359"
            }
          },
          "metadata": {}
        },
        {
          "output_type": "display_data",
          "data": {
            "text/plain": [
              "Downloading:   0%|          | 0.00/438M [00:00<?, ?B/s]"
            ],
            "application/vnd.jupyter.widget-view+json": {
              "version_major": 2,
              "version_minor": 0,
              "model_id": "84f633c3a961465aba8b619afcd224a3"
            }
          },
          "metadata": {}
        },
        {
          "output_type": "display_data",
          "data": {
            "text/plain": [
              "Downloading:   0%|          | 0.00/53.0 [00:00<?, ?B/s]"
            ],
            "application/vnd.jupyter.widget-view+json": {
              "version_major": 2,
              "version_minor": 0,
              "model_id": "a00eb4952f7748dfa6fb79b6fdd9019e"
            }
          },
          "metadata": {}
        },
        {
          "output_type": "display_data",
          "data": {
            "text/plain": [
              "Downloading:   0%|          | 0.00/239 [00:00<?, ?B/s]"
            ],
            "application/vnd.jupyter.widget-view+json": {
              "version_major": 2,
              "version_minor": 0,
              "model_id": "664818dae3fe49d1add206d21216fa3d"
            }
          },
          "metadata": {}
        },
        {
          "output_type": "display_data",
          "data": {
            "text/plain": [
              "Downloading:   0%|          | 0.00/466k [00:00<?, ?B/s]"
            ],
            "application/vnd.jupyter.widget-view+json": {
              "version_major": 2,
              "version_minor": 0,
              "model_id": "a9299a6d9d1a43e29c692fd0ca9e0aa9"
            }
          },
          "metadata": {}
        },
        {
          "output_type": "display_data",
          "data": {
            "text/plain": [
              "Downloading:   0%|          | 0.00/1.19k [00:00<?, ?B/s]"
            ],
            "application/vnd.jupyter.widget-view+json": {
              "version_major": 2,
              "version_minor": 0,
              "model_id": "2c0adf9948e24ba5b66b194fc13f9a06"
            }
          },
          "metadata": {}
        },
        {
          "output_type": "display_data",
          "data": {
            "text/plain": [
              "Downloading:   0%|          | 0.00/232k [00:00<?, ?B/s]"
            ],
            "application/vnd.jupyter.widget-view+json": {
              "version_major": 2,
              "version_minor": 0,
              "model_id": "eb2abff5546c44fc8002a64137b10ffe"
            }
          },
          "metadata": {}
        },
        {
          "output_type": "display_data",
          "data": {
            "text/plain": [
              "Downloading:   0%|          | 0.00/229 [00:00<?, ?B/s]"
            ],
            "application/vnd.jupyter.widget-view+json": {
              "version_major": 2,
              "version_minor": 0,
              "model_id": "1d30bd30e8ef4ea5a448110f425e402c"
            }
          },
          "metadata": {}
        }
      ]
    },
    {
      "cell_type": "markdown",
      "source": [
        "## Simple test"
      ],
      "metadata": {
        "id": "Wjy0ShiitCB9"
      }
    },
    {
      "cell_type": "code",
      "source": [
        "q1 = \"what is the united stats population?\"\n",
        "q2 = \"how many people live in the united states?\"\n",
        "\n",
        "# Compute embedding for both lists\n",
        "emb_1 = model_1.encode(q1, convert_to_tensor=True)\n",
        "emb_2 = model_1.encode(q2, convert_to_tensor=True)\n",
        "\n",
        "# Compute cosine-similarits\n",
        "cosine_sim = util.pytorch_cos_sim(emb_1, emb_2).item()\n",
        "print(\"Cosine sim from : {} - model name: {}\".format(round(cosine_sim, 3), model_name_1))"
      ],
      "metadata": {
        "colab": {
          "base_uri": "https://localhost:8080/"
        },
        "id": "usHcLnCDtED1",
        "outputId": "1674f965-42d3-4f03-f786-ac957d29d81c"
      },
      "execution_count": 11,
      "outputs": [
        {
          "output_type": "stream",
          "name": "stdout",
          "text": [
            "Cosine sim from : 0.7886649370193481 - model name: all-mpnet-base-v2\n"
          ]
        }
      ]
    },
    {
      "cell_type": "code",
      "source": [
        "q1 = \"what is the united stats population?\"\n",
        "q2 = \"how many people live in the united states?\"\n",
        "\n",
        "# Compute embedding for both lists\n",
        "emb_1 = model_2.encode(q1, convert_to_tensor=True)\n",
        "emb_2 = model_2.encode(q2, convert_to_tensor=True)\n",
        "\n",
        "# Compute cosine-similarits\n",
        "cosine_sim = util.pytorch_cos_sim(emb_1, emb_2).item()\n",
        "print(\"Cosine sim from : {} - model name: {}\".format(round(cosine_sim, 3), model_name_2))"
      ],
      "metadata": {
        "colab": {
          "base_uri": "https://localhost:8080/"
        },
        "id": "JruzHW8v1LSy",
        "outputId": "b11fc9e8-9502-41b7-a223-54d2839cec1d"
      },
      "execution_count": 12,
      "outputs": [
        {
          "output_type": "stream",
          "name": "stdout",
          "text": [
            "Cosine sim from : 0.773 - model name: paraphrase-mpnet-base-v2\n"
          ]
        }
      ]
    },
    {
      "cell_type": "markdown",
      "source": [
        "## Test MCQ\n",
        "\n",
        "Chemistry problems:\n",
        "\n",
        "https://www.chem.tamu.edu/class/fyp/mcquest/ch1.html\n",
        "https://www.chem.tamu.edu/class/fyp/mcquest/mcquest.html"
      ],
      "metadata": {
        "id": "qfudwvWptvLG"
      }
    },
    {
      "cell_type": "code",
      "source": [
        "test_1 = \"\"\"\n",
        "Of the following name/symbol combinations of elements, which one is WRONG?\n",
        "(a) uranium/U\n",
        "(b) sulfur/S\n",
        "(c) nitrogen/N\n",
        "(d) potassium/K\n",
        "(e) iron/I\n",
        "\"\"\"\n",
        "\n",
        "test_1_reordered_1 = \"\"\"\n",
        "(a) uranium/U\n",
        "(b) sulfur/S\n",
        "(c) nitrogen/N\n",
        "(d) potassium/K\n",
        "(e) iron/I\n",
        "Of the following name/symbol combinations of elements, which one is WRONG?\n",
        "\"\"\"\n",
        "\n",
        "test_1_reordered_2 = \"\"\"\n",
        "uranium/U\n",
        "sulfur/S\n",
        "nitrogen/N\n",
        "potassium/K\n",
        "iron/I\n",
        "(a)\n",
        "(b)\n",
        "(c)\n",
        "(e)\n",
        "(d)\n",
        "Of the following name/symbol combinations of elements, which one is WRONG?\n",
        "\"\"\"\n",
        "\n",
        "test_1_reordered_3 = \"\"\"\n",
        "(a)\n",
        "iron/I\n",
        "(b)\n",
        "potassium/K\n",
        "(c)\n",
        "nitrogen/N\n",
        "(d) \n",
        "sulfur/S\n",
        "(e) \n",
        "uranium/U\n",
        "Of the following name/symbol combinations of elements, which one is WRONG?\n",
        "\"\"\"\n",
        "\n",
        "test_1_truncated_4 = \"\"\"\n",
        "Of the following name/symbol combinations of elements, which one is WRONG?\n",
        "(a) uranium/U\n",
        "(b) sulfur/S\n",
        "(c) nitrogen/N\n",
        "(d) potassium/K\n",
        "\"\"\"\n",
        "\n",
        "test_1_truncated_5 = \"\"\"\n",
        "Of the following name/symbol combinations of elements, which one is WRONG?\n",
        "(a) uranium/U\n",
        "(b) sulfur/S\n",
        "(d) potassium/K\n",
        "(e) iron/I\n",
        "\"\"\"\n",
        "\n",
        "test_1_truncated_6 = \"\"\"\n",
        "Of the following name/symbol combinations of elements, which one is WRONG?\n",
        "(a) uranium/U\n",
        "(b) sulfur/S\n",
        "(c) nitrogen/N\n",
        "\"\"\"\n",
        "\n",
        "test_1_truncated_7 = \"\"\"\n",
        "Of the following name/symbol combinations of elements, which one is WRONG?\n",
        "(a) uranium/U\n",
        "(b) sulfur/S\n",
        "\"\"\"\n",
        "\n",
        "test_1_truncated_8 = \"\"\"\n",
        "Of the following name/symbol combinations of elements, which one is WRONG?\n",
        "(a) uranium/U\n",
        "\"\"\"\n",
        "\n",
        "test_1_truncated_9 = \"\"\"\n",
        "Of the following name/symbol combinations of elements, which one is WRONG?\n",
        "(b) sulfur/S\n",
        "\"\"\"\n",
        "\n",
        "test_1_truncated_10 = \"\"\"\n",
        "Of the following name/symbol combinations of elements, which one is WRONG?\n",
        "(c) nitrogen/N\n",
        "\"\"\"\n",
        "\n",
        "test_1_truncated_11 = \"\"\"\n",
        "Of the following name/symbol combinations of elements, which one is WRONG?\n",
        "(d) potassium/K\n",
        "\"\"\"\n",
        "\n",
        "test_1_truncated_12 = \"\"\"\n",
        "Of the following name/symbol combinations of elements, which one is WRONG?\n",
        "(e) iron/I\n",
        "\"\"\"\n",
        "\n",
        "test_1_truncated_13 = \"\"\"\n",
        "Of the following name/symbol combinations of elements, which one is WRONG?\n",
        "(e) iron/Fe\n",
        "\"\"\""
      ],
      "metadata": {
        "id": "getsG7ZPtxme"
      },
      "execution_count": 13,
      "outputs": []
    },
    {
      "cell_type": "code",
      "source": [
        "queries_2 = [test_1_reordered_1, test_1_reordered_2, test_1_reordered_3, test_1_truncated_4, test_1_truncated_5, test_1_truncated_6, test_1_truncated_7, test_1_truncated_8, test_1_truncated_9, \n",
        "             test_1_truncated_10, test_1_truncated_11, test_1_truncated_12, test_1_truncated_13]\n",
        "queries_1 = len(queries_2)*[test_1]\n",
        "\n",
        "# Compute embedding for both lists\n",
        "embeddings1 = model_1.encode(queries_1, convert_to_tensor=True)\n",
        "embeddings2 = model_1.encode(queries_2, convert_to_tensor=True)\n",
        "\n",
        "# Compute cosine-similarits\n",
        "cosine_scores = util.pytorch_cos_sim(embeddings1, embeddings2)\n",
        "\n",
        "# Output the pairs with their score\n",
        "for i in range(len(queries_1)):\n",
        "    print(\"{} \\t\\t {} \\t\\t Score: {:.4f}\\n\\n\".format(queries_1[i], queries_2[i], round(cosine_scores[i][i].item(), 2)))"
      ],
      "metadata": {
        "colab": {
          "base_uri": "https://localhost:8080/"
        },
        "id": "m5B2c6ieuX-f",
        "outputId": "97e27fef-1821-4ecc-b129-2c3f46b4c7bd"
      },
      "execution_count": 17,
      "outputs": [
        {
          "output_type": "stream",
          "name": "stdout",
          "text": [
            "\n",
            "Of the following name/symbol combinations of elements, which one is WRONG?\n",
            "(a) uranium/U\n",
            "(b) sulfur/S\n",
            "(c) nitrogen/N\n",
            "(d) potassium/K\n",
            "(e) iron/I\n",
            " \t\t \n",
            "(a) uranium/U\n",
            "(b) sulfur/S\n",
            "(c) nitrogen/N\n",
            "(d) potassium/K\n",
            "(e) iron/I\n",
            "Of the following name/symbol combinations of elements, which one is WRONG?\n",
            " \t\t Score: 0.9800\n",
            "\n",
            "\n",
            "\n",
            "Of the following name/symbol combinations of elements, which one is WRONG?\n",
            "(a) uranium/U\n",
            "(b) sulfur/S\n",
            "(c) nitrogen/N\n",
            "(d) potassium/K\n",
            "(e) iron/I\n",
            " \t\t \n",
            "uranium/U\n",
            "sulfur/S\n",
            "nitrogen/N\n",
            "potassium/K\n",
            "iron/I\n",
            "(a)\n",
            "(b)\n",
            "(c)\n",
            "(e)\n",
            "(d)\n",
            "Of the following name/symbol combinations of elements, which one is WRONG?\n",
            " \t\t Score: 0.9800\n",
            "\n",
            "\n",
            "\n",
            "Of the following name/symbol combinations of elements, which one is WRONG?\n",
            "(a) uranium/U\n",
            "(b) sulfur/S\n",
            "(c) nitrogen/N\n",
            "(d) potassium/K\n",
            "(e) iron/I\n",
            " \t\t \n",
            "(a)\n",
            "iron/I\n",
            "(b)\n",
            "potassium/K\n",
            "(c)\n",
            "nitrogen/N\n",
            "(d) \n",
            "sulfur/S\n",
            "(e) \n",
            "uranium/U\n",
            "Of the following name/symbol combinations of elements, which one is WRONG?\n",
            " \t\t Score: 0.9700\n",
            "\n",
            "\n",
            "\n",
            "Of the following name/symbol combinations of elements, which one is WRONG?\n",
            "(a) uranium/U\n",
            "(b) sulfur/S\n",
            "(c) nitrogen/N\n",
            "(d) potassium/K\n",
            "(e) iron/I\n",
            " \t\t \n",
            "Of the following name/symbol combinations of elements, which one is WRONG?\n",
            "(a) uranium/U\n",
            "(b) sulfur/S\n",
            "(c) nitrogen/N\n",
            "(d) potassium/K\n",
            " \t\t Score: 0.9800\n",
            "\n",
            "\n",
            "\n",
            "Of the following name/symbol combinations of elements, which one is WRONG?\n",
            "(a) uranium/U\n",
            "(b) sulfur/S\n",
            "(c) nitrogen/N\n",
            "(d) potassium/K\n",
            "(e) iron/I\n",
            " \t\t \n",
            "Of the following name/symbol combinations of elements, which one is WRONG?\n",
            "(a) uranium/U\n",
            "(b) sulfur/S\n",
            "(d) potassium/K\n",
            "(e) iron/I\n",
            " \t\t Score: 0.9900\n",
            "\n",
            "\n",
            "\n",
            "Of the following name/symbol combinations of elements, which one is WRONG?\n",
            "(a) uranium/U\n",
            "(b) sulfur/S\n",
            "(c) nitrogen/N\n",
            "(d) potassium/K\n",
            "(e) iron/I\n",
            " \t\t \n",
            "Of the following name/symbol combinations of elements, which one is WRONG?\n",
            "(a) uranium/U\n",
            "(b) sulfur/S\n",
            "(c) nitrogen/N\n",
            " \t\t Score: 0.9600\n",
            "\n",
            "\n",
            "\n",
            "Of the following name/symbol combinations of elements, which one is WRONG?\n",
            "(a) uranium/U\n",
            "(b) sulfur/S\n",
            "(c) nitrogen/N\n",
            "(d) potassium/K\n",
            "(e) iron/I\n",
            " \t\t \n",
            "Of the following name/symbol combinations of elements, which one is WRONG?\n",
            "(a) uranium/U\n",
            "(b) sulfur/S\n",
            " \t\t Score: 0.9300\n",
            "\n",
            "\n",
            "\n",
            "Of the following name/symbol combinations of elements, which one is WRONG?\n",
            "(a) uranium/U\n",
            "(b) sulfur/S\n",
            "(c) nitrogen/N\n",
            "(d) potassium/K\n",
            "(e) iron/I\n",
            " \t\t \n",
            "Of the following name/symbol combinations of elements, which one is WRONG?\n",
            "(a) uranium/U\n",
            " \t\t Score: 0.9100\n",
            "\n",
            "\n",
            "\n",
            "Of the following name/symbol combinations of elements, which one is WRONG?\n",
            "(a) uranium/U\n",
            "(b) sulfur/S\n",
            "(c) nitrogen/N\n",
            "(d) potassium/K\n",
            "(e) iron/I\n",
            " \t\t \n",
            "Of the following name/symbol combinations of elements, which one is WRONG?\n",
            "(b) sulfur/S\n",
            " \t\t Score: 0.8300\n",
            "\n",
            "\n",
            "\n",
            "Of the following name/symbol combinations of elements, which one is WRONG?\n",
            "(a) uranium/U\n",
            "(b) sulfur/S\n",
            "(c) nitrogen/N\n",
            "(d) potassium/K\n",
            "(e) iron/I\n",
            " \t\t \n",
            "Of the following name/symbol combinations of elements, which one is WRONG?\n",
            "(c) nitrogen/N\n",
            " \t\t Score: 0.8000\n",
            "\n",
            "\n",
            "\n",
            "Of the following name/symbol combinations of elements, which one is WRONG?\n",
            "(a) uranium/U\n",
            "(b) sulfur/S\n",
            "(c) nitrogen/N\n",
            "(d) potassium/K\n",
            "(e) iron/I\n",
            " \t\t \n",
            "Of the following name/symbol combinations of elements, which one is WRONG?\n",
            "(d) potassium/K\n",
            " \t\t Score: 0.8100\n",
            "\n",
            "\n",
            "\n",
            "Of the following name/symbol combinations of elements, which one is WRONG?\n",
            "(a) uranium/U\n",
            "(b) sulfur/S\n",
            "(c) nitrogen/N\n",
            "(d) potassium/K\n",
            "(e) iron/I\n",
            " \t\t \n",
            "Of the following name/symbol combinations of elements, which one is WRONG?\n",
            "(e) iron/I\n",
            " \t\t Score: 0.8200\n",
            "\n",
            "\n",
            "\n",
            "Of the following name/symbol combinations of elements, which one is WRONG?\n",
            "(a) uranium/U\n",
            "(b) sulfur/S\n",
            "(c) nitrogen/N\n",
            "(d) potassium/K\n",
            "(e) iron/I\n",
            " \t\t \n",
            "Of the following name/symbol combinations of elements, which one is WRONG?\n",
            "(e) iron/Fe\n",
            " \t\t Score: 0.7900\n",
            "\n",
            "\n"
          ]
        }
      ]
    },
    {
      "cell_type": "markdown",
      "source": [
        "## Test BERT Tokenizer / OOV\n",
        "\n",
        "https://albertauyeung.github.io/2020/06/19/bert-tokenization.html/\n",
        "\n",
        "We can test BERT Tokenizer:\n",
        "https://huggingface.co/docs/transformers/model_doc/bert\n",
        "\n",
        "BERT has `vocab_size = 30522` tokens!\n",
        "\n",
        "When the BERT model was trained, each token was given a unique ID. Hence, when we want to use a pre-trained BERT model, we will first need to convert each token in the input sentence into its corresponding unique IDs.\n",
        "\n",
        "There is an important point to note when we use a pre-trained model. Since the model is pre-trained on a certain corpus, the vocabulary was also fixed. In other words, when we apply a pre-trained model to some other data, it is possible that some tokens in the new data might not appear in the fixed vocabulary of the pre-trained model. This is commonly known as the out-of-vocabulary (OOV) problem.\n",
        "\n",
        "For tokens not appearing in the original vocabulary, it is designed that they should be replaced with a special token [UNK], which stands for unknown token.\n",
        "\n",
        "However, converting all unseen tokens into [UNK] will take away a lot of information from the input data. Hence, BERT makes use of a WordPiece algorithm that breaks a word into several subwords, such that commonly seen subwords can also be represented by the model.\n",
        "\n",
        "It seems `[UNK]` or unkown token has ID of 100 in `BERT`!\n",
        "\n",
        "It For the pre-training corpus BERT used the BooksCorpus (800M words) and English Wikipedia (2,500M words). For Wikipedia we extract only the text passages and ignore lists, tables, and headers.\n",
        "\n",
        "https://arxiv.org/pdf/1810.04805.pdf"
      ],
      "metadata": {
        "id": "zKa6p2s15_yG"
      }
    },
    {
      "cell_type": "code",
      "source": [
        "bert_tz = BertTokenizer.from_pretrained(\"bert-base-cased\")"
      ],
      "metadata": {
        "colab": {
          "base_uri": "https://localhost:8080/",
          "height": 113,
          "referenced_widgets": [
            "3ce00e512017461885f8780f739b5644",
            "75e6b4a50f3d48ceb18775aa9cbcc611",
            "213042b8a1e44d5fa17c92c5e54b9dcb",
            "ad2cb7d3ee634fa3aa4dd81a306e6135",
            "898eb39619be4cc4ab21dc01f36f22eb",
            "ab4017e6fd35424f81da8db295d3da36",
            "dfee6d344ff94f8bb4c885e8e9557069",
            "43bc8ff73e434d66a23510b21daa89b4",
            "e67221d85c3945bcae99c0045f660ce4",
            "9c1a1a8ef84e495686c15db715522d19",
            "7390bb0165884b108ecc891812ae7e91",
            "672b72ae81ac456aaac5c6a3be144b76",
            "ef5858d6e4d844b496524074a4daddcc",
            "695de6114d324df980486a91b648b15c",
            "8b4deb787b6141e48bb580e072b1357c",
            "adfcc4896270410ea4151b9fc430a4b4",
            "0764aae31255497fbed5ce7cb1e1793f",
            "504590e74133486bb656b55744bbf537",
            "94becb7b506c402bb867b6eb462ba414",
            "2e6b87d907054cb8a3f11fe203aa9cf4",
            "9c7c97505ed1435894dc2050e28984c8",
            "e9619635e95941b49b7f804b566dd3ea",
            "3ae5c3331aa0418b86d666365bc5951b",
            "b8e81bbecfe741b1ba13e7a6ac8068e3",
            "35f0d59be19946e38122320fc1d98084",
            "99d5e916852c4295a92ab014d6165306",
            "92a6b3993b734a988f6b0ffd5f3e03a2",
            "3190fa31afb04c46a7ccd24a00e2890d",
            "9c4818198fe34b21bf5629fc4507f28a",
            "f1c1fcf9fff64aabb038f277c71fe19e",
            "983a8fa1268845e5a10e1db9b7ef30c3",
            "b6abd3467d124029a84c583a31be8ef6",
            "0492ed66e21b4a6bbc27358592750602"
          ]
        },
        "id": "3wDq1lO16C0y",
        "outputId": "ca428c9c-4a43-4333-d59c-519dec8496d3"
      },
      "execution_count": 18,
      "outputs": [
        {
          "output_type": "display_data",
          "data": {
            "text/plain": [
              "Downloading vocab.txt:   0%|          | 0.00/208k [00:00<?, ?B/s]"
            ],
            "application/vnd.jupyter.widget-view+json": {
              "version_major": 2,
              "version_minor": 0,
              "model_id": "3ce00e512017461885f8780f739b5644"
            }
          },
          "metadata": {}
        },
        {
          "output_type": "display_data",
          "data": {
            "text/plain": [
              "Downloading tokenizer_config.json:   0%|          | 0.00/29.0 [00:00<?, ?B/s]"
            ],
            "application/vnd.jupyter.widget-view+json": {
              "version_major": 2,
              "version_minor": 0,
              "model_id": "672b72ae81ac456aaac5c6a3be144b76"
            }
          },
          "metadata": {}
        },
        {
          "output_type": "display_data",
          "data": {
            "text/plain": [
              "Downloading config.json:   0%|          | 0.00/570 [00:00<?, ?B/s]"
            ],
            "application/vnd.jupyter.widget-view+json": {
              "version_major": 2,
              "version_minor": 0,
              "model_id": "3ae5c3331aa0418b86d666365bc5951b"
            }
          },
          "metadata": {}
        }
      ]
    },
    {
      "cell_type": "code",
      "source": [
        "bert_tz.convert_tokens_to_ids([\"characteristically\"])\n",
        "# UNK --> [100]"
      ],
      "metadata": {
        "colab": {
          "base_uri": "https://localhost:8080/"
        },
        "id": "S--gGX7k6HTr",
        "outputId": "19e62928-1f4b-4b83-e3b6-93ebb721c607"
      },
      "execution_count": 19,
      "outputs": [
        {
          "output_type": "execute_result",
          "data": {
            "text/plain": [
              "[100]"
            ]
          },
          "metadata": {},
          "execution_count": 19
        }
      ]
    },
    {
      "cell_type": "code",
      "source": [
        "sent = \"He remains characteristically confident and optimistic.\"\n",
        "bert_tz.tokenize(sent)"
      ],
      "metadata": {
        "id": "-nWR4ENI78E2",
        "outputId": "c7828d80-68c9-477a-a4e8-404ff5feb96e",
        "colab": {
          "base_uri": "https://localhost:8080/"
        }
      },
      "execution_count": 38,
      "outputs": [
        {
          "output_type": "execute_result",
          "data": {
            "text/plain": [
              "['He',\n",
              " 'remains',\n",
              " 'characteristic',\n",
              " '##ally',\n",
              " 'confident',\n",
              " 'and',\n",
              " 'optimistic',\n",
              " '.']"
            ]
          },
          "metadata": {},
          "execution_count": 38
        }
      ]
    },
    {
      "cell_type": "code",
      "source": [
        "## Persian word!!\n",
        "bert_tz.convert_tokens_to_ids([\"سلام\"])"
      ],
      "metadata": {
        "id": "-byrbeoJ0hxX",
        "outputId": "439cf342-4ac4-4f5c-b6db-2bfb4251fcb6",
        "colab": {
          "base_uri": "https://localhost:8080/"
        }
      },
      "execution_count": 20,
      "outputs": [
        {
          "output_type": "execute_result",
          "data": {
            "text/plain": [
              "[100]"
            ]
          },
          "metadata": {},
          "execution_count": 20
        }
      ]
    },
    {
      "cell_type": "code",
      "source": [
        "## Made up word\n",
        "bert_tz.convert_tokens_to_ids([\"xzslsopsksgdgfagsfagfsgafsa\"])"
      ],
      "metadata": {
        "id": "8qzl3SUx0_nc",
        "outputId": "4038a8af-e5c9-4557-dbbb-03441f2148b3",
        "colab": {
          "base_uri": "https://localhost:8080/"
        }
      },
      "execution_count": 21,
      "outputs": [
        {
          "output_type": "execute_result",
          "data": {
            "text/plain": [
              "[100]"
            ]
          },
          "metadata": {},
          "execution_count": 21
        }
      ]
    },
    {
      "cell_type": "markdown",
      "source": [
        "## Let's check som especial terms in BERT\n",
        "\n",
        "1. math formual/symbols\n",
        "2. Biology terms\n",
        "3. Physics\n",
        "4. Chemistry\n",
        "5. Law\n",
        "6. Accounting"
      ],
      "metadata": {
        "id": "SZonEZFQ1MvX"
      }
    },
    {
      "cell_type": "markdown",
      "source": [
        "## Math\n",
        "\n",
        "\n",
        "https://www.math.ucdavis.edu/~kouba/CalcTwoDIRECTORY/areadirectory/Area.html"
      ],
      "metadata": {
        "id": "6K_tvttY1p0V"
      }
    },
    {
      "cell_type": "code",
      "source": [
        "math_tokens = [\"h(x)\", \"y=x2\"]\n",
        "\n",
        "for token in math_tokens:\n",
        "  print(bert_tz.convert_tokens_to_ids([token]))"
      ],
      "metadata": {
        "id": "u-bZyg2S1MA8",
        "outputId": "75191884-f3df-4b96-9ed4-a6989a0ff8a9",
        "colab": {
          "base_uri": "https://localhost:8080/"
        }
      },
      "execution_count": 33,
      "outputs": [
        {
          "output_type": "stream",
          "name": "stdout",
          "text": [
            "[100]\n",
            "[100]\n"
          ]
        }
      ]
    },
    {
      "cell_type": "markdown",
      "source": [
        "## Biology\n",
        "\n",
        "https://ocw.mit.edu/courses/7-012-introduction-to-biology-fall-2004/resources/ps1q/\n",
        "\n",
        "`\"\"\"\n",
        "Question 2\n",
        "A new startup company hires you to help with their product development. Your task is to find\n",
        "a protein that interacts with a polysaccharide.\n",
        "a) You find a large protein that has a single binding site for the polysaccharide cellulose.\n",
        "Which amino acids might you expect to find in the binding pocket of the protein? What is the\n",
        "strongest type of interaction possible between these amino acids and the cellulose?\n",
        "\"\"\"`"
      ],
      "metadata": {
        "id": "FNN84HVE38Wr"
      }
    },
    {
      "cell_type": "code",
      "source": [
        "bio_tokens = [\"polysaccharide\", \"cellulose\", \"acids\"]\n",
        "\n",
        "for token in bio_tokens:\n",
        "  print(bert_tz.convert_tokens_to_ids([token]))"
      ],
      "metadata": {
        "id": "xyvVSPaW24gf",
        "outputId": "530d48d2-b40c-4b87-f9db-3d9f45cf21cf",
        "colab": {
          "base_uri": "https://localhost:8080/"
        }
      },
      "execution_count": 34,
      "outputs": [
        {
          "output_type": "stream",
          "name": "stdout",
          "text": [
            "[100]\n",
            "[100]\n",
            "[13087]\n"
          ]
        }
      ]
    },
    {
      "cell_type": "markdown",
      "source": [
        "## CHEM Practice Problems\n",
        "\n",
        "https://ocw.mit.edu/courses/3-091-introduction-to-solid-state-chemistry-fall-2018/resources/mit3_091f18_ppa/\n",
        "\n",
        "`\"\"\"\n",
        "Give the symbol AX for these elements, all of which exist as a single isotope: Z\n",
        "a. beryllium\n",
        "b. ruthenium\n",
        "c. phosphorus\n",
        "d. aluminum\n",
        "e. cesium\n",
        "f. praseodymium\n",
        "g. colbalt\n",
        "h. yttrium\n",
        "i. arsenic\n",
        "\"\"\"`\n",
        "\n",
        "`Calculate the molecular mass or formula mass (molar mass) of each compound:\n",
        "a. V2O4 (vanadium(IV) oxide)\n",
        "b. CaSiO3 (calcium silicate)\n",
        "c. BiOCl (bismuth oxychloride)\n",
        "d. CH3COOH (acetic acid)\n",
        "e. Ag2SO4 (silver sulfate)\n",
        "f. Na2CO3 (sodium carbonate)\n",
        "g. (CH3)2CHOH (isopropyl alchohol)`"
      ],
      "metadata": {
        "id": "pVw4_PjK5Erw"
      }
    },
    {
      "cell_type": "code",
      "source": [
        "chem_tokens = [\"aluminum\", \"yttrium\", \"praseodymium\", \"isotope\", \"beryllium\", \"ruthenium\", \"BiOCl\", \"Ag2SO4\", \"molecular\", \"(CH3)2CHOH\"]\n",
        "\n",
        "for token in chem_tokens:\n",
        "  print(bert_tz.convert_tokens_to_ids([token]))"
      ],
      "metadata": {
        "id": "ms8Y1QwH5D6D",
        "outputId": "474a80a5-c5b8-4a5a-c0dd-8fc941021136",
        "colab": {
          "base_uri": "https://localhost:8080/"
        }
      },
      "execution_count": 46,
      "outputs": [
        {
          "output_type": "stream",
          "name": "stdout",
          "text": [
            "[14349]\n",
            "[100]\n",
            "[100]\n",
            "[100]\n",
            "[100]\n",
            "[100]\n",
            "[100]\n",
            "[100]\n",
            "[9546]\n",
            "[100]\n"
          ]
        }
      ]
    },
    {
      "cell_type": "markdown",
      "source": [
        "## MLPNET Tokenizer\n",
        "\n",
        "OOV tests\n",
        "\n",
        "https://huggingface.co/docs/transformers/model_doc/mpnet#transformers.MPNetTokenizerFast\n",
        "\n",
        "\n",
        "MPNet tokenizer:\n",
        "https://github.com/huggingface/transformers/blob/main/src/transformers/models/mpnet/tokenization_mpnet.py"
      ],
      "metadata": {
        "id": "AaboN51A6ajw"
      }
    },
    {
      "cell_type": "code",
      "source": [
        "mpnet_tz = MPNetTokenizer.from_pretrained(\"microsoft/mpnet-base\")\n",
        "model = MPNetModel.from_pretrained(\"microsoft/mpnet-base\")"
      ],
      "metadata": {
        "colab": {
          "base_uri": "https://localhost:8080/",
          "height": 225,
          "referenced_widgets": [
            "8bacbc722e8147be884f2771c4df88db",
            "ea7d003119f04602975da56275419864",
            "9f4005401d874bb799ab098afb978e8b",
            "787223de4af1498483d9f5232a6d9896",
            "53cdf519cd2540458341e85c2a62dc95",
            "5f38aafee2804e31add222db2fa7badf",
            "570da38ff5c643f7802f4e104aa7f24e",
            "71fd9fb0b1db4cf08702ba1d3c8ede62",
            "7c712dc612464d8c9942e7b0585e18b6",
            "385819b44b8f413fa3e9bfa91c3e7a26",
            "41382bc4956a441abc306c8bb8627e63",
            "eea8ff50a97c400fba8aa938eb186ce3",
            "fad671aabd4f42cca04078f3a12f70dc",
            "6d6d21137f64479a806e2c45ec9e4cdb",
            "915248b5682644259d35627c544f8cc8",
            "d403c2aa690849feb0a1ed7f0534e6ce",
            "dc90b3658b5f4f229004b789a853d7c8",
            "9f4a1a5c4bd6436ab4d32a477fed17b4",
            "94d9fa35f94b45af8fac2df5f36de505",
            "b1130259d7c24203828bf9155a23d000",
            "a11cf020bce444fd96e380d44c871347",
            "22bf787efa704c33b48dd4eb8b6a30c1",
            "e59064a9a2e84f7da989a65fc8d92fe8",
            "fc9c4aa517cc4b20a884338f8a485636",
            "1019237f00d9467d8099e6c12cedc0e7",
            "b11bb516440e4be3933ab7a375780470",
            "aa233dbcf0b9443f8f69f4bb44f3f7be",
            "03d431ab2c604eac82518f7e45daaa98",
            "1b4a440e20694f59a58e8056dd6c8108",
            "47ad7a204caa4d8a8e195caeb64971a9",
            "b7041350717a4bd1a3917319a64e793e",
            "6c860c3ccca9447fb3952bf94ddedf24",
            "4e8c979f42f34bd29e4f7e75c91011d2"
          ]
        },
        "id": "-077GWPK6dnZ",
        "outputId": "c539c153-6f03-4b5c-820d-414880a6ccf3"
      },
      "execution_count": 39,
      "outputs": [
        {
          "output_type": "display_data",
          "data": {
            "text/plain": [
              "Downloading vocab.txt:   0%|          | 0.00/226k [00:00<?, ?B/s]"
            ],
            "application/vnd.jupyter.widget-view+json": {
              "version_major": 2,
              "version_minor": 0,
              "model_id": "8bacbc722e8147be884f2771c4df88db"
            }
          },
          "metadata": {}
        },
        {
          "output_type": "display_data",
          "data": {
            "text/plain": [
              "Downloading config.json:   0%|          | 0.00/493 [00:00<?, ?B/s]"
            ],
            "application/vnd.jupyter.widget-view+json": {
              "version_major": 2,
              "version_minor": 0,
              "model_id": "eea8ff50a97c400fba8aa938eb186ce3"
            }
          },
          "metadata": {}
        },
        {
          "output_type": "display_data",
          "data": {
            "text/plain": [
              "Downloading pytorch_model.bin:   0%|          | 0.00/507M [00:00<?, ?B/s]"
            ],
            "application/vnd.jupyter.widget-view+json": {
              "version_major": 2,
              "version_minor": 0,
              "model_id": "e59064a9a2e84f7da989a65fc8d92fe8"
            }
          },
          "metadata": {}
        },
        {
          "output_type": "stream",
          "name": "stderr",
          "text": [
            "Some weights of the model checkpoint at microsoft/mpnet-base were not used when initializing MPNetModel: ['lm_head.decoder.weight', 'lm_head.layer_norm.weight', 'lm_head.bias', 'lm_head.layer_norm.bias', 'lm_head.dense.bias', 'lm_head.dense.weight', 'lm_head.decoder.bias']\n",
            "- This IS expected if you are initializing MPNetModel from the checkpoint of a model trained on another task or with another architecture (e.g. initializing a BertForSequenceClassification model from a BertForPreTraining model).\n",
            "- This IS NOT expected if you are initializing MPNetModel from the checkpoint of a model that you expect to be exactly identical (initializing a BertForSequenceClassification model from a BertForSequenceClassification model).\n",
            "Some weights of MPNetModel were not initialized from the model checkpoint at microsoft/mpnet-base and are newly initialized: ['mpnet.pooler.dense.weight', 'mpnet.pooler.dense.bias']\n",
            "You should probably TRAIN this model on a down-stream task to be able to use it for predictions and inference.\n"
          ]
        }
      ]
    },
    {
      "cell_type": "code",
      "source": [
        "mpnet_tz.convert_tokens_to_ids([\"characteristically\"])\n",
        "# UNK --> [104] --> It seems UNK token is 104 in mpnet"
      ],
      "metadata": {
        "colab": {
          "base_uri": "https://localhost:8080/"
        },
        "id": "NlDr8Cou6xM6",
        "outputId": "677f7314-c0a9-4f89-f6df-a64ae887069d"
      },
      "execution_count": 40,
      "outputs": [
        {
          "output_type": "execute_result",
          "data": {
            "text/plain": [
              "[104]"
            ]
          },
          "metadata": {},
          "execution_count": 40
        }
      ]
    },
    {
      "cell_type": "code",
      "source": [
        "sent = \"He remains characteristically confident and optimistic.\"\n",
        "mpnet_tz.tokenize(sent)"
      ],
      "metadata": {
        "colab": {
          "base_uri": "https://localhost:8080/"
        },
        "id": "3NPunsRG63FS",
        "outputId": "2ccde627-bcb2-4cab-cc6f-d73b5dcc6c95"
      },
      "execution_count": 41,
      "outputs": [
        {
          "output_type": "execute_result",
          "data": {
            "text/plain": [
              "['he',\n",
              " 'remains',\n",
              " 'characteristic',\n",
              " '##ally',\n",
              " 'confident',\n",
              " 'and',\n",
              " 'optimistic',\n",
              " '.']"
            ]
          },
          "metadata": {},
          "execution_count": 41
        }
      ]
    },
    {
      "cell_type": "code",
      "source": [
        "mpnet_tz.convert_tokens_to_ids([\"سلام\"])"
      ],
      "metadata": {
        "id": "5Doab9aa8Dh9",
        "outputId": "649a8281-be73-45d2-81cb-b94c6a1bd9dc",
        "colab": {
          "base_uri": "https://localhost:8080/"
        }
      },
      "execution_count": 44,
      "outputs": [
        {
          "output_type": "execute_result",
          "data": {
            "text/plain": [
              "[104]"
            ]
          },
          "metadata": {},
          "execution_count": 44
        }
      ]
    },
    {
      "cell_type": "markdown",
      "source": [
        "## CHEM, BIO, MATH"
      ],
      "metadata": {
        "id": "VFKidouA9BOL"
      }
    },
    {
      "cell_type": "code",
      "source": [
        "tokens = [\"h(x)\", \"y=x2\"] + [\"polysaccharide\", \"cellulose\", \"acids\"] + [\"aluminum\", \"yttrium\", \"praseodymium\", \"isotope\", \"beryllium\", \"ruthenium\", \"BiOCl\", \"Ag2SO4\", \"molecular\", \"(CH3)2CHOH\"]\n",
        "\n",
        "for token in tokens:\n",
        "  print(mpnet_tz.convert_tokens_to_ids([token]))"
      ],
      "metadata": {
        "colab": {
          "base_uri": "https://localhost:8080/"
        },
        "id": "cnG7mpqg6sGy",
        "outputId": "6122fd22-dd2c-4701-fde2-e52de4ca21cd"
      },
      "execution_count": 47,
      "outputs": [
        {
          "output_type": "stream",
          "name": "stdout",
          "text": [
            "[104]\n",
            "[104]\n",
            "[104]\n",
            "[104]\n",
            "[12741]\n",
            "[13065]\n",
            "[104]\n",
            "[104]\n",
            "[28850]\n",
            "[104]\n",
            "[104]\n",
            "[104]\n",
            "[104]\n",
            "[8386]\n",
            "[104]\n"
          ]
        }
      ]
    }
  ]
}