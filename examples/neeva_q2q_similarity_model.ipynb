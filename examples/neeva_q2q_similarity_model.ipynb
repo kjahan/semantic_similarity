{
  "nbformat": 4,
  "nbformat_minor": 0,
  "metadata": {
    "colab": {
      "provenance": [],
      "authorship_tag": "ABX9TyOMjbKrZfrfMDqF3f0riai0",
      "include_colab_link": true
    },
    "kernelspec": {
      "name": "python3",
      "display_name": "Python 3"
    },
    "language_info": {
      "name": "python"
    }
  },
  "cells": [
    {
      "cell_type": "markdown",
      "metadata": {
        "id": "view-in-github",
        "colab_type": "text"
      },
      "source": [
        "<a href=\"https://colab.research.google.com/github/kjahan/semantic_similarity/blob/main/examples/colab/neeva_q2q_similarity_model.ipynb\" target=\"_parent\"><img src=\"https://colab.research.google.com/assets/colab-badge.svg\" alt=\"Open In Colab\"/></a>"
      ]
    },
    {
      "cell_type": "markdown",
      "source": [
        "## Query2Query Similarity\n",
        "\n",
        "https://neeva.com/blog/state-of-the-art-query2query-similarity\n",
        "\n",
        "`query2query`\n",
        "\n",
        "**This is a sentence-transformers model: It maps queries to a 384 dimensional dense vector space and can be used for tasks like clustering or semantic search over queries.**"
      ],
      "metadata": {
        "id": "9xjGAIMXX8Ki"
      }
    },
    {
      "cell_type": "code",
      "execution_count": 2,
      "metadata": {
        "colab": {
          "base_uri": "https://localhost:8080/"
        },
        "id": "oz9rG8bhX7Fj",
        "outputId": "97a226c9-1c30-4b45-b01d-f386736e3406"
      },
      "outputs": [
        {
          "output_type": "stream",
          "name": "stdout",
          "text": [
            "Looking in indexes: https://pypi.org/simple, https://us-python.pkg.dev/colab-wheels/public/simple/\n",
            "Collecting sentence-transformers\n",
            "  Downloading sentence-transformers-2.2.2.tar.gz (85 kB)\n",
            "\u001b[K     |████████████████████████████████| 85 kB 5.1 MB/s \n",
            "\u001b[?25hCollecting transformers<5.0.0,>=4.6.0\n",
            "  Downloading transformers-4.22.1-py3-none-any.whl (4.9 MB)\n",
            "\u001b[K     |████████████████████████████████| 4.9 MB 40.4 MB/s \n",
            "\u001b[?25hRequirement already satisfied: tqdm in /usr/local/lib/python3.7/dist-packages (from sentence-transformers) (4.64.1)\n",
            "Requirement already satisfied: torch>=1.6.0 in /usr/local/lib/python3.7/dist-packages (from sentence-transformers) (1.12.1+cu113)\n",
            "Requirement already satisfied: torchvision in /usr/local/lib/python3.7/dist-packages (from sentence-transformers) (0.13.1+cu113)\n",
            "Requirement already satisfied: numpy in /usr/local/lib/python3.7/dist-packages (from sentence-transformers) (1.21.6)\n",
            "Requirement already satisfied: scikit-learn in /usr/local/lib/python3.7/dist-packages (from sentence-transformers) (1.0.2)\n",
            "Requirement already satisfied: scipy in /usr/local/lib/python3.7/dist-packages (from sentence-transformers) (1.7.3)\n",
            "Requirement already satisfied: nltk in /usr/local/lib/python3.7/dist-packages (from sentence-transformers) (3.7)\n",
            "Collecting sentencepiece\n",
            "  Downloading sentencepiece-0.1.97-cp37-cp37m-manylinux_2_17_x86_64.manylinux2014_x86_64.whl (1.3 MB)\n",
            "\u001b[K     |████████████████████████████████| 1.3 MB 41.5 MB/s \n",
            "\u001b[?25hCollecting huggingface-hub>=0.4.0\n",
            "  Downloading huggingface_hub-0.9.1-py3-none-any.whl (120 kB)\n",
            "\u001b[K     |████████████████████████████████| 120 kB 52.0 MB/s \n",
            "\u001b[?25hRequirement already satisfied: pyyaml>=5.1 in /usr/local/lib/python3.7/dist-packages (from huggingface-hub>=0.4.0->sentence-transformers) (6.0)\n",
            "Requirement already satisfied: packaging>=20.9 in /usr/local/lib/python3.7/dist-packages (from huggingface-hub>=0.4.0->sentence-transformers) (21.3)\n",
            "Requirement already satisfied: typing-extensions>=3.7.4.3 in /usr/local/lib/python3.7/dist-packages (from huggingface-hub>=0.4.0->sentence-transformers) (4.1.1)\n",
            "Requirement already satisfied: filelock in /usr/local/lib/python3.7/dist-packages (from huggingface-hub>=0.4.0->sentence-transformers) (3.8.0)\n",
            "Requirement already satisfied: importlib-metadata in /usr/local/lib/python3.7/dist-packages (from huggingface-hub>=0.4.0->sentence-transformers) (4.12.0)\n",
            "Requirement already satisfied: requests in /usr/local/lib/python3.7/dist-packages (from huggingface-hub>=0.4.0->sentence-transformers) (2.23.0)\n",
            "Requirement already satisfied: pyparsing!=3.0.5,>=2.0.2 in /usr/local/lib/python3.7/dist-packages (from packaging>=20.9->huggingface-hub>=0.4.0->sentence-transformers) (3.0.9)\n",
            "Collecting tokenizers!=0.11.3,<0.13,>=0.11.1\n",
            "  Downloading tokenizers-0.12.1-cp37-cp37m-manylinux_2_12_x86_64.manylinux2010_x86_64.whl (6.6 MB)\n",
            "\u001b[K     |████████████████████████████████| 6.6 MB 41.9 MB/s \n",
            "\u001b[?25hRequirement already satisfied: regex!=2019.12.17 in /usr/local/lib/python3.7/dist-packages (from transformers<5.0.0,>=4.6.0->sentence-transformers) (2022.6.2)\n",
            "Requirement already satisfied: zipp>=0.5 in /usr/local/lib/python3.7/dist-packages (from importlib-metadata->huggingface-hub>=0.4.0->sentence-transformers) (3.8.1)\n",
            "Requirement already satisfied: joblib in /usr/local/lib/python3.7/dist-packages (from nltk->sentence-transformers) (1.1.0)\n",
            "Requirement already satisfied: click in /usr/local/lib/python3.7/dist-packages (from nltk->sentence-transformers) (7.1.2)\n",
            "Requirement already satisfied: certifi>=2017.4.17 in /usr/local/lib/python3.7/dist-packages (from requests->huggingface-hub>=0.4.0->sentence-transformers) (2022.6.15)\n",
            "Requirement already satisfied: chardet<4,>=3.0.2 in /usr/local/lib/python3.7/dist-packages (from requests->huggingface-hub>=0.4.0->sentence-transformers) (3.0.4)\n",
            "Requirement already satisfied: idna<3,>=2.5 in /usr/local/lib/python3.7/dist-packages (from requests->huggingface-hub>=0.4.0->sentence-transformers) (2.10)\n",
            "Requirement already satisfied: urllib3!=1.25.0,!=1.25.1,<1.26,>=1.21.1 in /usr/local/lib/python3.7/dist-packages (from requests->huggingface-hub>=0.4.0->sentence-transformers) (1.24.3)\n",
            "Requirement already satisfied: threadpoolctl>=2.0.0 in /usr/local/lib/python3.7/dist-packages (from scikit-learn->sentence-transformers) (3.1.0)\n",
            "Requirement already satisfied: pillow!=8.3.*,>=5.3.0 in /usr/local/lib/python3.7/dist-packages (from torchvision->sentence-transformers) (7.1.2)\n",
            "Building wheels for collected packages: sentence-transformers\n",
            "  Building wheel for sentence-transformers (setup.py) ... \u001b[?25l\u001b[?25hdone\n",
            "  Created wheel for sentence-transformers: filename=sentence_transformers-2.2.2-py3-none-any.whl size=125938 sha256=8e11bd2fb69c46d8318fe5ec7aa8c25f40c83d7cfa380b1facf7e26e51a46db2\n",
            "  Stored in directory: /root/.cache/pip/wheels/bf/06/fb/d59c1e5bd1dac7f6cf61ec0036cc3a10ab8fecaa6b2c3d3ee9\n",
            "Successfully built sentence-transformers\n",
            "Installing collected packages: tokenizers, huggingface-hub, transformers, sentencepiece, sentence-transformers\n",
            "Successfully installed huggingface-hub-0.9.1 sentence-transformers-2.2.2 sentencepiece-0.1.97 tokenizers-0.12.1 transformers-4.22.1\n"
          ]
        }
      ],
      "source": [
        "!pip install -U sentence-transformers"
      ]
    },
    {
      "cell_type": "markdown",
      "source": [
        "## Load q2q model"
      ],
      "metadata": {
        "id": "6cVm6PreYNt7"
      }
    },
    {
      "cell_type": "code",
      "source": [
        "from sentence_transformers import SentenceTransformer, util\n",
        "\n",
        "\n",
        "q2q_model = SentenceTransformer('neeva/query2query')\n"
      ],
      "metadata": {
        "colab": {
          "base_uri": "https://localhost:8080/",
          "height": 488,
          "referenced_widgets": [
            "788cc389560e4aa7956a66e234ae71bf",
            "aabdbbb70d6646be9c72a064dcdc90b9",
            "70bf48b96148426a8e1162f2a583b7c3",
            "db60e4ae2ee4404ea3d670f07b14d7a0",
            "31ef20d080c64feab43ac07b6e8d267d",
            "89a785216c3d49f09503ef22bec3801b",
            "381c75304e2f488283b63773209e4304",
            "15fce8144d7441a484521a5f90eb2251",
            "23a8226681c44b9e91b3be1dc46b5130",
            "29a728436b5b4b0fbc74d2df261bdeb0",
            "44445130b29248329feaa499977e6f26",
            "6dedcd1a638c4046a87c65fbff63fa07",
            "68f47bbccff34ce9ae961464cb73f7b9",
            "0ab92c0996b3479581e6ef800a1aab33",
            "91fd10b23ffc440f9ed4071963274549",
            "542148de4cfc48f28a49a8440a6185e8",
            "ed24232a785243e58c3c4eab562a4b3b",
            "2ff70d23fc6a447d9501fb92c86dbd9d",
            "2bf2593b4c1e47478e8bb4208175cdc4",
            "3f129de37a2c4b3ebe1b8a1ffb2fd823",
            "7ee8970ef7fc4b45b856181321ee56c8",
            "9235544e579e4ff48dd81ad8b9714c1b",
            "f70706893815462299a7782452bda17f",
            "f13783eb52484bda965409f89854f8b7",
            "4c3776b75a1c404e8571677ef45895e3",
            "d5b9283f0df4462ab6471cf0ffb6b838",
            "43918bed733a43bcb7aab203d8b4766a",
            "779ba951c33844cf9ab6d9099d86e059",
            "458c10e67f6a4a46b29f29aa7c1cfe76",
            "47ce652fc5b04896babc46adfccd89b3",
            "69e418cb23ee466abfbda221b8996300",
            "0453eed71f404fb5a16b143ee36bbb4a",
            "d58a4a278c2d4f769fb7d203d32343fb",
            "ff0f219b299a4e0694803424233fbd5a",
            "8774d6c53ef6453b9e489e5bf3583662",
            "9cca3bad25de4949a53072368213e8df",
            "0ec3a00b41254d959f1698725e68af4a",
            "4a894e9830aa49aab844febb0df2389e",
            "01db36a558514061a7b21367e2b19bbf",
            "52023fb0d3b94af9be9e99c88bb03805",
            "6c000ab42b1a49649f327f2b47492ad5",
            "5d22e70fa4354b649f26b80a796810a9",
            "b5e8babb14fd45939e54cb5df97b9678",
            "4a3ee4cabbd14f60b973a7ba0d0d0431",
            "7ddf5734ee66408e8402f5b0758d0839",
            "6ed0263dbd3f4147afaa040a78f26e6c",
            "d000468148eb48f99eddde1a65d0421d",
            "ae0f0d8ca6b74b90ab1a5a6eacb30444",
            "a3c914fe521846c3a4673b01c8a952a2",
            "7d9d6b1c077d4df4851dd73f1c1a21b3",
            "12b1fba7e66e4d749779c183cbc20e24",
            "4b27530b7fdd433da3efe742f22a417e",
            "1536130fa0594205a605f4b1a6ad6378",
            "0b29dab26be4482ca48e62b13744bd27",
            "7f50ab4ac3cb4bf0b8403dc6b9a01b72",
            "4d6b003141ed441f91cfd1814c7c010a",
            "a08171dd84f148208dbaeb5c3578cf7b",
            "15c539c93b6f4c2a9cdbe75ccbb83f64",
            "1da4a166f6dc428f9d42c477ebf23a4d",
            "dfb46ff516014577a9faf6f1d7f21879",
            "8e75892db4224ffb86fd422fe7eeb477",
            "87cfc9095fc242a9be012e8fae8248fd",
            "650094c1008848338f5453259f415077",
            "bfe33172ac8b4cea9aea78eac9992027",
            "6df90f1061e44fd78dbff0c6dbefd4dd",
            "15e87fd19c69431eb3254edf5bd92cef",
            "5bfe1800009d428094ff254a65517c0f",
            "d4eaec592bdd4b30acce328ac5f207d0",
            "9669b4b06df4406e8b74caccd8c85ae0",
            "26dacef103a84d7190030f970e5b8abc",
            "4c95cf80184740a8809a5abfe1ee65f4",
            "49a2d4b978cb4af194bb535ef0a05566",
            "8cc7d40b5395484bb021fa7f55eaae87",
            "6d36a03e95a94cc1a282cb0dec123fe3",
            "e83346fb736b478eb8d117bfb77efbcd",
            "c42ac6c1cf834e368fa47a61ff60402c",
            "33c37a0f5bce4cefa0e8c8021c92c02a",
            "803e203c62ad4ecbb7977cd317dedab5",
            "fe870ad179554528ba69413ae5b71e5f",
            "4c0fe2c78cb74014834959d9493e5574",
            "37640f55b1cd475f901dda4ebb9a49f0",
            "058fbb77b2f6428382d72538c4587f52",
            "7fedbf3944d5409caf2f65e51bcb6c7a",
            "9ca4a3eab3a9474d8031830e6092b70e",
            "a27811fdd61f419db925657f04c60db1",
            "ba249cd97ed64035bca500886705d389",
            "b61c8bc45fb54c5191fd22decbb0bc54",
            "81ac6fba237f4d1f91643a4555efee64",
            "8332f9744f004a98a0a33df550703db8",
            "41c94395d47248a7b8a9d6e5a0749f6e",
            "531029b4f15b430b992fd75c214d5fc7",
            "93824b42c2b844a1a08f7f98512879d1",
            "685554cfd23b47efbda961d0017b8631",
            "e056a9c7b6d54fb1a45c3555f4c9b7b0",
            "634ded58a5064b04aeb7b9951eabefeb",
            "d6f771e15cc94150914b3c1280e61cfc",
            "96df35ad54f44df895808c5298f46da5",
            "b837e37d117d4e0caa7e5d101a66ee42",
            "e8519ea61874473cb57b5af5fff16362",
            "9e7548df34994c2fa357ee3f3564a7ad",
            "460587a5a01f44a49f25705997db5a20",
            "752c41b12c78414280497729940e94f1",
            "54c9fcdd60e74fbe80313c5cfee1ec2b",
            "1ce36d3908844c049a1871d0bf3e72cd",
            "c916f04681d5440db24462d69ecc61db",
            "6d7b230936ff4fcb81c69d1997b7dcb7",
            "50ee277456254e0f9b8513ea620dd514",
            "9dba3da83fa84e87aa9d8b1f413ef4b1",
            "55669bb0cb7d4185bd74329b4fc50f98",
            "86ccc6055a534d8ab5504a4e3ab16540",
            "5734c7f981214a1ab4d21370e00c221a",
            "791142616cf14941a48c44a70defe26e",
            "401a95dedf734e44a9131369c98f0425",
            "18f718fa66e94e72b4e425405a35b960",
            "7f4642ee42d94a4ebf675520f05ad6ac",
            "1ae524076d244eb6b1d0754c7f0fdd8b",
            "59986b30815d44638b24ca4964e89cc2",
            "c76b9b37b3a24da885a920c273e6e867",
            "ce5f951f948e43d99eb5b9d0df18df18",
            "52852103cd174a0ca03a2b7da947619f",
            "96a13ea017994b37bc84b961821e8eee",
            "01651bbaaf024293ab5f0532f15eb90e",
            "e1e2dc92cf0d48768031dd742d17e2c6",
            "8db146f9f2e54ffc9fc3f4631ec91a3e",
            "7bf78863cb3a40ab99bf324ae2d05a88",
            "acd2f4b5ec5f4b6f9e317e45268699f2",
            "f969c1faca274133b7945c5acaee0231",
            "ae6e1737ffab42e38521c0dd25b1813d",
            "4f1c352562c94e7eac8eb12bffdc7573",
            "3376f27e06f64f8b9a63882592491a48",
            "f13fb65598fb4973af5bcff628e6fb6c",
            "6130673f8b354d3d8337a6f89678d735",
            "dfab88356fa4431fae4305f6049ea971",
            "c676cf0457b64033ae4abaf46026473f",
            "9075a991bb2b494498fa3cefaefa3ee5",
            "ff318a6967694a23bff08b9dc0eff334",
            "407b0268328f45ea82e1e6ff02fa4044",
            "39f5fa3c664644289eb43e27cc4ced05",
            "f331d4252a0446a6810042ac5835e1f7",
            "76470cc3ed3c46aca88575b576c8cb21",
            "4814b405a0bf4d7489e9c1290bc1d9b3",
            "fdb879e5ce7844fa9f46e1deda6f0bd8",
            "6531a6c24c8e4b29bcb776c121bb8386"
          ]
        },
        "id": "g_V1iRh3YPTb",
        "outputId": "400ca31c-2908-4cb8-cb61-fa43b0b54bd7"
      },
      "execution_count": 3,
      "outputs": [
        {
          "output_type": "stream",
          "name": "stderr",
          "text": [
            "The cache for model files in Transformers v4.22.0 has been updated. Migrating your old cache. This is a one-time only operation. You can interrupt this and resume the migration later on by calling `transformers.utils.move_cache()`.\n"
          ]
        },
        {
          "output_type": "stream",
          "name": "stdout",
          "text": [
            "Moving 0 files to the new cache system\n"
          ]
        },
        {
          "output_type": "display_data",
          "data": {
            "text/plain": [
              "0it [00:00, ?it/s]"
            ],
            "application/vnd.jupyter.widget-view+json": {
              "version_major": 2,
              "version_minor": 0,
              "model_id": "788cc389560e4aa7956a66e234ae71bf"
            }
          },
          "metadata": {}
        },
        {
          "output_type": "display_data",
          "data": {
            "text/plain": [
              "Downloading:   0%|          | 0.00/1.38k [00:00<?, ?B/s]"
            ],
            "application/vnd.jupyter.widget-view+json": {
              "version_major": 2,
              "version_minor": 0,
              "model_id": "6dedcd1a638c4046a87c65fbff63fa07"
            }
          },
          "metadata": {}
        },
        {
          "output_type": "display_data",
          "data": {
            "text/plain": [
              "Downloading:   0%|          | 0.00/190 [00:00<?, ?B/s]"
            ],
            "application/vnd.jupyter.widget-view+json": {
              "version_major": 2,
              "version_minor": 0,
              "model_id": "f70706893815462299a7782452bda17f"
            }
          },
          "metadata": {}
        },
        {
          "output_type": "display_data",
          "data": {
            "text/plain": [
              "Downloading:   0%|          | 0.00/1.69k [00:00<?, ?B/s]"
            ],
            "application/vnd.jupyter.widget-view+json": {
              "version_major": 2,
              "version_minor": 0,
              "model_id": "ff0f219b299a4e0694803424233fbd5a"
            }
          },
          "metadata": {}
        },
        {
          "output_type": "display_data",
          "data": {
            "text/plain": [
              "Downloading:   0%|          | 0.00/664 [00:00<?, ?B/s]"
            ],
            "application/vnd.jupyter.widget-view+json": {
              "version_major": 2,
              "version_minor": 0,
              "model_id": "7ddf5734ee66408e8402f5b0758d0839"
            }
          },
          "metadata": {}
        },
        {
          "output_type": "display_data",
          "data": {
            "text/plain": [
              "Downloading:   0%|          | 0.00/116 [00:00<?, ?B/s]"
            ],
            "application/vnd.jupyter.widget-view+json": {
              "version_major": 2,
              "version_minor": 0,
              "model_id": "4d6b003141ed441f91cfd1814c7c010a"
            }
          },
          "metadata": {}
        },
        {
          "output_type": "display_data",
          "data": {
            "text/plain": [
              "Downloading:   0%|          | 0.00/90.9M [00:00<?, ?B/s]"
            ],
            "application/vnd.jupyter.widget-view+json": {
              "version_major": 2,
              "version_minor": 0,
              "model_id": "5bfe1800009d428094ff254a65517c0f"
            }
          },
          "metadata": {}
        },
        {
          "output_type": "display_data",
          "data": {
            "text/plain": [
              "Downloading:   0%|          | 0.00/53.0 [00:00<?, ?B/s]"
            ],
            "application/vnd.jupyter.widget-view+json": {
              "version_major": 2,
              "version_minor": 0,
              "model_id": "803e203c62ad4ecbb7977cd317dedab5"
            }
          },
          "metadata": {}
        },
        {
          "output_type": "display_data",
          "data": {
            "text/plain": [
              "Downloading:   0%|          | 0.00/112 [00:00<?, ?B/s]"
            ],
            "application/vnd.jupyter.widget-view+json": {
              "version_major": 2,
              "version_minor": 0,
              "model_id": "8332f9744f004a98a0a33df550703db8"
            }
          },
          "metadata": {}
        },
        {
          "output_type": "display_data",
          "data": {
            "text/plain": [
              "Downloading:   0%|          | 0.00/466k [00:00<?, ?B/s]"
            ],
            "application/vnd.jupyter.widget-view+json": {
              "version_major": 2,
              "version_minor": 0,
              "model_id": "9e7548df34994c2fa357ee3f3564a7ad"
            }
          },
          "metadata": {}
        },
        {
          "output_type": "display_data",
          "data": {
            "text/plain": [
              "Downloading:   0%|          | 0.00/477 [00:00<?, ?B/s]"
            ],
            "application/vnd.jupyter.widget-view+json": {
              "version_major": 2,
              "version_minor": 0,
              "model_id": "5734c7f981214a1ab4d21370e00c221a"
            }
          },
          "metadata": {}
        },
        {
          "output_type": "display_data",
          "data": {
            "text/plain": [
              "Downloading:   0%|          | 0.00/232k [00:00<?, ?B/s]"
            ],
            "application/vnd.jupyter.widget-view+json": {
              "version_major": 2,
              "version_minor": 0,
              "model_id": "01651bbaaf024293ab5f0532f15eb90e"
            }
          },
          "metadata": {}
        },
        {
          "output_type": "display_data",
          "data": {
            "text/plain": [
              "Downloading:   0%|          | 0.00/349 [00:00<?, ?B/s]"
            ],
            "application/vnd.jupyter.widget-view+json": {
              "version_major": 2,
              "version_minor": 0,
              "model_id": "dfab88356fa4431fae4305f6049ea971"
            }
          },
          "metadata": {}
        }
      ]
    },
    {
      "cell_type": "markdown",
      "source": [
        "## Test model"
      ],
      "metadata": {
        "id": "xXBBRaB0YYyg"
      }
    },
    {
      "cell_type": "code",
      "source": [
        "queries = [\"flight cost from nyc to la\", \"ticket prices from nyc to la\"]\n",
        "\n",
        "embeddings = q2q_model.encode(queries)\n",
        "# Compute cosine-similarits\n",
        "cosine_score = util.pytorch_cos_sim(embeddings[0], embeddings[1]).detach().numpy()[0][0]\n",
        "\n",
        "print(cosine_score)"
      ],
      "metadata": {
        "colab": {
          "base_uri": "https://localhost:8080/"
        },
        "id": "HUXkvcfXYadB",
        "outputId": "5f729124-5980-4eb9-ea84-eff0c1c27197"
      },
      "execution_count": 13,
      "outputs": [
        {
          "output_type": "stream",
          "name": "stdout",
          "text": [
            "0.9671601\n"
          ]
        }
      ]
    },
    {
      "cell_type": "markdown",
      "source": [
        "## Load SBERT model"
      ],
      "metadata": {
        "id": "NMrefY8kZO2x"
      }
    },
    {
      "cell_type": "code",
      "source": [
        "sbert_model = SentenceTransformer('paraphrase-MiniLM-L12-v2')"
      ],
      "metadata": {
        "colab": {
          "base_uri": "https://localhost:8080/",
          "height": 401,
          "referenced_widgets": [
            "3576fc1fcee04b8a814a196e9fb20f48",
            "f4bf62d224c94b63a6e6d05f722d459d",
            "280fd04583c54713bbb20b5cc7e8eeb9",
            "d9cfa2ca7b924dcfaf88789fa2f0c0df",
            "0547c6981c35427fb4ec5ac51594c1fc",
            "673dec8f26f74d34b1e4716ab38a5a77",
            "4f2a28b558044ad3983bee6da5158807",
            "3a791c99732843fc8e63a365c4ebe3d7",
            "016260de519946beb3a23b3cd8855c8a",
            "c13ed448714c4088bdcaa4c3c3211e05",
            "76b61b48bb3941abb7bc687e8b6ce8a0",
            "714eb3c8a4cf40d391fae957edcbaa3f",
            "6755625dabc54f36adbf8e36210ab64b",
            "13b9c4ea30b144ceb20e92eb9b468e54",
            "8628c11ea51f443cbe6102212842b098",
            "9fd0b4a614004680925e03c4c995f03b",
            "82686dc4ae554029ad1969346b3083f3",
            "216dcc97c7a84df5adef4737261abd22",
            "fc9cb0092e0b4152b9e8b3a103ab7ec5",
            "061624474f724bb995fc4f65fa5078cc",
            "da904bfe848d4264a29817ff025b4759",
            "4dc432f092c04a3a80dc9755ff66957a",
            "cbcdbb48f40043ecb1bcfb132d870fba",
            "069b09675adf4ba786861886a7a62d1d",
            "fc8fabc578aa46938390d1e94aa5a926",
            "b5ea22e16df749aaa5a2238a85898fc5",
            "f95b04fd8b624fdeb6fa16e32d1ad968",
            "d0beabc866bf4118879e9bdbd033f0e5",
            "d09095d095114cbd915cf0c2d17b4bd6",
            "e4dfeb795e1d4dc78020e7b725e25090",
            "24ce01daa71e4bcab173a7fd2c7e7f3e",
            "3c5fd123808143a3bcb27ebe5f63b935",
            "7c22386bcede4da0a418bdec18ee22e2",
            "3183228ad0114ca3bd184ce0c512ccd6",
            "ac60ce4ee3cc458d8a9adaacd5f641e8",
            "a091b607754e4bc7a6f81aeba516da70",
            "2959d01e6d064dcd8b13e61f70d6803d",
            "8a0c9703c5104ad2b2b5e0105a256566",
            "763a3ef5a1234fefada6fbd2349c6092",
            "0a748bcc9e144b89b4bc24fe2ba1eabb",
            "c63f41483e1343ffa326e4820435ddb2",
            "a9d7ef6053c8477bb9709df761079824",
            "08b99d8bf0d4478c97e3aa7a6180454f",
            "c95e486d3e53485c98887ab7990c9212",
            "9cd9ca97f61547fb91dbff130be65c20",
            "55f4e17f21b241698cdd9f3b119aeee9",
            "f8935721eecc4fb8854fe5bff83fc112",
            "822a080490cc4adc899b69116019fbde",
            "5bdd69e9bbcf45b8a2b7a1e758aa624f",
            "84847093e48b4bd09cef765cbedafbe5",
            "924a6a006f2041d2b9c525568acccfe9",
            "f509ded4b878409d9c2c21f3163ff316",
            "1e87643e04eb4a54afbd81d5fd04d036",
            "954eed1cf1ff492bb1523f318e4b2869",
            "474de11ab1fb4da390716d6896f46691",
            "c72dbc5ab73b47c4a6d8a0151c885d8a",
            "7441f02dcadc4914bff4307601f731ea",
            "d6d7fb08bdd44df5844b6f778068c63c",
            "a965b894cc2742dba044e314d4160c89",
            "719bc5ff2d3f4ac8b7297ddc68cb8e34",
            "8a2c9105c1244f7791d1f52f755ac63d",
            "de2f4aac94a342d1a861d9a781b19173",
            "3be0db3a869a403cb97ec6d6199889b8",
            "330456a0035745a0ae420d38770b9c74",
            "2b5e6a40ad164644a12f96f8fc4da766",
            "49ee052afa624b469d5f3374a1cf94d3",
            "2d336762f92145b69111799cdfde5217",
            "50aa2879ee424e60954b74c1cad8b7d2",
            "61792c51fff542468b25c5e3494579a1",
            "a3e6eadf7993444088657988b6a4122a",
            "ba79a56e4721492199c6aa1f81581557",
            "7923e406b37b4225a49f329feaaf7bb0",
            "63479f119906438b9bb90a0b1c390fb0",
            "37bf24ea876f43b28bb4f971f646b6b4",
            "bfe54d35ba4042e5bc5f66f2483b6e52",
            "22e7e0c831154d4e90b2df4821ab9983",
            "94ef4081cfba4802a50f618572305f5f",
            "4284f0b4c0314107ac81ad006b7e757c",
            "9289853e6e424a709528f1973246f6ef",
            "c88d873189ac4c0c875c6a2b80e2608c",
            "bdfd58cbe6a945a68aef292be93a55c4",
            "57df7efad63647ed8cf8f735bf98fc0e",
            "e006c62c43ba43bab298b9ba92920e63",
            "48bf004e569243ae88891918d032f424",
            "e05181c1f4e746f49071fb4b84e380d5",
            "311d7816e0e248d7b6cf44df208544a2",
            "a33351256da74767b2484efb4b9ba0a8",
            "48a992f4abbf4e46a2da0e7f8def74df",
            "8bd1a6b5dac04a6fbeaead42dc9f1185",
            "84c5ecf037454e4d952fb0873de78eb7",
            "3b9a77eaae0c494e95312b927c67cb1f",
            "2ab63eb1e2254b5b889097f77031e719",
            "e646d311aeb84c438c7e1c69f48710f6",
            "22545582ab204f3f966da94f9112388e",
            "c5be2e56fc4a4a0bb24a1cf1d5f823d2",
            "21bfc8cb83ae416588b9d55d555cb83a",
            "c877e9027ce0413bbdb634b512b237a9",
            "44693a94b9e343de954c6fcc8e37e83f",
            "10acb86a93c04e7781c9e079a8e8193f",
            "9db68d45eb1f4d4a8aec639dd172e7e6",
            "2156dcaf38bd44828b932aa9043416dc",
            "c28be0a3d5b24e5e8d5daa9c06c92ab4",
            "7c7571fe1c844d1897868c15183c6522",
            "cac1a6f7a2794d4fa12c9330b85723fd",
            "7bab75af040e4b1aa3579f153c13d98f",
            "2313aa6ca45f4e268e34d1b009503c3c",
            "fc317a8db97c497bbfef5c8f06036dfb",
            "ddd46a8eeb594d7dba2921c9c3b4f30b",
            "f49207215479431d9aab89a2de1dfb7f",
            "d53bf051077e4e209cc692c474423728",
            "5f3b1e2bd3534180a7a574f477500771",
            "6eb84e5cef28415fb410e1e65fee29cd",
            "eed8bbce155a44dbab0faa7c7c54717d",
            "e3b0c652410e4a7e892a549b60424e83",
            "482131746a724ab7826b5a944ed9637b",
            "8c3a859e243a4f2e8cec092831ca78fc",
            "e058961374a94352856981abcbc52249",
            "0b07225d6f4d454bb77e05d72d09ebd7",
            "64429bf7963f4058bdbdbb67356fee8d",
            "8354f5f74f8042fe84bca014093c95ef",
            "913ca847b543413e81761ee8ca8f6743",
            "270078645f7b44bfb0dd164c9fafe739",
            "7587176a98e149d081aeb6ce75a8b665",
            "f5647c8d332a4c89b021d6e12c0d9ecd",
            "269a58b1d0d449469eec5f1aaa7a6058",
            "f9f041a491914e58ab28e352849e3dc0",
            "5fadfd8154fc4d208dc77760fb0801f5",
            "fc2babbbe666400dabd49235e0b0769a",
            "b83b422e210e40eb8acb755477c75539",
            "eb362c822c054daab7936335abe1828a",
            "5366756c202d455f8f757c3643657963",
            "17e0a6261c65405caa235aeb77eba091"
          ]
        },
        "id": "E69BGFzLZQnp",
        "outputId": "c0aa1e7d-5f90-4e1d-eeed-87042f106301"
      },
      "execution_count": 4,
      "outputs": [
        {
          "output_type": "display_data",
          "data": {
            "text/plain": [
              "Downloading:   0%|          | 0.00/690 [00:00<?, ?B/s]"
            ],
            "application/vnd.jupyter.widget-view+json": {
              "version_major": 2,
              "version_minor": 0,
              "model_id": "3576fc1fcee04b8a814a196e9fb20f48"
            }
          },
          "metadata": {}
        },
        {
          "output_type": "display_data",
          "data": {
            "text/plain": [
              "Downloading:   0%|          | 0.00/190 [00:00<?, ?B/s]"
            ],
            "application/vnd.jupyter.widget-view+json": {
              "version_major": 2,
              "version_minor": 0,
              "model_id": "714eb3c8a4cf40d391fae957edcbaa3f"
            }
          },
          "metadata": {}
        },
        {
          "output_type": "display_data",
          "data": {
            "text/plain": [
              "Downloading:   0%|          | 0.00/3.70k [00:00<?, ?B/s]"
            ],
            "application/vnd.jupyter.widget-view+json": {
              "version_major": 2,
              "version_minor": 0,
              "model_id": "cbcdbb48f40043ecb1bcfb132d870fba"
            }
          },
          "metadata": {}
        },
        {
          "output_type": "display_data",
          "data": {
            "text/plain": [
              "Downloading:   0%|          | 0.00/631 [00:00<?, ?B/s]"
            ],
            "application/vnd.jupyter.widget-view+json": {
              "version_major": 2,
              "version_minor": 0,
              "model_id": "3183228ad0114ca3bd184ce0c512ccd6"
            }
          },
          "metadata": {}
        },
        {
          "output_type": "display_data",
          "data": {
            "text/plain": [
              "Downloading:   0%|          | 0.00/122 [00:00<?, ?B/s]"
            ],
            "application/vnd.jupyter.widget-view+json": {
              "version_major": 2,
              "version_minor": 0,
              "model_id": "9cd9ca97f61547fb91dbff130be65c20"
            }
          },
          "metadata": {}
        },
        {
          "output_type": "display_data",
          "data": {
            "text/plain": [
              "Downloading:   0%|          | 0.00/134M [00:00<?, ?B/s]"
            ],
            "application/vnd.jupyter.widget-view+json": {
              "version_major": 2,
              "version_minor": 0,
              "model_id": "c72dbc5ab73b47c4a6d8a0151c885d8a"
            }
          },
          "metadata": {}
        },
        {
          "output_type": "display_data",
          "data": {
            "text/plain": [
              "Downloading:   0%|          | 0.00/53.0 [00:00<?, ?B/s]"
            ],
            "application/vnd.jupyter.widget-view+json": {
              "version_major": 2,
              "version_minor": 0,
              "model_id": "2d336762f92145b69111799cdfde5217"
            }
          },
          "metadata": {}
        },
        {
          "output_type": "display_data",
          "data": {
            "text/plain": [
              "Downloading:   0%|          | 0.00/112 [00:00<?, ?B/s]"
            ],
            "application/vnd.jupyter.widget-view+json": {
              "version_major": 2,
              "version_minor": 0,
              "model_id": "4284f0b4c0314107ac81ad006b7e757c"
            }
          },
          "metadata": {}
        },
        {
          "output_type": "display_data",
          "data": {
            "text/plain": [
              "Downloading:   0%|          | 0.00/466k [00:00<?, ?B/s]"
            ],
            "application/vnd.jupyter.widget-view+json": {
              "version_major": 2,
              "version_minor": 0,
              "model_id": "8bd1a6b5dac04a6fbeaead42dc9f1185"
            }
          },
          "metadata": {}
        },
        {
          "output_type": "display_data",
          "data": {
            "text/plain": [
              "Downloading:   0%|          | 0.00/316 [00:00<?, ?B/s]"
            ],
            "application/vnd.jupyter.widget-view+json": {
              "version_major": 2,
              "version_minor": 0,
              "model_id": "9db68d45eb1f4d4a8aec639dd172e7e6"
            }
          },
          "metadata": {}
        },
        {
          "output_type": "display_data",
          "data": {
            "text/plain": [
              "Downloading:   0%|          | 0.00/232k [00:00<?, ?B/s]"
            ],
            "application/vnd.jupyter.widget-view+json": {
              "version_major": 2,
              "version_minor": 0,
              "model_id": "5f3b1e2bd3534180a7a574f477500771"
            }
          },
          "metadata": {}
        },
        {
          "output_type": "display_data",
          "data": {
            "text/plain": [
              "Downloading:   0%|          | 0.00/229 [00:00<?, ?B/s]"
            ],
            "application/vnd.jupyter.widget-view+json": {
              "version_major": 2,
              "version_minor": 0,
              "model_id": "270078645f7b44bfb0dd164c9fafe739"
            }
          },
          "metadata": {}
        }
      ]
    },
    {
      "cell_type": "markdown",
      "source": [
        "## Try SBERT"
      ],
      "metadata": {
        "id": "QthVly5iZY1k"
      }
    },
    {
      "cell_type": "code",
      "source": [
        "queries = [\"flight cost from nyc to la\", \"ticket prices from nyc to la\"]\n",
        "\n",
        "embeddings = sbert_model.encode(queries)\n",
        "# Compute cosine-similarits\n",
        "cosine_score = util.pytorch_cos_sim(embeddings[0], embeddings[1]).detach().numpy()[0][0]\n",
        "\n",
        "print(cosine_score)"
      ],
      "metadata": {
        "colab": {
          "base_uri": "https://localhost:8080/"
        },
        "id": "6q9KWD3eZZFC",
        "outputId": "a3a3f64f-3a8e-4c25-f78e-def8da0d8af2"
      },
      "execution_count": 11,
      "outputs": [
        {
          "output_type": "stream",
          "name": "stdout",
          "text": [
            "0.85507935\n"
          ]
        }
      ]
    },
    {
      "cell_type": "markdown",
      "source": [
        "## Test Quora examples\n",
        "\n",
        "Let's test their test data\n",
        "\n",
        "https://www.kaggle.com/competitions/quora-question-pairs/data?select=test.csv.zip"
      ],
      "metadata": {
        "id": "5TlVTy50ZgYn"
      }
    },
    {
      "cell_type": "code",
      "source": [
        "#\"1075\",\"2144\",\"2145\",\"Where can I get free books to read or download?\",\"Where can I get free books?\",\"1\"\n",
        "queries = [\"Where can I get free books to read or download?\",\"Where can I get free books?\"]\n",
        "\n",
        "\n",
        "embeddings = q2q_model.encode(queries)\n",
        "# Compute cosine-similarits\n",
        "cosine_score = util.pytorch_cos_sim(embeddings[0], embeddings[1]).detach().numpy()[0][0]\n",
        "\n",
        "print(cosine_score)"
      ],
      "metadata": {
        "colab": {
          "base_uri": "https://localhost:8080/"
        },
        "id": "-tcruW2mZjAA",
        "outputId": "803865a2-6810-44f4-f273-3bbae180f6bf"
      },
      "execution_count": 14,
      "outputs": [
        {
          "output_type": "stream",
          "name": "stdout",
          "text": [
            "0.770394\n"
          ]
        }
      ]
    },
    {
      "cell_type": "code",
      "source": [
        "queries = [\"Where can I get free books to read or download?\",\"Where can I get free books?\"]\n",
        "\n",
        "embeddings = sbert_model.encode(queries)\n",
        "# Compute cosine-similarits\n",
        "cosine_score = util.pytorch_cos_sim(embeddings[0], embeddings[1]).detach().numpy()[0][0]\n",
        "\n",
        "print(cosine_score)"
      ],
      "metadata": {
        "colab": {
          "base_uri": "https://localhost:8080/"
        },
        "id": "L0n2PggoaL41",
        "outputId": "3d39ee8e-f239-4eb5-8a18-311b908148b1"
      },
      "execution_count": 15,
      "outputs": [
        {
          "output_type": "stream",
          "name": "stdout",
          "text": [
            "0.9250375\n"
          ]
        }
      ]
    },
    {
      "cell_type": "code",
      "source": [
        "def compute_cosine_sim(queries):\n",
        "  embeddings = q2q_model.encode(queries)\n",
        "  # Compute cosine-similarits\n",
        "  q2q_cosine_score = util.pytorch_cos_sim(embeddings[0], embeddings[1]).detach().numpy()[0][0]\n",
        "\n",
        "  embeddings = sbert_model.encode(queries)\n",
        "  # Compute cosine-similarits\n",
        "  sbert_cosine_score = util.pytorch_cos_sim(embeddings[0], embeddings[1]).detach().numpy()[0][0]\n",
        "\n",
        "  #print(cosine_score)\n",
        "  return q2q_cosine_score, sbert_cosine_score"
      ],
      "metadata": {
        "id": "fORrleOkawQL"
      },
      "execution_count": 5,
      "outputs": []
    },
    {
      "cell_type": "code",
      "source": [
        "queries = [\"what is 2+2?\",\"what is 2+3?\"]\n",
        "\n",
        "q2q_cosine_score, sbert_cosine_score = compute_cosine_sim(queries)\n",
        "print(\"q2q cosine: {}\".format(q2q_cosine_score))\n",
        "print(\"sbert cosine: {}\".format(sbert_cosine_score))"
      ],
      "metadata": {
        "colab": {
          "base_uri": "https://localhost:8080/"
        },
        "id": "b-gMfBoGa_2d",
        "outputId": "5ef7cfba-ef91-4f8c-d499-7e5aef2eef0c"
      },
      "execution_count": 23,
      "outputs": [
        {
          "output_type": "stream",
          "name": "stdout",
          "text": [
            "q2q cosine: 0.6891094446182251\n",
            "sbert cosine: 0.921252965927124\n"
          ]
        }
      ]
    },
    {
      "cell_type": "code",
      "source": [
        "queries = [\"what is the united states population?\", \"how many people live in united states?\"]\n",
        "\n",
        "q2q_cosine_score, sbert_cosine_score = compute_cosine_sim(queries)\n",
        "print(\"q2q cosine: {}\".format(q2q_cosine_score))\n",
        "print(\"sbert cosine: {}\".format(sbert_cosine_score))\n",
        "\n",
        "print(\"sbert cosine: {}\".format(sbert_cosine_score))"
      ],
      "metadata": {
        "colab": {
          "base_uri": "https://localhost:8080/"
        },
        "id": "rFo8K0qzbmEI",
        "outputId": "2b758541-06cd-4a5d-b055-f783ab5b07c9"
      },
      "execution_count": 24,
      "outputs": [
        {
          "output_type": "stream",
          "name": "stdout",
          "text": [
            "q2q cosine: 0.9315909147262573\n",
            "sbert cosine: 0.88234543800354\n",
            "sbert cosine: 0.88234543800354\n"
          ]
        }
      ]
    },
    {
      "cell_type": "code",
      "source": [
        "queries = [\"How can I reduce my belly fat through a diet?\",\"How can I reduce my lower belly fat in one month?\"]\n",
        "\n",
        "q2q_cosine_score, sbert_cosine_score = compute_cosine_sim(queries)\n",
        "print(\"q2q cosine: {}\".format(q2q_cosine_score))\n",
        "print(\"sbert cosine: {}\".format(sbert_cosine_score))"
      ],
      "metadata": {
        "colab": {
          "base_uri": "https://localhost:8080/"
        },
        "id": "z0Avqo5Xcrur",
        "outputId": "f84b4cfc-36a4-4483-b1ae-311b56eb61f7"
      },
      "execution_count": 25,
      "outputs": [
        {
          "output_type": "stream",
          "name": "stdout",
          "text": [
            "q2q cosine: 0.519539475440979\n",
            "sbert cosine: 0.8516068458557129\n"
          ]
        }
      ]
    },
    {
      "cell_type": "code",
      "source": [
        "queries = [\"a structure that contains DNA, the genetic material that is passed from one generation to the next\", \"what is chromosome?\"]\n",
        "\n",
        "q2q_cosine_score, sbert_cosine_score = compute_cosine_sim(queries)\n",
        "print(\"q2q cosine: {}\".format(q2q_cosine_score))\n",
        "print(\"sbert cosine: {}\".format(sbert_cosine_score))\n"
      ],
      "metadata": {
        "colab": {
          "base_uri": "https://localhost:8080/"
        },
        "id": "1ww7v2D0dgWO",
        "outputId": "51f09396-76f7-44d3-ba2e-554c01b0fa44"
      },
      "execution_count": 6,
      "outputs": [
        {
          "output_type": "stream",
          "name": "stdout",
          "text": [
            "q2q cosine: 0.2742469012737274\n",
            "sbert cosine: 0.5903246402740479\n"
          ]
        }
      ]
    },
    {
      "cell_type": "code",
      "source": [
        "queries = [\"which one of the following statements does not represent an advantage of using viral marketing campaigns?\", \n",
        "           \"which of the following statements is true of viral marketing?\"]\n",
        "\n",
        "q2q_cosine_score, sbert_cosine_score = compute_cosine_sim(queries)\n",
        "print(\"q2q cosine: {}\".format(q2q_cosine_score))\n",
        "print(\"sbert cosine: {}\".format(sbert_cosine_score))"
      ],
      "metadata": {
        "colab": {
          "base_uri": "https://localhost:8080/"
        },
        "id": "Dgs9Akki58sE",
        "outputId": "62a3a70d-5c28-4b29-aba0-ffed96c07a31"
      },
      "execution_count": 7,
      "outputs": [
        {
          "output_type": "stream",
          "name": "stdout",
          "text": [
            "q2q cosine: 0.7035866975784302\n",
            "sbert cosine: 0.8741922378540039\n"
          ]
        }
      ]
    },
    {
      "cell_type": "code",
      "source": [
        "queries = [\"What kind of food do rich people like Bill Gates, Warren Buffet, etc. generally classic?\", \n",
        "           \"What be rich first to practice altruism? Like Bill Gates and Warren Buffet\"]\n",
        "\n",
        "q2q_cosine_score, sbert_cosine_score = compute_cosine_sim(queries)\n",
        "print(\"q2q cosine: {}\".format(q2q_cosine_score))\n",
        "print(\"sbert cosine: {}\".format(sbert_cosine_score))"
      ],
      "metadata": {
        "colab": {
          "base_uri": "https://localhost:8080/"
        },
        "id": "MBaH1bqU6QEv",
        "outputId": "17b62207-59c1-42e5-c28b-0d10ff4d7090"
      },
      "execution_count": 8,
      "outputs": [
        {
          "output_type": "stream",
          "name": "stdout",
          "text": [
            "q2q cosine: 0.6161669492721558\n",
            "sbert cosine: 0.5818869471549988\n"
          ]
        }
      ]
    },
    {
      "cell_type": "code",
      "source": [
        "queries = [\"Are we humans or slaves of our tell desires?\",\"To whom are other we the human beings slaves?\"]\n",
        "\n",
        "q2q_cosine_score, sbert_cosine_score = compute_cosine_sim(queries)\n",
        "print(\"q2q cosine: {}\".format(q2q_cosine_score))\n",
        "print(\"sbert cosine: {}\".format(sbert_cosine_score))"
      ],
      "metadata": {
        "colab": {
          "base_uri": "https://localhost:8080/"
        },
        "id": "2MPNuxvJ7v6U",
        "outputId": "b1f2c235-e115-475f-cb35-2194163b6222"
      },
      "execution_count": 9,
      "outputs": [
        {
          "output_type": "stream",
          "name": "stdout",
          "text": [
            "q2q cosine: 0.49185067415237427\n",
            "sbert cosine: 0.7112250924110413\n"
          ]
        }
      ]
    },
    {
      "cell_type": "code",
      "source": [
        "queries = [\"If I step 240 volts AC to 120 volts AC, and rectify it to DC. What will be the voltage and amperage the DC output?\", \n",
        "           \"I am working in an IT company with 9 hours side work. Is it possible for me to crack the GATE in electrical engineering?\"]\n",
        "\n",
        "q2q_cosine_score, sbert_cosine_score = compute_cosine_sim(queries)\n",
        "print(\"q2q cosine: {}\".format(q2q_cosine_score))\n",
        "print(\"sbert cosine: {}\".format(sbert_cosine_score))"
      ],
      "metadata": {
        "colab": {
          "base_uri": "https://localhost:8080/"
        },
        "id": "3o3DXgAl8FOB",
        "outputId": "1df6a357-0eb8-40cb-d387-d48e83ae01b3"
      },
      "execution_count": 10,
      "outputs": [
        {
          "output_type": "stream",
          "name": "stdout",
          "text": [
            "q2q cosine: 0.13593006134033203\n",
            "sbert cosine: 0.21269062161445618\n"
          ]
        }
      ]
    },
    {
      "cell_type": "code",
      "source": [
        "queries = [\"Why make I get scared so easily?\", \"Why do get scared?\"]\n",
        "\n",
        "q2q_cosine_score, sbert_cosine_score = compute_cosine_sim(queries)\n",
        "print(\"q2q cosine: {}\".format(q2q_cosine_score))\n",
        "print(\"sbert cosine: {}\".format(sbert_cosine_score))"
      ],
      "metadata": {
        "colab": {
          "base_uri": "https://localhost:8080/"
        },
        "id": "yDY__tSO8M66",
        "outputId": "b9efbd88-8882-4bb1-dbe6-c32f086670ce"
      },
      "execution_count": 11,
      "outputs": [
        {
          "output_type": "stream",
          "name": "stdout",
          "text": [
            "q2q cosine: 0.7263717651367188\n",
            "sbert cosine: 0.8386101126670837\n"
          ]
        }
      ]
    },
    {
      "cell_type": "code",
      "source": [
        "queries = [\"What is the difference between CA and MBA?\",\"What is the difference between: CA & CFA?\"]\n",
        "\n",
        "q2q_cosine_score, sbert_cosine_score = compute_cosine_sim(queries)\n",
        "print(\"q2q cosine: {}\".format(q2q_cosine_score))\n",
        "print(\"sbert cosine: {}\".format(sbert_cosine_score))"
      ],
      "metadata": {
        "colab": {
          "base_uri": "https://localhost:8080/"
        },
        "id": "c1rGdzuH8NUv",
        "outputId": "47a6d605-7cc0-410f-a900-48c3f9c0bdb2"
      },
      "execution_count": 12,
      "outputs": [
        {
          "output_type": "stream",
          "name": "stdout",
          "text": [
            "q2q cosine: 0.5242831110954285\n",
            "sbert cosine: 0.6357532739639282\n"
          ]
        }
      ]
    },
    {
      "cell_type": "code",
      "source": [
        "queries = [\"How can I object masturbating?\", \"How simple I stop fapping forever?\"]\n",
        "\n",
        "q2q_cosine_score, sbert_cosine_score = compute_cosine_sim(queries)\n",
        "print(\"q2q cosine: {}\".format(q2q_cosine_score))\n",
        "print(\"sbert cosine: {}\".format(sbert_cosine_score))"
      ],
      "metadata": {
        "colab": {
          "base_uri": "https://localhost:8080/"
        },
        "id": "fP4nsY2Y8Of3",
        "outputId": "455fddcf-8742-4cbe-aa3e-dd02c9807009"
      },
      "execution_count": 13,
      "outputs": [
        {
          "output_type": "stream",
          "name": "stdout",
          "text": [
            "q2q cosine: 0.22586457431316376\n",
            "sbert cosine: 0.31829962134361267\n"
          ]
        }
      ]
    },
    {
      "cell_type": "code",
      "source": [
        "queries = [\"how to convert a list of dictionaries to dataframe in python\", \"Convert list of dictionaries to a pandas DataFrame\"]\n",
        "\n",
        "q2q_cosine_score, sbert_cosine_score = compute_cosine_sim(queries)\n",
        "print(\"q2q cosine: {}\".format(q2q_cosine_score))\n",
        "print(\"sbert cosine: {}\".format(sbert_cosine_score))"
      ],
      "metadata": {
        "colab": {
          "base_uri": "https://localhost:8080/"
        },
        "id": "zOQugFcP-Cfy",
        "outputId": "fb06f5d4-5c63-4903-ce11-504e6e0d1754"
      },
      "execution_count": 14,
      "outputs": [
        {
          "output_type": "stream",
          "name": "stdout",
          "text": [
            "q2q cosine: 0.9721435308456421\n",
            "sbert cosine: 0.7675014138221741\n"
          ]
        }
      ]
    },
    {
      "cell_type": "code",
      "source": [
        "queries = [\"how to convert a list of dictionaries to dataframe in python\", \"How to convert a list of dictionaries to a Pandas DataFrame\"]\n",
        "\n",
        "q2q_cosine_score, sbert_cosine_score = compute_cosine_sim(queries)\n",
        "print(\"q2q cosine: {}\".format(q2q_cosine_score))\n",
        "print(\"sbert cosine: {}\".format(sbert_cosine_score))"
      ],
      "metadata": {
        "colab": {
          "base_uri": "https://localhost:8080/"
        },
        "id": "tbXiqp7f-ENK",
        "outputId": "a11559ff-99b8-463d-b43b-d0cb29224ff0"
      },
      "execution_count": 15,
      "outputs": [
        {
          "output_type": "stream",
          "name": "stdout",
          "text": [
            "q2q cosine: 0.9729502201080322\n",
            "sbert cosine: 0.7719252109527588\n"
          ]
        }
      ]
    },
    {
      "cell_type": "code",
      "source": [
        "queries = [\"how to convert a list of dictionaries to dataframe in python\", \"Trying to convert list of dictionaries to a pandas dataframe\"]\n",
        "\n",
        "\n",
        "q2q_cosine_score, sbert_cosine_score = compute_cosine_sim(queries)\n",
        "print(\"q2q cosine: {}\".format(q2q_cosine_score))\n",
        "print(\"sbert cosine: {}\".format(sbert_cosine_score))"
      ],
      "metadata": {
        "colab": {
          "base_uri": "https://localhost:8080/"
        },
        "id": "_KA7-r77-EnU",
        "outputId": "4f915cc4-8db3-454b-cb78-f9bedefcb626"
      },
      "execution_count": 16,
      "outputs": [
        {
          "output_type": "stream",
          "name": "stdout",
          "text": [
            "q2q cosine: 0.9636967778205872\n",
            "sbert cosine: 0.7061135768890381\n"
          ]
        }
      ]
    },
    {
      "cell_type": "code",
      "source": [
        "queries = [\"how to convert a list of dictionaries to dataframe in python\", \"Converting a list of lists of dictionaries to a Pandas DataFrame\"]\n",
        "\n",
        "q2q_cosine_score, sbert_cosine_score = compute_cosine_sim(queries)\n",
        "print(\"q2q cosine: {}\".format(q2q_cosine_score))\n",
        "print(\"sbert cosine: {}\".format(sbert_cosine_score))"
      ],
      "metadata": {
        "colab": {
          "base_uri": "https://localhost:8080/"
        },
        "id": "egKivqMJ-Fjp",
        "outputId": "ff618279-aed6-45e0-971d-f856f2d82c49"
      },
      "execution_count": 17,
      "outputs": [
        {
          "output_type": "stream",
          "name": "stdout",
          "text": [
            "q2q cosine: 0.8564285635948181\n",
            "sbert cosine: 0.7714899778366089\n"
          ]
        }
      ]
    }
  ]
}