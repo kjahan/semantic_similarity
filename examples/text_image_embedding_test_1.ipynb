{
  "nbformat": 4,
  "nbformat_minor": 0,
  "metadata": {
    "colab": {
      "provenance": [],
      "gpuType": "T4",
      "authorship_tag": "ABX9TyPDDrM++CHR6+ke11CHjwaK",
      "include_colab_link": true
    },
    "kernelspec": {
      "name": "python3",
      "display_name": "Python 3"
    },
    "language_info": {
      "name": "python"
    },
    "accelerator": "GPU"
  },
  "cells": [
    {
      "cell_type": "markdown",
      "metadata": {
        "id": "view-in-github",
        "colab_type": "text"
      },
      "source": [
        "<a href=\"https://colab.research.google.com/github/kjahan/semantic_similarity/blob/main/text_image_embedding_test_1.ipynb\" target=\"_parent\"><img src=\"https://colab.research.google.com/assets/colab-badge.svg\" alt=\"Open In Colab\"/></a>"
      ]
    },
    {
      "cell_type": "markdown",
      "source": [],
      "metadata": {
        "id": "tr8c1F5CVn_p"
      }
    },
    {
      "cell_type": "code",
      "source": [
        "!pip3 install transformers"
      ],
      "metadata": {
        "colab": {
          "base_uri": "https://localhost:8080/"
        },
        "id": "VJESLmibV2Pa",
        "outputId": "f882744b-e7ad-4901-cd53-942a52c1bc3d"
      },
      "execution_count": 1,
      "outputs": [
        {
          "output_type": "stream",
          "name": "stdout",
          "text": [
            "Collecting transformers\n",
            "  Downloading transformers-4.30.2-py3-none-any.whl (7.2 MB)\n",
            "\u001b[2K     \u001b[90m━━━━━━━━━━━━━━━━━━━━━━━━━━━━━━━━━━━━━━━━\u001b[0m \u001b[32m7.2/7.2 MB\u001b[0m \u001b[31m63.6 MB/s\u001b[0m eta \u001b[36m0:00:00\u001b[0m\n",
            "\u001b[?25hRequirement already satisfied: filelock in /usr/local/lib/python3.10/dist-packages (from transformers) (3.12.2)\n",
            "Collecting huggingface-hub<1.0,>=0.14.1 (from transformers)\n",
            "  Downloading huggingface_hub-0.15.1-py3-none-any.whl (236 kB)\n",
            "\u001b[2K     \u001b[90m━━━━━━━━━━━━━━━━━━━━━━━━━━━━━━━━━━━━━━\u001b[0m \u001b[32m236.8/236.8 kB\u001b[0m \u001b[31m34.0 MB/s\u001b[0m eta \u001b[36m0:00:00\u001b[0m\n",
            "\u001b[?25hRequirement already satisfied: numpy>=1.17 in /usr/local/lib/python3.10/dist-packages (from transformers) (1.22.4)\n",
            "Requirement already satisfied: packaging>=20.0 in /usr/local/lib/python3.10/dist-packages (from transformers) (23.1)\n",
            "Requirement already satisfied: pyyaml>=5.1 in /usr/local/lib/python3.10/dist-packages (from transformers) (6.0)\n",
            "Requirement already satisfied: regex!=2019.12.17 in /usr/local/lib/python3.10/dist-packages (from transformers) (2022.10.31)\n",
            "Requirement already satisfied: requests in /usr/local/lib/python3.10/dist-packages (from transformers) (2.27.1)\n",
            "Collecting tokenizers!=0.11.3,<0.14,>=0.11.1 (from transformers)\n",
            "  Downloading tokenizers-0.13.3-cp310-cp310-manylinux_2_17_x86_64.manylinux2014_x86_64.whl (7.8 MB)\n",
            "\u001b[2K     \u001b[90m━━━━━━━━━━━━━━━━━━━━━━━━━━━━━━━━━━━━━━━━\u001b[0m \u001b[32m7.8/7.8 MB\u001b[0m \u001b[31m94.4 MB/s\u001b[0m eta \u001b[36m0:00:00\u001b[0m\n",
            "\u001b[?25hCollecting safetensors>=0.3.1 (from transformers)\n",
            "  Downloading safetensors-0.3.1-cp310-cp310-manylinux_2_17_x86_64.manylinux2014_x86_64.whl (1.3 MB)\n",
            "\u001b[2K     \u001b[90m━━━━━━━━━━━━━━━━━━━━━━━━━━━━━━━━━━━━━━━━\u001b[0m \u001b[32m1.3/1.3 MB\u001b[0m \u001b[31m93.3 MB/s\u001b[0m eta \u001b[36m0:00:00\u001b[0m\n",
            "\u001b[?25hRequirement already satisfied: tqdm>=4.27 in /usr/local/lib/python3.10/dist-packages (from transformers) (4.65.0)\n",
            "Requirement already satisfied: fsspec in /usr/local/lib/python3.10/dist-packages (from huggingface-hub<1.0,>=0.14.1->transformers) (2023.6.0)\n",
            "Requirement already satisfied: typing-extensions>=3.7.4.3 in /usr/local/lib/python3.10/dist-packages (from huggingface-hub<1.0,>=0.14.1->transformers) (4.6.3)\n",
            "Requirement already satisfied: urllib3<1.27,>=1.21.1 in /usr/local/lib/python3.10/dist-packages (from requests->transformers) (1.26.16)\n",
            "Requirement already satisfied: certifi>=2017.4.17 in /usr/local/lib/python3.10/dist-packages (from requests->transformers) (2023.5.7)\n",
            "Requirement already satisfied: charset-normalizer~=2.0.0 in /usr/local/lib/python3.10/dist-packages (from requests->transformers) (2.0.12)\n",
            "Requirement already satisfied: idna<4,>=2.5 in /usr/local/lib/python3.10/dist-packages (from requests->transformers) (3.4)\n",
            "Installing collected packages: tokenizers, safetensors, huggingface-hub, transformers\n",
            "Successfully installed huggingface-hub-0.15.1 safetensors-0.3.1 tokenizers-0.13.3 transformers-4.30.2\n"
          ]
        }
      ]
    },
    {
      "cell_type": "code",
      "execution_count": 2,
      "metadata": {
        "colab": {
          "base_uri": "https://localhost:8080/",
          "height": 242,
          "referenced_widgets": [
            "3ef217530c7c47a88c434f3396b5e4bc",
            "ba0d6d017e3941e7bdafcf1cf439517d",
            "a23209089870403d8e59e3d061540005",
            "ca3c2dab3f5b4a3ea52cc5dd393725af",
            "73c5e6af10ff48aba768609fc314ae29",
            "5286ff1d43da48d39888f832b9b2acfc",
            "2366f895c101407f962f702d78f268c9",
            "480c5f356f4d49c692254ee83a86fb03",
            "90c02a648bbe4f5b8b033dd84fa2dbb2",
            "1e7713a8cad14382a80bab69c4a35042",
            "630e0d2a166a462a834389c1861b7884",
            "8bac7a8eb80140dd9b1acf4d4714ad6e",
            "50685b18c2934afda50eeefb8d97371e",
            "0bc0e50ff00a462aa4f8371ebeac0cc0",
            "d2561ab0be0846ec8dbb72da93a5f197",
            "3a449dc5473446e090c423c72f49c278",
            "b2f78c74848544c881b2a44acb645bcf",
            "991f618a06044404a0d4562b01ffa633",
            "37c1e9e664804af89cf1e824e5c41f39",
            "c461c6f1879e4f1e936bb3b3ea03ccf6",
            "b7784faaad5547379daa132e36e4416e",
            "4edf664fdb1b4560913f2d9fb32bbc5f",
            "f9e2036a305d4a2bba19c44dc03905f5",
            "95a33ce16a554894919b62a7673729d7",
            "a888c3f6f75b4721bc1cc129adf98ff3",
            "05014624540e45bbbce0ca07995bcb8a",
            "6cb747d72bc943ca8c7e96c8bde64e5a",
            "9cbb927179fd4fec858149fccb16bf0b",
            "a40c2737db8e440992f10977a35108c0",
            "0caa16b2904e43b28da436e2fdcc29a9",
            "6308cd9ee266408ca1ca9f002bbadbc6",
            "d189b3a263814bd7a43c71cf89b00071",
            "8c3ce991bfa24a738c0b126639b27448"
          ]
        },
        "id": "C4ql0tlQVm6j",
        "outputId": "79cbff1f-83ed-4ddc-e408-df0b84b60543"
      },
      "outputs": [
        {
          "output_type": "display_data",
          "data": {
            "text/plain": [
              "Downloading (…)rocessor_config.json:   0%|          | 0.00/228 [00:00<?, ?B/s]"
            ],
            "application/vnd.jupyter.widget-view+json": {
              "version_major": 2,
              "version_minor": 0,
              "model_id": "3ef217530c7c47a88c434f3396b5e4bc"
            }
          },
          "metadata": {}
        },
        {
          "output_type": "stream",
          "name": "stderr",
          "text": [
            "/usr/local/lib/python3.10/dist-packages/transformers/models/vit/feature_extraction_vit.py:28: FutureWarning: The class ViTFeatureExtractor is deprecated and will be removed in version 5 of Transformers. Please use ViTImageProcessor instead.\n",
            "  warnings.warn(\n"
          ]
        },
        {
          "output_type": "display_data",
          "data": {
            "text/plain": [
              "Downloading (…)lve/main/config.json:   0%|          | 0.00/756 [00:00<?, ?B/s]"
            ],
            "application/vnd.jupyter.widget-view+json": {
              "version_major": 2,
              "version_minor": 0,
              "model_id": "8bac7a8eb80140dd9b1acf4d4714ad6e"
            }
          },
          "metadata": {}
        },
        {
          "output_type": "display_data",
          "data": {
            "text/plain": [
              "Downloading pytorch_model.bin:   0%|          | 0.00/343M [00:00<?, ?B/s]"
            ],
            "application/vnd.jupyter.widget-view+json": {
              "version_major": 2,
              "version_minor": 0,
              "model_id": "f9e2036a305d4a2bba19c44dc03905f5"
            }
          },
          "metadata": {}
        },
        {
          "output_type": "stream",
          "name": "stderr",
          "text": [
            "Some weights of the model checkpoint at nateraw/vit-base-beans were not used when initializing ViTModel: ['classifier.weight', 'classifier.bias']\n",
            "- This IS expected if you are initializing ViTModel from the checkpoint of a model trained on another task or with another architecture (e.g. initializing a BertForSequenceClassification model from a BertForPreTraining model).\n",
            "- This IS NOT expected if you are initializing ViTModel from the checkpoint of a model that you expect to be exactly identical (initializing a BertForSequenceClassification model from a BertForSequenceClassification model).\n",
            "Some weights of ViTModel were not initialized from the model checkpoint at nateraw/vit-base-beans and are newly initialized: ['vit.pooler.dense.bias', 'vit.pooler.dense.weight']\n",
            "You should probably TRAIN this model on a down-stream task to be able to use it for predictions and inference.\n"
          ]
        }
      ],
      "source": [
        "from transformers import AutoFeatureExtractor, AutoModel\n",
        "\n",
        "\n",
        "model_ckpt = \"nateraw/vit-base-beans\"\n",
        "extractor = AutoFeatureExtractor.from_pretrained(model_ckpt)\n",
        "model = AutoModel.from_pretrained(model_ckpt)\n"
      ]
    },
    {
      "cell_type": "code",
      "source": [
        "!pip3 install datasets"
      ],
      "metadata": {
        "colab": {
          "base_uri": "https://localhost:8080/"
        },
        "id": "4BKDL5dgWj1j",
        "outputId": "21229017-3fa9-456e-bfd7-bb2c05e3a542"
      },
      "execution_count": 4,
      "outputs": [
        {
          "output_type": "stream",
          "name": "stdout",
          "text": [
            "Collecting datasets\n",
            "  Downloading datasets-2.13.1-py3-none-any.whl (486 kB)\n",
            "\u001b[2K     \u001b[90m━━━━━━━━━━━━━━━━━━━━━━━━━━━━━━━━━━━━━━\u001b[0m \u001b[32m486.2/486.2 kB\u001b[0m \u001b[31m16.9 MB/s\u001b[0m eta \u001b[36m0:00:00\u001b[0m\n",
            "\u001b[?25hRequirement already satisfied: numpy>=1.17 in /usr/local/lib/python3.10/dist-packages (from datasets) (1.22.4)\n",
            "Requirement already satisfied: pyarrow>=8.0.0 in /usr/local/lib/python3.10/dist-packages (from datasets) (9.0.0)\n",
            "Collecting dill<0.3.7,>=0.3.0 (from datasets)\n",
            "  Downloading dill-0.3.6-py3-none-any.whl (110 kB)\n",
            "\u001b[2K     \u001b[90m━━━━━━━━━━━━━━━━━━━━━━━━━━━━━━━━━━━━━━\u001b[0m \u001b[32m110.5/110.5 kB\u001b[0m \u001b[31m14.8 MB/s\u001b[0m eta \u001b[36m0:00:00\u001b[0m\n",
            "\u001b[?25hRequirement already satisfied: pandas in /usr/local/lib/python3.10/dist-packages (from datasets) (1.5.3)\n",
            "Requirement already satisfied: requests>=2.19.0 in /usr/local/lib/python3.10/dist-packages (from datasets) (2.27.1)\n",
            "Requirement already satisfied: tqdm>=4.62.1 in /usr/local/lib/python3.10/dist-packages (from datasets) (4.65.0)\n",
            "Collecting xxhash (from datasets)\n",
            "  Downloading xxhash-3.2.0-cp310-cp310-manylinux_2_17_x86_64.manylinux2014_x86_64.whl (212 kB)\n",
            "\u001b[2K     \u001b[90m━━━━━━━━━━━━━━━━━━━━━━━━━━━━━━━━━━━━━━\u001b[0m \u001b[32m212.5/212.5 kB\u001b[0m \u001b[31m25.2 MB/s\u001b[0m eta \u001b[36m0:00:00\u001b[0m\n",
            "\u001b[?25hCollecting multiprocess (from datasets)\n",
            "  Downloading multiprocess-0.70.14-py310-none-any.whl (134 kB)\n",
            "\u001b[2K     \u001b[90m━━━━━━━━━━━━━━━━━━━━━━━━━━━━━━━━━━━━━━\u001b[0m \u001b[32m134.3/134.3 kB\u001b[0m \u001b[31m18.7 MB/s\u001b[0m eta \u001b[36m0:00:00\u001b[0m\n",
            "\u001b[?25hRequirement already satisfied: fsspec[http]>=2021.11.1 in /usr/local/lib/python3.10/dist-packages (from datasets) (2023.6.0)\n",
            "Requirement already satisfied: aiohttp in /usr/local/lib/python3.10/dist-packages (from datasets) (3.8.4)\n",
            "Requirement already satisfied: huggingface-hub<1.0.0,>=0.11.0 in /usr/local/lib/python3.10/dist-packages (from datasets) (0.15.1)\n",
            "Requirement already satisfied: packaging in /usr/local/lib/python3.10/dist-packages (from datasets) (23.1)\n",
            "Requirement already satisfied: pyyaml>=5.1 in /usr/local/lib/python3.10/dist-packages (from datasets) (6.0)\n",
            "Requirement already satisfied: attrs>=17.3.0 in /usr/local/lib/python3.10/dist-packages (from aiohttp->datasets) (23.1.0)\n",
            "Requirement already satisfied: charset-normalizer<4.0,>=2.0 in /usr/local/lib/python3.10/dist-packages (from aiohttp->datasets) (2.0.12)\n",
            "Requirement already satisfied: multidict<7.0,>=4.5 in /usr/local/lib/python3.10/dist-packages (from aiohttp->datasets) (6.0.4)\n",
            "Requirement already satisfied: async-timeout<5.0,>=4.0.0a3 in /usr/local/lib/python3.10/dist-packages (from aiohttp->datasets) (4.0.2)\n",
            "Requirement already satisfied: yarl<2.0,>=1.0 in /usr/local/lib/python3.10/dist-packages (from aiohttp->datasets) (1.9.2)\n",
            "Requirement already satisfied: frozenlist>=1.1.1 in /usr/local/lib/python3.10/dist-packages (from aiohttp->datasets) (1.3.3)\n",
            "Requirement already satisfied: aiosignal>=1.1.2 in /usr/local/lib/python3.10/dist-packages (from aiohttp->datasets) (1.3.1)\n",
            "Requirement already satisfied: filelock in /usr/local/lib/python3.10/dist-packages (from huggingface-hub<1.0.0,>=0.11.0->datasets) (3.12.2)\n",
            "Requirement already satisfied: typing-extensions>=3.7.4.3 in /usr/local/lib/python3.10/dist-packages (from huggingface-hub<1.0.0,>=0.11.0->datasets) (4.6.3)\n",
            "Requirement already satisfied: urllib3<1.27,>=1.21.1 in /usr/local/lib/python3.10/dist-packages (from requests>=2.19.0->datasets) (1.26.16)\n",
            "Requirement already satisfied: certifi>=2017.4.17 in /usr/local/lib/python3.10/dist-packages (from requests>=2.19.0->datasets) (2023.5.7)\n",
            "Requirement already satisfied: idna<4,>=2.5 in /usr/local/lib/python3.10/dist-packages (from requests>=2.19.0->datasets) (3.4)\n",
            "Requirement already satisfied: python-dateutil>=2.8.1 in /usr/local/lib/python3.10/dist-packages (from pandas->datasets) (2.8.2)\n",
            "Requirement already satisfied: pytz>=2020.1 in /usr/local/lib/python3.10/dist-packages (from pandas->datasets) (2022.7.1)\n",
            "Requirement already satisfied: six>=1.5 in /usr/local/lib/python3.10/dist-packages (from python-dateutil>=2.8.1->pandas->datasets) (1.16.0)\n",
            "Installing collected packages: xxhash, dill, multiprocess, datasets\n",
            "Successfully installed datasets-2.13.1 dill-0.3.6 multiprocess-0.70.14 xxhash-3.2.0\n"
          ]
        }
      ]
    },
    {
      "cell_type": "code",
      "source": [
        "from datasets import load_dataset\n",
        "\n",
        "\n",
        "dataset = load_dataset(\"beans\")"
      ],
      "metadata": {
        "colab": {
          "base_uri": "https://localhost:8080/",
          "height": 342,
          "referenced_widgets": [
            "268a98ab940c46adabe7e8a1e0830978",
            "27dae7e2373e4bf497a3ce0dd6df1816",
            "125a24de36ff472a93f65de10fb5c104",
            "9e2e1a6d8e894c11bd5a9f987f6fd46e",
            "ad3baf78ab1049ed94a5a7a58331d9e1",
            "310d14c2b3ae42a3bd7bcacf0c26e3c8",
            "f5e2f89e86e7448999d256b8eca5d787",
            "76c12335b9e4465d99ef895df7ba46f4",
            "b9b605423812411eb5bc3b4387ecb8dd",
            "37800246dc7b4b54a4466add0328b7e4",
            "367d79a74cd040aaa608de2223bdcc45",
            "0af20092ca7748a9b9b2ae23786b3d86",
            "176c1075cc804f30902f1e78c82c1415",
            "48045d769ce8422faa8a069e33d4657b",
            "9fb77165ed0648f59d18faf9adba40c4",
            "337d7ee21744416388c37e7b2723a287",
            "eed788cf5a834d0a86c4f8ed750588e2",
            "d64c37f3c66d4d888a9475335afad005",
            "78727033eecc4fe2b6e7b03bd777c0e9",
            "d5c6ade16a954d9c8e82e76a75fd56e0",
            "046b70ba6aa345ddbc9fd0af4715ca9e",
            "1ce0ea3167af4d9b815d537b3011adaf",
            "e87779abbfdf4cc49dac12bda8a3c794",
            "34a74350c7d545cebc77ba3cfd74f97d",
            "21e4d4dea12341c1ad770e6e26310433",
            "e710599fb33842808b1fc23375ddfeda",
            "ec1f653015674fc79b97fec6fb16c497",
            "3a559f8cfd974a1e8dadd44cfe05fea8",
            "83aee33427864c1198c70c4679b8932c",
            "cd84525754e94b41b9f3ecd97d22ec70",
            "c0b6435f2fdf427bb51a523eefd78997",
            "b1d32dfa4bfb400a83ff8af1e1bf7e7c",
            "d93cb50701bc48abb07e0703570e6716",
            "cb6d1757460d460a85593a9c1db65ba1",
            "c520e443c57d44f8bc7d57eba5edbd95",
            "5946c14ec59f4cd381b10081c46749c8",
            "b7931f3b1c5f4deca75da038c385be4a",
            "c4d8e2a33322455d9e809f04459ba05c",
            "6a0e857b690b41e0847dd1b9893c3fe5",
            "6388b0038eab4dff824153128a9a3614",
            "733e160a1fe34b4b8963548576ba8f5a",
            "d49db911c0e44e5b9e07574dd6941e73",
            "fef65870df4d438ba4860e899b5ef621",
            "c2a7e04508d5473cabf576db89bf9915",
            "feef534a6524498ba94ab9940184b04a",
            "cbf462295d294c439d66f40ed42164b7",
            "cc8dce44cd744ab3b3a869062a158e79",
            "6b77d29ad38d4b1397ddecc58177f91e",
            "dc837bca03494c1f9536380dd577ed0f",
            "2e4ab92092f04f0ca19846359375d853",
            "d31f035f22324f718be1c777efaaa3d4",
            "30b28d5e3d7c46508313b04ce5b8dbf0",
            "672a12ec635c464295006c97f820156f",
            "4a75942c39344da9b42694ad8560c6aa",
            "4a5542b6571e463e8e17fe0b03599dd8",
            "6cdb432ee5164822b4f11aa73a33d70f",
            "66da08c0437a4916bcf7069355555fca",
            "e8b67bbc0a3140559328fad3178c184b",
            "db307cdb6c20497ab05d177bcaf06223",
            "6d5946db5ff14ca0a8de16ae0a330dfe",
            "4faa4bf0a653413c88636a39c39643b3",
            "d7fac18a8e50478aa7fdda5f2a851ed0",
            "0fe80866ff7943699c4a5b4d4200ba2e",
            "1b08e2b0724d4649b2f206de9fa26d95",
            "76a97f3698e945bf9d49aa90dea2a695",
            "11183222c1034db9b0829118ba1ab686",
            "028f9963ab00499e9fe2fb5bc702519f",
            "172bc6dafad14c9f85c1136464627340",
            "af57983e158a4cb694c1d33d12d7ce22",
            "a1fcfe5d737b45d1839f2aee6b2aaccf",
            "528c3aa6434644d49dba8e8ad6297626",
            "aa7413c3a23f4e809fc74522b7f09a2a",
            "12739af88c1d4c4f8075146da894f1ee",
            "bc87662cb49b461485a4bcbaa29b1cd8",
            "0a5ee7454d6045c4be6bab91a55e81a5",
            "a13f39953d7f4bf2bda075e8f4485595",
            "95e02f018bef4647831cc51750d8d785",
            "8479285ae02046e283590f1ab4a7eac8",
            "7d972cdb32e345d6a1ae5376609ce2e1",
            "1df9d752284a4fec87a23e9576942552",
            "3dc9d0cda8b64b9ca0d42ae9972b3008",
            "09c7d6e895cf4e2594f51a14f496faf6",
            "a49b04a1765c4214b7a89a851494b01d",
            "39fb83cd3cfe4e2493a7a7486aacd476",
            "bc09b58638f947c082d25330468ae31c",
            "d47fccd898d34f7693822abfcfd1f1db",
            "7e4a5aee3955440dbfce632f709830df",
            "c3648ee6d9e44ab8b07f5f063900cbd3",
            "cd17fcaee36b407786374ba235138548",
            "e6c9de1ef53a4116b57605cfc5f7ab97",
            "9f90bf3f05f24a1b8a2ccd6529fc1af6",
            "cd6bea5bed6f45a4831fddac49602b67",
            "8372253924df4157ab25ffbd037e8151",
            "40b5779ee4244f99851ee82643398293",
            "0cfd54809c7f48b58a183bd7438807b0",
            "3cd38a54bce94c44a9b9db2abc38946f",
            "be9a451889a043e4a481067996fe36a9",
            "5f8fa9aabf084b8e8250be5bedf3975b",
            "09ceb07c525148b69d07fd3002f4deb7",
            "bbab8b381de2485b98465af26c0d04c5",
            "01e621fd2dac4f4c98e05979d6d3f119",
            "0f2380618f9d4a7c8c0d6b2b13074f17",
            "cd949ee227c94c40a17d14d79874bd65",
            "b6e2c9a5cb5c4938a488d91ba07a5c5f",
            "6be8f368f8df437ab767b2f72cae369d",
            "ebbfb5f1205f471881d26c014b0dd822",
            "d604defb3fab45ee9cba37d714af039a",
            "660b120751f14ac98d00baeb27a02da2",
            "b54f8779447140569c41e4abe25fbc3f",
            "29b47387080048cb8224900a68bca345",
            "bbdabd8a038a4e6c8c68ea28238df90a",
            "1df7622722114bfe9aee9357f05e7ca8",
            "4311bc0fd0c74a8d9b67be182310bd6b",
            "bb6656c1c05e45e597de0f0c04042dd7",
            "d8cce00adebe4598aadfe7ac3c30e7fd",
            "eb1ab44056b243c9a42bd951dd9916eb",
            "33fe0c3e351c40f19a2b86a15aeca5d6",
            "3e0eddc63fc84673a291cc0353cfd792",
            "eb5b3af49c8a42229ec06d87f49581d7",
            "16962873cd644254ad9b4e110e1ab325",
            "a7ec5860406c4738b611a8307aba86fb",
            "480fbecdf70b4d508f38ce61f2ef1e36",
            "791584514de543708a274e22b6091186",
            "d2712b466fe04d8ea5186e0b96038b9a",
            "dfaf51300c1345e996ac0d7aecb23f81",
            "6cdf2fcc17184289afcc08c3e434c1ae",
            "a81bf15ee2a24fd29faa40cc07fd6d9f",
            "87fbb44dd3d2418c9b69a32d3922f1aa",
            "2ddf91f65cce4f72b69e109542d72d41",
            "716849c7ffd7405b8fc3e2f54f499869",
            "791572c6f2d946f7875a16d5cf2794ff",
            "7c743e307dd94ca7a8c690917466262b"
          ]
        },
        "id": "xzyJJp36Wdvg",
        "outputId": "161ae1f2-f1c8-4f8a-c01b-12356aa125a9"
      },
      "execution_count": 5,
      "outputs": [
        {
          "output_type": "display_data",
          "data": {
            "text/plain": [
              "Downloading builder script:   0%|          | 0.00/3.61k [00:00<?, ?B/s]"
            ],
            "application/vnd.jupyter.widget-view+json": {
              "version_major": 2,
              "version_minor": 0,
              "model_id": "268a98ab940c46adabe7e8a1e0830978"
            }
          },
          "metadata": {}
        },
        {
          "output_type": "display_data",
          "data": {
            "text/plain": [
              "Downloading metadata:   0%|          | 0.00/2.24k [00:00<?, ?B/s]"
            ],
            "application/vnd.jupyter.widget-view+json": {
              "version_major": 2,
              "version_minor": 0,
              "model_id": "0af20092ca7748a9b9b2ae23786b3d86"
            }
          },
          "metadata": {}
        },
        {
          "output_type": "display_data",
          "data": {
            "text/plain": [
              "Downloading readme:   0%|          | 0.00/4.75k [00:00<?, ?B/s]"
            ],
            "application/vnd.jupyter.widget-view+json": {
              "version_major": 2,
              "version_minor": 0,
              "model_id": "e87779abbfdf4cc49dac12bda8a3c794"
            }
          },
          "metadata": {}
        },
        {
          "output_type": "stream",
          "name": "stdout",
          "text": [
            "Downloading and preparing dataset beans/default to /root/.cache/huggingface/datasets/beans/default/0.0.0/90c755fb6db1c0ccdad02e897a37969dbf070bed3755d4391e269ff70642d791...\n"
          ]
        },
        {
          "output_type": "display_data",
          "data": {
            "text/plain": [
              "Downloading data files:   0%|          | 0/3 [00:00<?, ?it/s]"
            ],
            "application/vnd.jupyter.widget-view+json": {
              "version_major": 2,
              "version_minor": 0,
              "model_id": "cb6d1757460d460a85593a9c1db65ba1"
            }
          },
          "metadata": {}
        },
        {
          "output_type": "display_data",
          "data": {
            "text/plain": [
              "Downloading data:   0%|          | 0.00/144M [00:00<?, ?B/s]"
            ],
            "application/vnd.jupyter.widget-view+json": {
              "version_major": 2,
              "version_minor": 0,
              "model_id": "feef534a6524498ba94ab9940184b04a"
            }
          },
          "metadata": {}
        },
        {
          "output_type": "display_data",
          "data": {
            "text/plain": [
              "Downloading data:   0%|          | 0.00/18.5M [00:00<?, ?B/s]"
            ],
            "application/vnd.jupyter.widget-view+json": {
              "version_major": 2,
              "version_minor": 0,
              "model_id": "6cdb432ee5164822b4f11aa73a33d70f"
            }
          },
          "metadata": {}
        },
        {
          "output_type": "display_data",
          "data": {
            "text/plain": [
              "Downloading data:   0%|          | 0.00/17.7M [00:00<?, ?B/s]"
            ],
            "application/vnd.jupyter.widget-view+json": {
              "version_major": 2,
              "version_minor": 0,
              "model_id": "028f9963ab00499e9fe2fb5bc702519f"
            }
          },
          "metadata": {}
        },
        {
          "output_type": "display_data",
          "data": {
            "text/plain": [
              "Extracting data files:   0%|          | 0/3 [00:00<?, ?it/s]"
            ],
            "application/vnd.jupyter.widget-view+json": {
              "version_major": 2,
              "version_minor": 0,
              "model_id": "8479285ae02046e283590f1ab4a7eac8"
            }
          },
          "metadata": {}
        },
        {
          "output_type": "display_data",
          "data": {
            "text/plain": [
              "Generating train split:   0%|          | 0/1034 [00:00<?, ? examples/s]"
            ],
            "application/vnd.jupyter.widget-view+json": {
              "version_major": 2,
              "version_minor": 0,
              "model_id": "cd17fcaee36b407786374ba235138548"
            }
          },
          "metadata": {}
        },
        {
          "output_type": "display_data",
          "data": {
            "text/plain": [
              "Generating validation split:   0%|          | 0/133 [00:00<?, ? examples/s]"
            ],
            "application/vnd.jupyter.widget-view+json": {
              "version_major": 2,
              "version_minor": 0,
              "model_id": "bbab8b381de2485b98465af26c0d04c5"
            }
          },
          "metadata": {}
        },
        {
          "output_type": "display_data",
          "data": {
            "text/plain": [
              "Generating test split:   0%|          | 0/128 [00:00<?, ? examples/s]"
            ],
            "application/vnd.jupyter.widget-view+json": {
              "version_major": 2,
              "version_minor": 0,
              "model_id": "bbdabd8a038a4e6c8c68ea28238df90a"
            }
          },
          "metadata": {}
        },
        {
          "output_type": "stream",
          "name": "stdout",
          "text": [
            "Dataset beans downloaded and prepared to /root/.cache/huggingface/datasets/beans/default/0.0.0/90c755fb6db1c0ccdad02e897a37969dbf070bed3755d4391e269ff70642d791. Subsequent calls will reuse this data.\n"
          ]
        },
        {
          "output_type": "display_data",
          "data": {
            "text/plain": [
              "  0%|          | 0/3 [00:00<?, ?it/s]"
            ],
            "application/vnd.jupyter.widget-view+json": {
              "version_major": 2,
              "version_minor": 0,
              "model_id": "480fbecdf70b4d508f38ce61f2ef1e36"
            }
          },
          "metadata": {}
        }
      ]
    },
    {
      "cell_type": "code",
      "source": [
        "dataset[\"train\"].features"
      ],
      "metadata": {
        "colab": {
          "base_uri": "https://localhost:8080/"
        },
        "id": "P8qg2-7PW6r6",
        "outputId": "d1381ec6-1282-4976-8cd8-d48b2b922cf1"
      },
      "execution_count": 6,
      "outputs": [
        {
          "output_type": "execute_result",
          "data": {
            "text/plain": [
              "{'image_file_path': Value(dtype='string', id=None),\n",
              " 'image': Image(decode=True, id=None),\n",
              " 'labels': ClassLabel(names=['angular_leaf_spot', 'bean_rust', 'healthy'], id=None)}"
            ]
          },
          "metadata": {},
          "execution_count": 6
        }
      ]
    },
    {
      "cell_type": "code",
      "source": [
        "num_samples = 100\n",
        "seed = 42\n",
        "candidate_subset = dataset[\"train\"].shuffle(seed=seed).select(range(num_samples))\n"
      ],
      "metadata": {
        "id": "EpRpVlvdW69T"
      },
      "execution_count": 7,
      "outputs": []
    },
    {
      "cell_type": "code",
      "source": [
        "import torchvision.transforms as T\n",
        "\n",
        "\n",
        "# Data transformation chain.\n",
        "transformation_chain = T.Compose(\n",
        "    [\n",
        "        # We first resize the input image to 256x256 and then we take center crop.\n",
        "        T.Resize(int((256 / 224) * extractor.size[\"height\"])),\n",
        "        T.CenterCrop(extractor.size[\"height\"]),\n",
        "        T.ToTensor(),\n",
        "        T.Normalize(mean=extractor.image_mean, std=extractor.image_std),\n",
        "    ]\n",
        ")"
      ],
      "metadata": {
        "id": "RGw2bjInX7aw"
      },
      "execution_count": 11,
      "outputs": []
    },
    {
      "cell_type": "code",
      "source": [
        "import torch\n",
        "\n",
        "def extract_embeddings(model: torch.nn.Module):\n",
        "    \"\"\"Utility to compute embeddings.\"\"\"\n",
        "    device = model.device\n",
        "\n",
        "    def pp(batch):\n",
        "        images = batch[\"image\"]\n",
        "        # `transformation_chain` is a compostion of preprocessing\n",
        "        # transformations we apply to the input images to prepare them\n",
        "        # for the model. For more details, check out the accompanying Colab Notebook.\n",
        "        image_batch_transformed = torch.stack(\n",
        "            [transformation_chain(image) for image in images]\n",
        "        )\n",
        "        new_batch = {\"pixel_values\": image_batch_transformed.to(device)}\n",
        "        with torch.no_grad():\n",
        "            embeddings = model(**new_batch).last_hidden_state[:, 0].cpu()\n",
        "        return {\"embeddings\": embeddings}\n",
        "\n",
        "    return pp\n"
      ],
      "metadata": {
        "id": "4V7BehG4XLFV"
      },
      "execution_count": 8,
      "outputs": []
    },
    {
      "cell_type": "code",
      "source": [
        "device = \"cuda\" if torch.cuda.is_available() else \"cpu\"\n",
        "extract_fn = extract_embeddings(model.to(device))\n",
        "candidate_subset_emb = candidate_subset.map(extract_fn, batched=True, batch_size=4)\n"
      ],
      "metadata": {
        "colab": {
          "base_uri": "https://localhost:8080/",
          "height": 17,
          "referenced_widgets": [
            "33d70d132f6e4d95bd99b1d8e6afb2e5",
            "0c15d4cb10934a25ab5e2179a3b3436b",
            "3c52b813a35945d385a0c8f798c1205e",
            "ca11f33e71ce4f879c1d85f652d96c48",
            "89aec36bc8c34389855abf59a2602865",
            "4c6f4c6fd53b4c1b9dec83134539e922",
            "c5ec48f3e9664709b89c30d45032990c",
            "d8c1aa495d9e40a1857d5f8f8cf64019",
            "b12bf83e85264f109119201630c83426",
            "1f62fa2b73674adabe18a0ffcb0969df",
            "01a603451d1a4f56bb6cbd3713761768"
          ]
        },
        "id": "5eI0dFsFXUsN",
        "outputId": "f24bb6e9-35f4-4e29-e410-d04bdd311abc"
      },
      "execution_count": 12,
      "outputs": [
        {
          "output_type": "display_data",
          "data": {
            "text/plain": [
              "Map:   0%|          | 0/100 [00:00<?, ? examples/s]"
            ],
            "application/vnd.jupyter.widget-view+json": {
              "version_major": 2,
              "version_minor": 0,
              "model_id": "33d70d132f6e4d95bd99b1d8e6afb2e5"
            }
          },
          "metadata": {}
        }
      ]
    },
    {
      "cell_type": "code",
      "source": [
        "from tqdm import tqdm\n",
        "import numpy as np"
      ],
      "metadata": {
        "id": "du3u28v8YMpE"
      },
      "execution_count": 19,
      "outputs": []
    },
    {
      "cell_type": "code",
      "source": [
        "candidate_ids = []\n",
        "\n",
        "for id in tqdm(range(len(candidate_subset_emb))):\n",
        "    label = candidate_subset_emb[id][\"labels\"]\n",
        "\n",
        "    # Create a unique indentifier.\n",
        "    entry = str(id) + \"_\" + str(label)\n",
        "\n",
        "    candidate_ids.append(entry)\n"
      ],
      "metadata": {
        "colab": {
          "base_uri": "https://localhost:8080/"
        },
        "id": "x0VZI-1MYJPQ",
        "outputId": "eb4faf7e-e0c9-4c4f-9722-f6c448ae0b7d"
      },
      "execution_count": 17,
      "outputs": [
        {
          "output_type": "stream",
          "name": "stderr",
          "text": [
            "100%|██████████| 100/100 [00:01<00:00, 61.37it/s]\n"
          ]
        }
      ]
    },
    {
      "cell_type": "code",
      "source": [
        "all_candidate_embeddings = np.array(candidate_subset_emb[\"embeddings\"])\n",
        "all_candidate_embeddings = torch.from_numpy(all_candidate_embeddings)"
      ],
      "metadata": {
        "id": "KzXQEXPnYXL4"
      },
      "execution_count": 20,
      "outputs": []
    },
    {
      "cell_type": "code",
      "source": [
        "def compute_scores(emb_one, emb_two):\n",
        "    \"\"\"Computes cosine similarity between two vectors.\"\"\"\n",
        "    scores = torch.nn.functional.cosine_similarity(emb_one, emb_two)\n",
        "    return scores.numpy().tolist()\n",
        "\n",
        "\n",
        "def fetch_similar(image, top_k=5):\n",
        "    \"\"\"Fetches the `top_k` similar images with `image` as the query.\"\"\"\n",
        "    # Prepare the input query image for embedding computation.\n",
        "    image_transformed = transformation_chain(image).unsqueeze(0)\n",
        "    new_batch = {\"pixel_values\": image_transformed.to(device)}\n",
        "\n",
        "    # Comute the embedding.\n",
        "    with torch.no_grad():\n",
        "        query_embeddings = model(**new_batch).last_hidden_state[:, 0].cpu()\n",
        "\n",
        "    # Compute similarity scores with all the candidate images at one go.\n",
        "    # We also create a mapping between the candidate image identifiers\n",
        "    # and their similarity scores with the query image.\n",
        "    sim_scores = compute_scores(all_candidate_embeddings, query_embeddings)\n",
        "    similarity_mapping = dict(zip(candidate_ids, sim_scores))\n",
        "\n",
        "    # Sort the mapping dictionary and return `top_k` candidates.\n",
        "    similarity_mapping_sorted = dict(\n",
        "        sorted(similarity_mapping.items(), key=lambda x: x[1], reverse=True)\n",
        "    )\n",
        "    id_entries = list(similarity_mapping_sorted.keys())[:top_k]\n",
        "\n",
        "    ids = list(map(lambda x: int(x.split(\"_\")[0]), id_entries))\n",
        "    labels = list(map(lambda x: int(x.split(\"_\")[-1]), id_entries))\n",
        "    return ids, labels\n"
      ],
      "metadata": {
        "id": "QrXj8_3wYju6"
      },
      "execution_count": 21,
      "outputs": []
    },
    {
      "cell_type": "code",
      "source": [
        "test_idx = np.random.choice(len(dataset[\"test\"]))\n",
        "test_sample = dataset[\"test\"][test_idx][\"image\"]\n",
        "test_label = dataset[\"test\"][test_idx][\"labels\"]\n",
        "\n",
        "sim_ids, sim_labels = fetch_similar(test_sample)\n",
        "print(f\"Query label: {test_label}\")\n",
        "print(f\"Top 5 candidate labels: {sim_labels}\")\n"
      ],
      "metadata": {
        "colab": {
          "base_uri": "https://localhost:8080/"
        },
        "id": "x7YyOQDSYqgV",
        "outputId": "3cf85ca5-2b9b-45a2-88f0-8405a73d943d"
      },
      "execution_count": 22,
      "outputs": [
        {
          "output_type": "stream",
          "name": "stdout",
          "text": [
            "Query label: 0\n",
            "Top 5 candidate labels: [0, 0, 0, 0, 0]\n"
          ]
        }
      ]
    }
  ]
}