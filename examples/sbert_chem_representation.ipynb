{
  "nbformat": 4,
  "nbformat_minor": 0,
  "metadata": {
    "colab": {
      "provenance": [],
      "authorship_tag": "ABX9TyNaMjKhu9xzwlV9d4OvG96b",
      "include_colab_link": true
    },
    "kernelspec": {
      "name": "python3",
      "display_name": "Python 3"
    },
    "language_info": {
      "name": "python"
    }
  },
  "cells": [
    {
      "cell_type": "markdown",
      "metadata": {
        "id": "view-in-github",
        "colab_type": "text"
      },
      "source": [
        "<a href=\"https://colab.research.google.com/github/kjahan/semantic_similarity/blob/main/examples/colab/sbert_chem_representation.ipynb\" target=\"_parent\"><img src=\"https://colab.research.google.com/assets/colab-badge.svg\" alt=\"Open In Colab\"/></a>"
      ]
    },
    {
      "cell_type": "markdown",
      "source": [
        "# Goal: explore limitations of sentence transformers\n",
        "\n",
        "We want to check limitation of SBERT and MPNET in Chemistry formulas!"
      ],
      "metadata": {
        "id": "-GMB4a3_P4oD"
      }
    },
    {
      "cell_type": "code",
      "execution_count": 1,
      "metadata": {
        "colab": {
          "base_uri": "https://localhost:8080/"
        },
        "id": "T7Bj8zjxP2-O",
        "outputId": "c1febf70-d58d-4373-81e9-e6ef4e2d1613"
      },
      "outputs": [
        {
          "output_type": "stream",
          "name": "stdout",
          "text": [
            "Looking in indexes: https://pypi.org/simple, https://us-python.pkg.dev/colab-wheels/public/simple/\n",
            "Collecting sentence-transformers\n",
            "  Downloading sentence-transformers-2.2.2.tar.gz (85 kB)\n",
            "\u001b[2K     \u001b[90m━━━━━━━━━━━━━━━━━━━━━━━━━━━━━━━━━━━━━━━━\u001b[0m \u001b[32m86.0/86.0 KB\u001b[0m \u001b[31m2.1 MB/s\u001b[0m eta \u001b[36m0:00:00\u001b[0m\n",
            "\u001b[?25h  Preparing metadata (setup.py) ... \u001b[?25l\u001b[?25hdone\n",
            "Collecting transformers<5.0.0,>=4.6.0\n",
            "  Downloading transformers-4.26.0-py3-none-any.whl (6.3 MB)\n",
            "\u001b[2K     \u001b[90m━━━━━━━━━━━━━━━━━━━━━━━━━━━━━━━━━━━━━━━━\u001b[0m \u001b[32m6.3/6.3 MB\u001b[0m \u001b[31m22.1 MB/s\u001b[0m eta \u001b[36m0:00:00\u001b[0m\n",
            "\u001b[?25hRequirement already satisfied: tqdm in /usr/local/lib/python3.8/dist-packages (from sentence-transformers) (4.64.1)\n",
            "Requirement already satisfied: torch>=1.6.0 in /usr/local/lib/python3.8/dist-packages (from sentence-transformers) (1.13.1+cu116)\n",
            "Requirement already satisfied: torchvision in /usr/local/lib/python3.8/dist-packages (from sentence-transformers) (0.14.1+cu116)\n",
            "Requirement already satisfied: numpy in /usr/local/lib/python3.8/dist-packages (from sentence-transformers) (1.21.6)\n",
            "Requirement already satisfied: scikit-learn in /usr/local/lib/python3.8/dist-packages (from sentence-transformers) (1.0.2)\n",
            "Requirement already satisfied: scipy in /usr/local/lib/python3.8/dist-packages (from sentence-transformers) (1.7.3)\n",
            "Requirement already satisfied: nltk in /usr/local/lib/python3.8/dist-packages (from sentence-transformers) (3.7)\n",
            "Collecting sentencepiece\n",
            "  Downloading sentencepiece-0.1.97-cp38-cp38-manylinux_2_17_x86_64.manylinux2014_x86_64.whl (1.3 MB)\n",
            "\u001b[2K     \u001b[90m━━━━━━━━━━━━━━━━━━━━━━━━━━━━━━━━━━━━━━━━\u001b[0m \u001b[32m1.3/1.3 MB\u001b[0m \u001b[31m25.3 MB/s\u001b[0m eta \u001b[36m0:00:00\u001b[0m\n",
            "\u001b[?25hCollecting huggingface-hub>=0.4.0\n",
            "  Downloading huggingface_hub-0.12.0-py3-none-any.whl (190 kB)\n",
            "\u001b[2K     \u001b[90m━━━━━━━━━━━━━━━━━━━━━━━━━━━━━━━━━━━━━━\u001b[0m \u001b[32m190.3/190.3 KB\u001b[0m \u001b[31m10.2 MB/s\u001b[0m eta \u001b[36m0:00:00\u001b[0m\n",
            "\u001b[?25hRequirement already satisfied: packaging>=20.9 in /usr/local/lib/python3.8/dist-packages (from huggingface-hub>=0.4.0->sentence-transformers) (23.0)\n",
            "Requirement already satisfied: typing-extensions>=3.7.4.3 in /usr/local/lib/python3.8/dist-packages (from huggingface-hub>=0.4.0->sentence-transformers) (4.4.0)\n",
            "Requirement already satisfied: filelock in /usr/local/lib/python3.8/dist-packages (from huggingface-hub>=0.4.0->sentence-transformers) (3.9.0)\n",
            "Requirement already satisfied: requests in /usr/local/lib/python3.8/dist-packages (from huggingface-hub>=0.4.0->sentence-transformers) (2.25.1)\n",
            "Requirement already satisfied: pyyaml>=5.1 in /usr/local/lib/python3.8/dist-packages (from huggingface-hub>=0.4.0->sentence-transformers) (6.0)\n",
            "Collecting tokenizers!=0.11.3,<0.14,>=0.11.1\n",
            "  Downloading tokenizers-0.13.2-cp38-cp38-manylinux_2_17_x86_64.manylinux2014_x86_64.whl (7.6 MB)\n",
            "\u001b[2K     \u001b[90m━━━━━━━━━━━━━━━━━━━━━━━━━━━━━━━━━━━━━━━━\u001b[0m \u001b[32m7.6/7.6 MB\u001b[0m \u001b[31m13.7 MB/s\u001b[0m eta \u001b[36m0:00:00\u001b[0m\n",
            "\u001b[?25hRequirement already satisfied: regex!=2019.12.17 in /usr/local/lib/python3.8/dist-packages (from transformers<5.0.0,>=4.6.0->sentence-transformers) (2022.6.2)\n",
            "Requirement already satisfied: joblib in /usr/local/lib/python3.8/dist-packages (from nltk->sentence-transformers) (1.2.0)\n",
            "Requirement already satisfied: click in /usr/local/lib/python3.8/dist-packages (from nltk->sentence-transformers) (7.1.2)\n",
            "Requirement already satisfied: threadpoolctl>=2.0.0 in /usr/local/lib/python3.8/dist-packages (from scikit-learn->sentence-transformers) (3.1.0)\n",
            "Requirement already satisfied: pillow!=8.3.*,>=5.3.0 in /usr/local/lib/python3.8/dist-packages (from torchvision->sentence-transformers) (7.1.2)\n",
            "Requirement already satisfied: certifi>=2017.4.17 in /usr/local/lib/python3.8/dist-packages (from requests->huggingface-hub>=0.4.0->sentence-transformers) (2022.12.7)\n",
            "Requirement already satisfied: chardet<5,>=3.0.2 in /usr/local/lib/python3.8/dist-packages (from requests->huggingface-hub>=0.4.0->sentence-transformers) (4.0.0)\n",
            "Requirement already satisfied: urllib3<1.27,>=1.21.1 in /usr/local/lib/python3.8/dist-packages (from requests->huggingface-hub>=0.4.0->sentence-transformers) (1.24.3)\n",
            "Requirement already satisfied: idna<3,>=2.5 in /usr/local/lib/python3.8/dist-packages (from requests->huggingface-hub>=0.4.0->sentence-transformers) (2.10)\n",
            "Building wheels for collected packages: sentence-transformers\n",
            "  Building wheel for sentence-transformers (setup.py) ... \u001b[?25l\u001b[?25hdone\n",
            "  Created wheel for sentence-transformers: filename=sentence_transformers-2.2.2-py3-none-any.whl size=125938 sha256=07e6c7f79ced74c31913c61aee6b52c414e2e34fbd1a78beee0c54bf6926b252\n",
            "  Stored in directory: /root/.cache/pip/wheels/5e/6f/8c/d88aec621f3f542d26fac0342bef5e693335d125f4e54aeffe\n",
            "Successfully built sentence-transformers\n",
            "Installing collected packages: tokenizers, sentencepiece, huggingface-hub, transformers, sentence-transformers\n",
            "Successfully installed huggingface-hub-0.12.0 sentence-transformers-2.2.2 sentencepiece-0.1.97 tokenizers-0.13.2 transformers-4.26.0\n"
          ]
        }
      ],
      "source": [
        "!pip install -U sentence-transformers"
      ]
    },
    {
      "cell_type": "code",
      "source": [
        "from sentence_transformers import SentenceTransformer, util\n",
        "\n",
        "from transformers import BertTokenizer\n",
        "from transformers import MPNetTokenizer, MPNetModel\n",
        "import torch\n",
        "\n",
        "import numpy as np\n",
        "import pandas as pd\n",
        "\n",
        "import random"
      ],
      "metadata": {
        "id": "5vxleCgeQAbj"
      },
      "execution_count": 2,
      "outputs": []
    },
    {
      "cell_type": "markdown",
      "source": [
        "## Load pre-trained model\n",
        "\n",
        "https://www.sbert.net/docs/pretrained_models.html"
      ],
      "metadata": {
        "id": "54OAMyNyQErA"
      }
    },
    {
      "cell_type": "code",
      "source": [
        "model_name_1 = 'all-mpnet-base-v2'\n",
        "model_1 = SentenceTransformer(model_name_1)"
      ],
      "metadata": {
        "colab": {
          "base_uri": "https://localhost:8080/",
          "height": 465,
          "referenced_widgets": [
            "af9824b9ba4a4b1c9ed4624a80bd13ef",
            "7ee35b8229164057965c4cbdb447cc60",
            "962f0148d8ee41cbb0f4a36be14db8b4",
            "b543b66ad8cb41eba97f5404a1304925",
            "326d910214ff4811b1df54570195f9f0",
            "b973f53f7cd6414f8192a6b2f008a2a8",
            "4534792d4b1b4a2c84b9acb744d7c341",
            "4bdeb1581619418d9b209e11b19069f3",
            "0ea18f3ae07945ac9d62aaf4ea8f64e5",
            "925ddbe6d8a942fa8c5b9da0c4ae79c7",
            "cb8b67d6f3dd4f72bbc7d4e77f5adc92",
            "2eccbfdb789641c5810ce8cb078febad",
            "79c6ee50cc1842deaad306a86f69b21c",
            "d25ba496044d4cd0891cc6b1b4cc3837",
            "102caa1f993f46fbb8e88071734e9300",
            "538f3105b50d4d1989f5226f9f8abd91",
            "5820015306ca413b82f385adb2e6db32",
            "e9d68a7fb0ce49f090909742438918ef",
            "390ed2b324b04c4d89f55033c1191118",
            "a2a6bf3459a1462cba498e7285e026fe",
            "adb781bb66b344bcb9789218ccab15d7",
            "0d684abfb5cc40a9bac65018c2e6b39f",
            "94236b432b644aa7a9db1d215598b0c9",
            "b1a5b4f1e2e249b8b6f01c9c468dc487",
            "a05c35302a6043b5a29f1f42bda815b9",
            "ea28ac0ec40049feae31523ead374d2a",
            "ad40b20d98174a1d865a657282678d0f",
            "843f2d592bf64accb55fcb92a6929f81",
            "0fc1d180eb5e4326bf8a35dffe758cae",
            "f1b880940a0e4513aa1f7b578552fa65",
            "2923b225f6334ee7b5c41042317bf9e8",
            "a7383156fbf74398bdaeaafe3fbdf3e0",
            "e9f1b5a62f3a49699cbe54fe659ba07e",
            "dafa6bbeacff4d7dba313550a1c5e866",
            "576d41f3bc59402f98fadff1d4f97c7d",
            "16c1166b289a46e6942d1c53795baf79",
            "bb7175189e684f3389effaabfa6cbe0e",
            "1af79df7b3f14d13a4faece73b199425",
            "b21bf7836a0a49c1a9e0aa3d02c555a3",
            "13612ce19e7141a288670cd3541917bf",
            "e5d3340d49c84512a15efb382261f92f",
            "4ded4fdef1484eec881148caf8954de7",
            "e63d80bb59834f0a9e12e33a0ce6ac95",
            "9254c957ce0b4d6abc5e745c27c0645e",
            "087ad8c4dcf3463dbef2553306cdb755",
            "5bd40d6156b44a52bc90711049b9eeb4",
            "5f898a97902649e6b766107296cce244",
            "eafa988d81764f25ba46f92ea4a4339e",
            "d9bcb0a42674400280101d74e6464359",
            "bc0857f7e1e34a1ab32183ba76555bf4",
            "13d13130f46f4e8caa929e8eb3f17dfa",
            "3b66a7497c444e708449d150926dcd1e",
            "f196d4d972df4162a9ff7e691f9cc712",
            "89e3dae854da4372b02d19ef08b32b51",
            "c56f6c6538d844f3a32ff41c810bd68d",
            "990dffb5e9e847978b5bc0e2da7324e6",
            "aa65d562ba3449efafc8518de304773b",
            "0908c593ac2d4c1d853a3b73eef208fb",
            "e4b94c779ded4b4f83efc10e9ab84fc2",
            "e9a009e5dc564b16a83341130130efcc",
            "3295bdea6db147e48a22b5d317c133e9",
            "604221c8e5f84cb89006ee406a664cd6",
            "ea51b50d80704fbda15922a27f28c66b",
            "06a3545d7fb94440896db660dad8c6a5",
            "1344554503274d5bb3fa25977472e2a1",
            "00731e6edad647c499b88fd9b8d0abb9",
            "c7c5a4681ad64216afdbfce42016d8d9",
            "ef6569172321420f9c53e4946af16b5e",
            "6ad7a9d2df054d2fb7c2a2b7a3359db2",
            "44444deb9ab6416db0b60bcd0a4d2400",
            "ee39c78ef26b4395bec23313794e8070",
            "ca670d0fc82c476a81a5854c545357f9",
            "53fc0c9b69c049808343d4758faab376",
            "30b9db37b5c84801baca9a0ec5f61212",
            "c7c7a84888c5427a9be7d2591a7f8d77",
            "8531c65639434e50b09f1e2fbd9da8dd",
            "a641a890d893459e81982a1d8392daf4",
            "a46f9cdd969e47acb2d6264e931e6eba",
            "5db80ac76704466eb855233f2118e437",
            "d63123ae20824bb7b78d5fbca8a13ef0",
            "677b70c4b51e474ca4c29d72bae9b277",
            "eff959540e3f4989bcf53359ee0b5ea6",
            "12c4515a2d8a4babb016be44a7e843db",
            "b482f97361d243ad9c40756497a606ac",
            "b6de814f30b244ec9661a7317485de71",
            "0bead54977c440cc9e5477575fab1207",
            "e84a761dfbb24fa196d6ba96b063cf60",
            "0f7ae95cbf794b07a6d8d4271f03e87f",
            "114bf50ef98c4d83993d2ee98146eb84",
            "d43d7dfa775644aebe90bfb59653c055",
            "99054867a478410fbd651a4f79eb354b",
            "1d7e52823b14494f8bef7e5852f736c9",
            "513fc442450a445895db870ba602fadf",
            "4cb86aa3a618477b8085e617ba59dc1e",
            "d1c11ae6da0f4b089d2e03c7784fbec2",
            "f8d88ca9b71e46cfac93a69c856d93f1",
            "51929d97debe4d3f8346e58c750122a5",
            "e90e3c14ffa746bf866d71132dc1f963",
            "b26136b66a9f448b841d4f562d3769af",
            "2ee7dbd9af624094951b85a990bf3141",
            "c5242f0774d343de9762edd483e64fb7",
            "0778ab1cfe3b48edbfb45d4b915bd874",
            "17e1ccb33c2f4b4aa0e3bf08788189c8",
            "f51f0ad8ffce4fc393873966487e4671",
            "203ca8b1ea6d4527a68fd0babb68b16a",
            "04eeb2d2ef4d4e2c9cde8a294b33ddf6",
            "69c1e5573d51493baf95e96d4d651966",
            "99df945836e44206ab1f75cb2d94f8b6",
            "bc66291875394d69a855f9f6aa841477",
            "f86de381b4764e09a08c62bb9e150af3",
            "aa231dc15aca4548b6721facc9f9605d",
            "4515e6b3a874427fbf86afe69a52b2bf",
            "059de24bf9214b0abf4d9f4b3ce21745",
            "27974b1bb4c446cfa82f51c580424513",
            "6941c23e9c474e33ac5262c94c870ab3",
            "f5553eb647af44f6bde320aa7be639d2",
            "11e50e4e2f6345f199de3c586e274b18",
            "6f699bd768ef4899819b21daa8e04c38",
            "dcb0e3897dfd44b49457871a0268223c",
            "ed150e159de340a094d34596ed4b771d",
            "9053a06a189b4287a1cc965a6a53578f",
            "bed982cd65fb46268b4ded50bda873d9",
            "3a8ec19b6adc413896b6415e7d88cd75",
            "cd842bfa857143faa4b02bb3255d4213",
            "9004b1fe79b1436ebbb8b8465209f8ab",
            "b91cc3a0c6664d2b85d988595529b297",
            "b0e01adf3b744fdd97eea94c834fc85d",
            "7cecc1b5e4e746e2ae58084d1e638f8e",
            "6b56c66d31394b5b842bcc048bcdfc4e",
            "58c78c5c1b7a45d5accc95e27c3b1481",
            "4ab2cefbb5c149448af13181ef7453c7",
            "205bdf63732f4b7196f3d7e16b493c28",
            "0e405f0fd1b54c76b0a7b6e278d2dca7",
            "9448fbfe3c2c4fae912075934341e034",
            "87c54a8053704e68988a4154e1bb49bf",
            "e8d8afbf4bbb4945abfef934bd21d3dd",
            "d3bfd1409a374e1b8efcb9796b0e03d3",
            "ca3220abf249486ebf372d1df514e685",
            "ba2f22531f7f40c0903b97544d48545f",
            "29a1124274f0485480477c08d1409351",
            "a2dbd9df2b12447e88e3c70ef3414460",
            "c1fed343d998452080141556bab38bab",
            "eecaf57ea53e466a82348b88a9a5da09",
            "703bee7cb2ba47a7a271128f71230739",
            "7c6a33ed0580480ca3a277dae4f83928",
            "1e98b7aa7efc424d88afc725ec2deb91",
            "9de5c5ead314403fa90fceae5c24b3df",
            "897a63025c644b0fac85046cbf9e0e5f",
            "cbe670044b364385bed0f710cd91ee0c",
            "0bb90aac518a4b9cbaa1bbff23125372",
            "2fd16e5b6e68434baa0b43d1764de7c3",
            "b992efb85aab4ff78e5183a29cf69f8a",
            "8258b14ffef641a0a080d2c55f169140",
            "054bc4880f0249c1a1ea529c1d455ed6"
          ]
        },
        "id": "ixINPX_CQD2G",
        "outputId": "5973a904-7212-4227-939b-97409388593e"
      },
      "execution_count": 3,
      "outputs": [
        {
          "output_type": "display_data",
          "data": {
            "text/plain": [
              "Downloading (…)a8e1d/.gitattributes:   0%|          | 0.00/1.18k [00:00<?, ?B/s]"
            ],
            "application/vnd.jupyter.widget-view+json": {
              "version_major": 2,
              "version_minor": 0,
              "model_id": "af9824b9ba4a4b1c9ed4624a80bd13ef"
            }
          },
          "metadata": {}
        },
        {
          "output_type": "display_data",
          "data": {
            "text/plain": [
              "Downloading (…)_Pooling/config.json:   0%|          | 0.00/190 [00:00<?, ?B/s]"
            ],
            "application/vnd.jupyter.widget-view+json": {
              "version_major": 2,
              "version_minor": 0,
              "model_id": "2eccbfdb789641c5810ce8cb078febad"
            }
          },
          "metadata": {}
        },
        {
          "output_type": "display_data",
          "data": {
            "text/plain": [
              "Downloading (…)b20bca8e1d/README.md:   0%|          | 0.00/10.6k [00:00<?, ?B/s]"
            ],
            "application/vnd.jupyter.widget-view+json": {
              "version_major": 2,
              "version_minor": 0,
              "model_id": "94236b432b644aa7a9db1d215598b0c9"
            }
          },
          "metadata": {}
        },
        {
          "output_type": "display_data",
          "data": {
            "text/plain": [
              "Downloading (…)0bca8e1d/config.json:   0%|          | 0.00/571 [00:00<?, ?B/s]"
            ],
            "application/vnd.jupyter.widget-view+json": {
              "version_major": 2,
              "version_minor": 0,
              "model_id": "dafa6bbeacff4d7dba313550a1c5e866"
            }
          },
          "metadata": {}
        },
        {
          "output_type": "display_data",
          "data": {
            "text/plain": [
              "Downloading (…)ce_transformers.json:   0%|          | 0.00/116 [00:00<?, ?B/s]"
            ],
            "application/vnd.jupyter.widget-view+json": {
              "version_major": 2,
              "version_minor": 0,
              "model_id": "087ad8c4dcf3463dbef2553306cdb755"
            }
          },
          "metadata": {}
        },
        {
          "output_type": "display_data",
          "data": {
            "text/plain": [
              "Downloading (…)e1d/data_config.json:   0%|          | 0.00/39.3k [00:00<?, ?B/s]"
            ],
            "application/vnd.jupyter.widget-view+json": {
              "version_major": 2,
              "version_minor": 0,
              "model_id": "990dffb5e9e847978b5bc0e2da7324e6"
            }
          },
          "metadata": {}
        },
        {
          "output_type": "display_data",
          "data": {
            "text/plain": [
              "Downloading (…)\"pytorch_model.bin\";:   0%|          | 0.00/438M [00:00<?, ?B/s]"
            ],
            "application/vnd.jupyter.widget-view+json": {
              "version_major": 2,
              "version_minor": 0,
              "model_id": "c7c5a4681ad64216afdbfce42016d8d9"
            }
          },
          "metadata": {}
        },
        {
          "output_type": "display_data",
          "data": {
            "text/plain": [
              "Downloading (…)nce_bert_config.json:   0%|          | 0.00/53.0 [00:00<?, ?B/s]"
            ],
            "application/vnd.jupyter.widget-view+json": {
              "version_major": 2,
              "version_minor": 0,
              "model_id": "a46f9cdd969e47acb2d6264e931e6eba"
            }
          },
          "metadata": {}
        },
        {
          "output_type": "display_data",
          "data": {
            "text/plain": [
              "Downloading (…)cial_tokens_map.json:   0%|          | 0.00/239 [00:00<?, ?B/s]"
            ],
            "application/vnd.jupyter.widget-view+json": {
              "version_major": 2,
              "version_minor": 0,
              "model_id": "114bf50ef98c4d83993d2ee98146eb84"
            }
          },
          "metadata": {}
        },
        {
          "output_type": "display_data",
          "data": {
            "text/plain": [
              "Downloading (…)a8e1d/tokenizer.json:   0%|          | 0.00/466k [00:00<?, ?B/s]"
            ],
            "application/vnd.jupyter.widget-view+json": {
              "version_major": 2,
              "version_minor": 0,
              "model_id": "2ee7dbd9af624094951b85a990bf3141"
            }
          },
          "metadata": {}
        },
        {
          "output_type": "display_data",
          "data": {
            "text/plain": [
              "Downloading (…)okenizer_config.json:   0%|          | 0.00/363 [00:00<?, ?B/s]"
            ],
            "application/vnd.jupyter.widget-view+json": {
              "version_major": 2,
              "version_minor": 0,
              "model_id": "aa231dc15aca4548b6721facc9f9605d"
            }
          },
          "metadata": {}
        },
        {
          "output_type": "display_data",
          "data": {
            "text/plain": [
              "Downloading (…)8e1d/train_script.py:   0%|          | 0.00/13.1k [00:00<?, ?B/s]"
            ],
            "application/vnd.jupyter.widget-view+json": {
              "version_major": 2,
              "version_minor": 0,
              "model_id": "bed982cd65fb46268b4ded50bda873d9"
            }
          },
          "metadata": {}
        },
        {
          "output_type": "display_data",
          "data": {
            "text/plain": [
              "Downloading (…)b20bca8e1d/vocab.txt:   0%|          | 0.00/232k [00:00<?, ?B/s]"
            ],
            "application/vnd.jupyter.widget-view+json": {
              "version_major": 2,
              "version_minor": 0,
              "model_id": "0e405f0fd1b54c76b0a7b6e278d2dca7"
            }
          },
          "metadata": {}
        },
        {
          "output_type": "display_data",
          "data": {
            "text/plain": [
              "Downloading (…)bca8e1d/modules.json:   0%|          | 0.00/349 [00:00<?, ?B/s]"
            ],
            "application/vnd.jupyter.widget-view+json": {
              "version_major": 2,
              "version_minor": 0,
              "model_id": "703bee7cb2ba47a7a271128f71230739"
            }
          },
          "metadata": {}
        }
      ]
    },
    {
      "cell_type": "markdown",
      "source": [
        "## Test 1"
      ],
      "metadata": {
        "id": "Fb7laC1-QJLW"
      }
    },
    {
      "cell_type": "code",
      "source": [
        "q1 = \"H2O2\"\n",
        "q2 = \"H2O\"\n",
        "\n",
        "# Compute embedding for both lists\n",
        "emb_1 = model_1.encode(q1, convert_to_tensor=True)\n",
        "emb_2 = model_1.encode(q2, convert_to_tensor=True)\n",
        "\n",
        "# Compute cosine-similarits\n",
        "cosine_sim = util.pytorch_cos_sim(emb_1, emb_2).item()\n",
        "print(\"Cosine sim from : {} - model name: {}\".format(round(cosine_sim, 3), model_name_1))"
      ],
      "metadata": {
        "colab": {
          "base_uri": "https://localhost:8080/"
        },
        "id": "dxxhKzqwQKj8",
        "outputId": "9bb980b8-d0bf-48d3-d71f-77e07edccaca"
      },
      "execution_count": 4,
      "outputs": [
        {
          "output_type": "stream",
          "name": "stdout",
          "text": [
            "Cosine sim from : 0.947 - model name: all-mpnet-base-v2\n"
          ]
        }
      ]
    },
    {
      "cell_type": "markdown",
      "source": [
        "## MLPNET Tokenizer\n",
        "\n",
        "OOV tests\n",
        "\n",
        "https://huggingface.co/docs/transformers/model_doc/mpnet#transformers.MPNetTokenizerFast\n",
        "\n",
        "\n",
        "MPNet tokenizer:\n",
        "https://github.com/huggingface/transformers/blob/main/src/transformers/models/mpnet/tokenization_mpnet.py"
      ],
      "metadata": {
        "id": "LFMroV-tRMXb"
      }
    },
    {
      "cell_type": "code",
      "source": [
        "mpnet_tz = MPNetTokenizer.from_pretrained(\"microsoft/mpnet-base\")"
      ],
      "metadata": {
        "colab": {
          "base_uri": "https://localhost:8080/",
          "height": 81,
          "referenced_widgets": [
            "01ed1a11158744d8aaf13e7a9d3c8f47",
            "ed02ffbdec604507bc5bbfffcd67b835",
            "2363f806e5364b1a8f73c4064d276c4f",
            "d9f0901bca95425cb14db33541657bf5",
            "3bc2aa2e7fe249b1a3fadc88bea8e1da",
            "457dc66b8ec546e09b2af3537868e6f5",
            "2834b64133834765a785ab56f129a1e7",
            "063e9e0771874c30abd4eacbd4570318",
            "1bc7e48f4d5c469396dc0ca30b3d6b2a",
            "d4695e6c6a56455682c00d256cbd054c",
            "b9e0a2e83b3c42fd92194792cffa0e2a",
            "a40a7b3cb55b49899335c9ec8663a285",
            "252da10a83214d2795ff73d9c1af7209",
            "2c2d23227523484283132dad3d0b879f",
            "126bd45e85354a8f95479e315fa16c4a",
            "3946517cd9b44f199db7061ab89a4d44",
            "321c2d8cff524586aedce402f0236167",
            "fa4b73a7f13d4f2eaa50e50b8f9899b5",
            "c4e21c74538c4652822d25b983d014eb",
            "6729479da7474fbeb9affcb1c6f3faeb",
            "7955e5fefb2b4893b8a3b852a624e147",
            "dae6ba90562747b2b55ef3b2c4ff1982"
          ]
        },
        "id": "Arl6QHibQ-az",
        "outputId": "725b6f42-ca3d-4369-d6f2-74f1971a1225"
      },
      "execution_count": 5,
      "outputs": [
        {
          "output_type": "display_data",
          "data": {
            "text/plain": [
              "Downloading (…)solve/main/vocab.txt:   0%|          | 0.00/232k [00:00<?, ?B/s]"
            ],
            "application/vnd.jupyter.widget-view+json": {
              "version_major": 2,
              "version_minor": 0,
              "model_id": "01ed1a11158744d8aaf13e7a9d3c8f47"
            }
          },
          "metadata": {}
        },
        {
          "output_type": "display_data",
          "data": {
            "text/plain": [
              "Downloading (…)lve/main/config.json:   0%|          | 0.00/493 [00:00<?, ?B/s]"
            ],
            "application/vnd.jupyter.widget-view+json": {
              "version_major": 2,
              "version_minor": 0,
              "model_id": "a40a7b3cb55b49899335c9ec8663a285"
            }
          },
          "metadata": {}
        }
      ]
    },
    {
      "cell_type": "markdown",
      "source": [
        "## Test 2"
      ],
      "metadata": {
        "id": "1xLI9ZieRSib"
      }
    },
    {
      "cell_type": "code",
      "source": [
        "q = \"H2O2S4\"\n",
        "mpnet_tz.tokenize(q)"
      ],
      "metadata": {
        "colab": {
          "base_uri": "https://localhost:8080/"
        },
        "id": "3hHNDFYzRS5P",
        "outputId": "0f4c727e-2374-45e3-b306-0eb67bd30b0b"
      },
      "execution_count": 8,
      "outputs": [
        {
          "output_type": "execute_result",
          "data": {
            "text/plain": [
              "['h', '##2', '##o', '##2', '##s', '##4']"
            ]
          },
          "metadata": {},
          "execution_count": 8
        }
      ]
    },
    {
      "cell_type": "markdown",
      "source": [
        "## Test 3"
      ],
      "metadata": {
        "id": "aQS6bnPdRWed"
      }
    },
    {
      "cell_type": "code",
      "source": [
        "q = \"H2OS6\"\n",
        "mpnet_tz.tokenize(q)"
      ],
      "metadata": {
        "colab": {
          "base_uri": "https://localhost:8080/"
        },
        "id": "v257dXZWRW0y",
        "outputId": "fbf7ebae-c407-4870-c88f-d7c0dd88cc37"
      },
      "execution_count": 9,
      "outputs": [
        {
          "output_type": "execute_result",
          "data": {
            "text/plain": [
              "['h', '##2', '##os', '##6']"
            ]
          },
          "metadata": {},
          "execution_count": 9
        }
      ]
    }
  ]
}