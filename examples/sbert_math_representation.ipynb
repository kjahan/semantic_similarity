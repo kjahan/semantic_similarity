{
  "nbformat": 4,
  "nbformat_minor": 0,
  "metadata": {
    "colab": {
      "provenance": [],
      "authorship_tag": "ABX9TyMkumldGIqjW+Vhf7zrI89d",
      "include_colab_link": true
    },
    "kernelspec": {
      "name": "python3",
      "display_name": "Python 3"
    },
    "language_info": {
      "name": "python"
    }
  },
  "cells": [
    {
      "cell_type": "markdown",
      "metadata": {
        "id": "view-in-github",
        "colab_type": "text"
      },
      "source": [
        "<a href=\"https://colab.research.google.com/github/kjahan/semantic_similarity/blob/main/examples/colab/sbert_math_representation.ipynb\" target=\"_parent\"><img src=\"https://colab.research.google.com/assets/colab-badge.svg\" alt=\"Open In Colab\"/></a>"
      ]
    },
    {
      "cell_type": "markdown",
      "source": [
        "# Goal: explore limitations of sentence transformers\n",
        "\n",
        "We want to check limitation of SBERT and MPNET in math and number represenation!"
      ],
      "metadata": {
        "id": "JF1tG142BgCi"
      }
    },
    {
      "cell_type": "code",
      "execution_count": 1,
      "metadata": {
        "colab": {
          "base_uri": "https://localhost:8080/"
        },
        "id": "Pl34YrOuBXB2",
        "outputId": "d5a508a3-a048-4398-b123-a9408e21f455"
      },
      "outputs": [
        {
          "output_type": "stream",
          "name": "stdout",
          "text": [
            "Looking in indexes: https://pypi.org/simple, https://us-python.pkg.dev/colab-wheels/public/simple/\n",
            "Collecting sentence-transformers\n",
            "  Downloading sentence-transformers-2.2.2.tar.gz (85 kB)\n",
            "\u001b[2K     \u001b[90m━━━━━━━━━━━━━━━━━━━━━━━━━━━━━━━━━━━━━━━━\u001b[0m \u001b[32m86.0/86.0 KB\u001b[0m \u001b[31m1.9 MB/s\u001b[0m eta \u001b[36m0:00:00\u001b[0m\n",
            "\u001b[?25h  Preparing metadata (setup.py) ... \u001b[?25l\u001b[?25hdone\n",
            "Collecting transformers<5.0.0,>=4.6.0\n",
            "  Downloading transformers-4.26.0-py3-none-any.whl (6.3 MB)\n",
            "\u001b[2K     \u001b[90m━━━━━━━━━━━━━━━━━━━━━━━━━━━━━━━━━━━━━━━━\u001b[0m \u001b[32m6.3/6.3 MB\u001b[0m \u001b[31m42.1 MB/s\u001b[0m eta \u001b[36m0:00:00\u001b[0m\n",
            "\u001b[?25hRequirement already satisfied: tqdm in /usr/local/lib/python3.8/dist-packages (from sentence-transformers) (4.64.1)\n",
            "Requirement already satisfied: torch>=1.6.0 in /usr/local/lib/python3.8/dist-packages (from sentence-transformers) (1.13.1+cu116)\n",
            "Requirement already satisfied: torchvision in /usr/local/lib/python3.8/dist-packages (from sentence-transformers) (0.14.1+cu116)\n",
            "Requirement already satisfied: numpy in /usr/local/lib/python3.8/dist-packages (from sentence-transformers) (1.21.6)\n",
            "Requirement already satisfied: scikit-learn in /usr/local/lib/python3.8/dist-packages (from sentence-transformers) (1.0.2)\n",
            "Requirement already satisfied: scipy in /usr/local/lib/python3.8/dist-packages (from sentence-transformers) (1.7.3)\n",
            "Requirement already satisfied: nltk in /usr/local/lib/python3.8/dist-packages (from sentence-transformers) (3.7)\n",
            "Collecting sentencepiece\n",
            "  Downloading sentencepiece-0.1.97-cp38-cp38-manylinux_2_17_x86_64.manylinux2014_x86_64.whl (1.3 MB)\n",
            "\u001b[2K     \u001b[90m━━━━━━━━━━━━━━━━━━━━━━━━━━━━━━━━━━━━━━━━\u001b[0m \u001b[32m1.3/1.3 MB\u001b[0m \u001b[31m49.9 MB/s\u001b[0m eta \u001b[36m0:00:00\u001b[0m\n",
            "\u001b[?25hCollecting huggingface-hub>=0.4.0\n",
            "  Downloading huggingface_hub-0.12.0-py3-none-any.whl (190 kB)\n",
            "\u001b[2K     \u001b[90m━━━━━━━━━━━━━━━━━━━━━━━━━━━━━━━━━━━━━━━\u001b[0m \u001b[32m190.3/190.3 KB\u001b[0m \u001b[31m9.0 MB/s\u001b[0m eta \u001b[36m0:00:00\u001b[0m\n",
            "\u001b[?25hRequirement already satisfied: pyyaml>=5.1 in /usr/local/lib/python3.8/dist-packages (from huggingface-hub>=0.4.0->sentence-transformers) (6.0)\n",
            "Requirement already satisfied: filelock in /usr/local/lib/python3.8/dist-packages (from huggingface-hub>=0.4.0->sentence-transformers) (3.9.0)\n",
            "Requirement already satisfied: requests in /usr/local/lib/python3.8/dist-packages (from huggingface-hub>=0.4.0->sentence-transformers) (2.25.1)\n",
            "Requirement already satisfied: packaging>=20.9 in /usr/local/lib/python3.8/dist-packages (from huggingface-hub>=0.4.0->sentence-transformers) (23.0)\n",
            "Requirement already satisfied: typing-extensions>=3.7.4.3 in /usr/local/lib/python3.8/dist-packages (from huggingface-hub>=0.4.0->sentence-transformers) (4.4.0)\n",
            "Collecting tokenizers!=0.11.3,<0.14,>=0.11.1\n",
            "  Downloading tokenizers-0.13.2-cp38-cp38-manylinux_2_17_x86_64.manylinux2014_x86_64.whl (7.6 MB)\n",
            "\u001b[2K     \u001b[90m━━━━━━━━━━━━━━━━━━━━━━━━━━━━━━━━━━━━━━━━\u001b[0m \u001b[32m7.6/7.6 MB\u001b[0m \u001b[31m62.4 MB/s\u001b[0m eta \u001b[36m0:00:00\u001b[0m\n",
            "\u001b[?25hRequirement already satisfied: regex!=2019.12.17 in /usr/local/lib/python3.8/dist-packages (from transformers<5.0.0,>=4.6.0->sentence-transformers) (2022.6.2)\n",
            "Requirement already satisfied: click in /usr/local/lib/python3.8/dist-packages (from nltk->sentence-transformers) (7.1.2)\n",
            "Requirement already satisfied: joblib in /usr/local/lib/python3.8/dist-packages (from nltk->sentence-transformers) (1.2.0)\n",
            "Requirement already satisfied: threadpoolctl>=2.0.0 in /usr/local/lib/python3.8/dist-packages (from scikit-learn->sentence-transformers) (3.1.0)\n",
            "Requirement already satisfied: pillow!=8.3.*,>=5.3.0 in /usr/local/lib/python3.8/dist-packages (from torchvision->sentence-transformers) (7.1.2)\n",
            "Requirement already satisfied: urllib3<1.27,>=1.21.1 in /usr/local/lib/python3.8/dist-packages (from requests->huggingface-hub>=0.4.0->sentence-transformers) (1.24.3)\n",
            "Requirement already satisfied: idna<3,>=2.5 in /usr/local/lib/python3.8/dist-packages (from requests->huggingface-hub>=0.4.0->sentence-transformers) (2.10)\n",
            "Requirement already satisfied: chardet<5,>=3.0.2 in /usr/local/lib/python3.8/dist-packages (from requests->huggingface-hub>=0.4.0->sentence-transformers) (4.0.0)\n",
            "Requirement already satisfied: certifi>=2017.4.17 in /usr/local/lib/python3.8/dist-packages (from requests->huggingface-hub>=0.4.0->sentence-transformers) (2022.12.7)\n",
            "Building wheels for collected packages: sentence-transformers\n",
            "  Building wheel for sentence-transformers (setup.py) ... \u001b[?25l\u001b[?25hdone\n",
            "  Created wheel for sentence-transformers: filename=sentence_transformers-2.2.2-py3-none-any.whl size=125938 sha256=14906a73166a539108525bcc7432a81c2137fe8446a691118d381b339a404378\n",
            "  Stored in directory: /root/.cache/pip/wheels/5e/6f/8c/d88aec621f3f542d26fac0342bef5e693335d125f4e54aeffe\n",
            "Successfully built sentence-transformers\n",
            "Installing collected packages: tokenizers, sentencepiece, huggingface-hub, transformers, sentence-transformers\n",
            "Successfully installed huggingface-hub-0.12.0 sentence-transformers-2.2.2 sentencepiece-0.1.97 tokenizers-0.13.2 transformers-4.26.0\n"
          ]
        }
      ],
      "source": [
        "!pip install -U sentence-transformers"
      ]
    },
    {
      "cell_type": "code",
      "source": [
        "from sentence_transformers import SentenceTransformer, util\n",
        "\n",
        "from transformers import BertTokenizer\n",
        "from transformers import MPNetTokenizer, MPNetModel\n",
        "import torch\n",
        "\n",
        "import numpy as np\n",
        "import pandas as pd\n",
        "\n",
        "import random"
      ],
      "metadata": {
        "id": "YOSrk1GfBn3J"
      },
      "execution_count": 2,
      "outputs": []
    },
    {
      "cell_type": "markdown",
      "source": [
        "## Load pre-trained model\n",
        "\n",
        "https://www.sbert.net/docs/pretrained_models.html"
      ],
      "metadata": {
        "id": "oK1CCZb7BxN2"
      }
    },
    {
      "cell_type": "code",
      "source": [
        "model_name_1 = 'all-mpnet-base-v2'\n",
        "model_1 = SentenceTransformer(model_name_1)"
      ],
      "metadata": {
        "colab": {
          "base_uri": "https://localhost:8080/",
          "height": 465,
          "referenced_widgets": [
            "3ebbf6b4791e412494fb822d12887b77",
            "2b309370510a467bb9c1156353187d94",
            "18302e12b8a34299aef08a00fbbd3af5",
            "60b077a2fa5e42ac89f8ddd2bed22c18",
            "248a14737bf24d698012a16d42619508",
            "1919a193c7a94a60bc0bd5781038313e",
            "28f6062f1dfb4116a0a77141e0eb50dd",
            "8bc5815c9c9b457b9e3a2cfc2855610b",
            "41ac1b1339ff4f478367c49ac5691bbf",
            "9cc3b85d1f2d4b2db6ddea3723aee0f0",
            "50463110f04b47a28e312c209376a105",
            "cdf30f543b0942199b0b93d1cd2ec6cf",
            "f25ad31ec106424a94107766bd1c34d1",
            "e530074aa863407aad4b21e6f8c9d971",
            "da8fe24ea57b4e51a725f3d1a382c8c1",
            "ccaf5879231746c78f18356df2a6f982",
            "b2898f8d8ec24163ac78cc061a87f9ef",
            "79e2e8e78b9f49d3ab62bc9edcc88a0a",
            "6e26db8f9758428d94adbbad244a2c74",
            "2e640304e4824fac8e9e781044ac7a0c",
            "d4fc103cba0c4580b4081e2a081991cb",
            "a6c7e65c70d14cc492d73e912af97f6a",
            "97bf1d5e10404e34a0997b055a46c4f8",
            "65dcb3d32c4e4f728f489e71a71c4077",
            "81150b94b1034e428e112099d9fe617a",
            "13a0e9c67c0141a6a14db5a4b6fe1a62",
            "0acf47cf2bb54eb89030623b78e7fb3a",
            "793be5e12e6a4513b484a797007608ea",
            "2907b2e5dc39477d8ea6f24752a55b05",
            "5d18604cf88c439897663061724a9bde",
            "fecb49cb0e4e47969844e91899df2d72",
            "be9a8fae361a41c3a3e823d0b89eeda2",
            "35255e91ae3d49e7a7ad5e71b636982d",
            "13ac7eba26384711bd14d0e53db14098",
            "8c8b192366e245fdb566155deca47e84",
            "cc2560a2620249d59d35e71bfe4b38ce",
            "2f9080fb759d4238b7fbc20ecf285b3a",
            "33c1259eb5884d33afdf54bc185f9e2c",
            "199398bee3cc41ac9502b5504b2348d2",
            "342d3ac10056496d8df21a153b9c6d0c",
            "da3b48197d394774b96228a16ad3ec27",
            "a84b231e43254e518128f3d1da3f157a",
            "d9381f1935b64e88bb6c2b0f2c38a1d4",
            "83e4278f280d49a7ac7013403a2bd5f4",
            "d095c8ee6ca741399918a485bc6c0cc6",
            "b10c8c59966c484087ca10cfb86b1a9a",
            "aed4d436437742758f3e9250ae3153b7",
            "e5308e4d16d14d0ebef3f0336e694072",
            "6d69a326ef504ddfa44b1b51868b41ef",
            "f4745fa4ba1a439e92e493a1ee0d4d95",
            "85f2dd6052e14e4d99df625b17121a86",
            "0f3cec80610847c590cde53cdf32ebe3",
            "2d1914288fcb471cae9c226fef9647a5",
            "d0df2d441bdb49adac3efe9902a8ff70",
            "32797f0e37404a8e90fe938aab4544e4",
            "79960918834c4690891273c4fded7f5c",
            "c3412f9f475b41aead9dc989b1e79d53",
            "190d1e53e4814b8e9479d1f702616012",
            "c681de70b63540abbf0f6d6a870434be",
            "a9a96f5dd7d441f68e3f1364c441225c",
            "dbed7ea4ed384fb8b9ade123ab0b6601",
            "c537c3c0770f43bf80bfe990c37fe1b9",
            "a86dd6c54fa34cfea30b402f17951954",
            "7a0e6554a0ea498e9ebaaf4c32ed96ee",
            "a3b1a5869da54db3b2820774b77e3cea",
            "aeb10c7e0db541aba9af82d169fe21a6",
            "8940af6b198a4161a0300537bc819c44",
            "2d64bc94ae8e408ab0f424d1c61cba6f",
            "189d6eac45094cf3b9cfe976d0cf3a8a",
            "5d418bdf57da44ce8acc90fcebeff60a",
            "03e032d552d14b4784dfce46b6cbac48",
            "a2a1243f69044c20ad2ca369a4b26138",
            "7232276f45264c62ae350ad200499200",
            "07b5867a27cd4a2783e47ec6d3dd71d9",
            "bb2369fae2ff4077a53f571e6e351c7f",
            "261f775898af432a98465d8a3ffd373f",
            "efe5b6ca4cde411283e0647868cc1c28",
            "20f4d5725a5c4e55a1bfd340f29d2424",
            "c2a784b7b91e4be7966c33304dbe1a75",
            "fb1a1c80a55546789d5de369039aec31",
            "814a81b17b1e4006a0ca3edceeeb8ec0",
            "2159f3084ce74169af545e7ce20a7cf6",
            "188770428c29422d9b1e4a7aed2cdd07",
            "03994c2570344624a279accf2634dd15",
            "00e73366786a476093e03c0ec80b7482",
            "36ca7c62da3a463abbc2389459f97c45",
            "34beba49f0624e11acb23bd4ccd9fe3b",
            "71c31cbc40d14a49a5b08bc74693d08a",
            "d69694452a34451394d4f1e5fd3f5cfc",
            "29abe27ddde4487a9e8f5ebc007e98a5",
            "26b442a4423244aea1d399665a2c52f5",
            "a5c635aa597644758895e6503a0694cd",
            "d3bca36ae7ad4c2483ead9effb120bc0",
            "ddffbc68342f43bb9154285229a68aff",
            "9d7fb7838bf64af2a853faadc8f4d12e",
            "190a35fb5bd94075bc3b37cae7541aa8",
            "127dcab82e5840a1955b4f267a2e5cb8",
            "5fab5eb3cba645f1b9bb155e98ac7d6b",
            "7a896b9903a9435f841fb35553e615bc",
            "d07cfd7ae77143398f920313a9885d04",
            "3db040a3d09d45d18a1a91cbf16f7cec",
            "cbfbcbbaba1e474c9d6bc9ac6fab2ab8",
            "c553f1a6735d48498823cc9a4f967e73",
            "58a6bdf367064f6e9ec6d5ddded2f67b",
            "865f57635c32459d9e58e71f6731c39f",
            "8ee374a307b14620844cb83a2e19ab96",
            "fe23df57cb78445bbda1781956fa2fdb",
            "a604e055b17d4599960b1aaa23835bc9",
            "d04286605829462994b78fff9895509d",
            "c03619c756ab4f369f197e23129bbe75",
            "83ecfac8a9bd4807a3105b7bd230a087",
            "08052f9b89694cafb8c4a9a9350149b6",
            "fce6f30d252945e5887c8cdb4b2c160c",
            "48b9f943aa204887ae00c5a8332642c9",
            "ab5964cef72642a8b077429d97a080a4",
            "b7cd37f5a2bd4cd38b6ab63730a2b018",
            "3d56e24725d44c9ca604b76a5158dbbb",
            "35022653c24440ef813f7a1460f9af1c",
            "17ffc138e4e14f54b7f1ff6d49c5b7ba",
            "228b10d5496349efa6b94b79c834f1cd",
            "6167bf87e01c4e0a8f1209206887231c",
            "ff00c03827344375a685093231601fb8",
            "ee5380b761d0403fa81cb34bb2061646",
            "0cd8774ee1d24ec8a8fa9ed1ed9cc46d",
            "9606645fcbdf4017a99fea5c4f38043c",
            "db322e2a265f47d3b0546af647eb3b06",
            "6793dda070d943a38a638cd45b876955",
            "f2d610fba27c41d6ba039f2d81cac5e1",
            "48c25c1a5d044a21ae758b48ac6b4344",
            "cdfc93fa281e4be3afbd7646809f577d",
            "0fa949f969e444ef97616894bf7c2379",
            "d172a87742c04d5cb5914d77a79683e1",
            "3c6649505c5f471eba44a1251ddee447",
            "98ab87d835fe46deacafc661318fa5b0",
            "d04f8148f3f1434dbd646bfa3b206da7",
            "9a0ef33d3644464cbc4c811e4bb1664e",
            "9d6310275e3246bfb2a4ec89be390824",
            "27cb404bf0a0492080ffa2ca37eb5da0",
            "5d9fbd28a6234e378c261d50b15c6855",
            "dc5342e57a274dfebba4ca922caab04f",
            "7e8d7c9eae57480faeeb0707a2463222",
            "7cbf035117dc4fee97ec3ddf22df08a4",
            "45e028c973f745508e5524357b2ec493",
            "ece20de30c294456b8aa8c44e2fe082d",
            "83f5b670575d4650a9337f19e3d4e041",
            "3ca3864af3734964878284e789e024d7",
            "e97e5e3f4ce64329929a4021d8058cca",
            "931710c5e2844f65b8509668e3cc4b6c",
            "a4f4e8b16a544b66af22861bc9d469ec",
            "ec98390b9ab2409283aea940f206e3f8",
            "9d921c199a44459899e716bf9c5efbdd",
            "73c79d23bf444b818506ae69b267c5b5",
            "d998503815fb4f08a6ed4c3690e88530",
            "99a34f66fc5945a497f965509e39a753"
          ]
        },
        "id": "p5o-_pNUB0a9",
        "outputId": "1343f13c-8c10-41c9-e772-967d68fc4d17"
      },
      "execution_count": 3,
      "outputs": [
        {
          "output_type": "display_data",
          "data": {
            "text/plain": [
              "Downloading (…)a8e1d/.gitattributes:   0%|          | 0.00/1.18k [00:00<?, ?B/s]"
            ],
            "application/vnd.jupyter.widget-view+json": {
              "version_major": 2,
              "version_minor": 0,
              "model_id": "3ebbf6b4791e412494fb822d12887b77"
            }
          },
          "metadata": {}
        },
        {
          "output_type": "display_data",
          "data": {
            "text/plain": [
              "Downloading (…)_Pooling/config.json:   0%|          | 0.00/190 [00:00<?, ?B/s]"
            ],
            "application/vnd.jupyter.widget-view+json": {
              "version_major": 2,
              "version_minor": 0,
              "model_id": "cdf30f543b0942199b0b93d1cd2ec6cf"
            }
          },
          "metadata": {}
        },
        {
          "output_type": "display_data",
          "data": {
            "text/plain": [
              "Downloading (…)b20bca8e1d/README.md:   0%|          | 0.00/10.6k [00:00<?, ?B/s]"
            ],
            "application/vnd.jupyter.widget-view+json": {
              "version_major": 2,
              "version_minor": 0,
              "model_id": "97bf1d5e10404e34a0997b055a46c4f8"
            }
          },
          "metadata": {}
        },
        {
          "output_type": "display_data",
          "data": {
            "text/plain": [
              "Downloading (…)0bca8e1d/config.json:   0%|          | 0.00/571 [00:00<?, ?B/s]"
            ],
            "application/vnd.jupyter.widget-view+json": {
              "version_major": 2,
              "version_minor": 0,
              "model_id": "13ac7eba26384711bd14d0e53db14098"
            }
          },
          "metadata": {}
        },
        {
          "output_type": "display_data",
          "data": {
            "text/plain": [
              "Downloading (…)ce_transformers.json:   0%|          | 0.00/116 [00:00<?, ?B/s]"
            ],
            "application/vnd.jupyter.widget-view+json": {
              "version_major": 2,
              "version_minor": 0,
              "model_id": "d095c8ee6ca741399918a485bc6c0cc6"
            }
          },
          "metadata": {}
        },
        {
          "output_type": "display_data",
          "data": {
            "text/plain": [
              "Downloading (…)e1d/data_config.json:   0%|          | 0.00/39.3k [00:00<?, ?B/s]"
            ],
            "application/vnd.jupyter.widget-view+json": {
              "version_major": 2,
              "version_minor": 0,
              "model_id": "79960918834c4690891273c4fded7f5c"
            }
          },
          "metadata": {}
        },
        {
          "output_type": "display_data",
          "data": {
            "text/plain": [
              "Downloading (…)\"pytorch_model.bin\";:   0%|          | 0.00/438M [00:00<?, ?B/s]"
            ],
            "application/vnd.jupyter.widget-view+json": {
              "version_major": 2,
              "version_minor": 0,
              "model_id": "8940af6b198a4161a0300537bc819c44"
            }
          },
          "metadata": {}
        },
        {
          "output_type": "display_data",
          "data": {
            "text/plain": [
              "Downloading (…)nce_bert_config.json:   0%|          | 0.00/53.0 [00:00<?, ?B/s]"
            ],
            "application/vnd.jupyter.widget-view+json": {
              "version_major": 2,
              "version_minor": 0,
              "model_id": "20f4d5725a5c4e55a1bfd340f29d2424"
            }
          },
          "metadata": {}
        },
        {
          "output_type": "display_data",
          "data": {
            "text/plain": [
              "Downloading (…)cial_tokens_map.json:   0%|          | 0.00/239 [00:00<?, ?B/s]"
            ],
            "application/vnd.jupyter.widget-view+json": {
              "version_major": 2,
              "version_minor": 0,
              "model_id": "d69694452a34451394d4f1e5fd3f5cfc"
            }
          },
          "metadata": {}
        },
        {
          "output_type": "display_data",
          "data": {
            "text/plain": [
              "Downloading (…)a8e1d/tokenizer.json:   0%|          | 0.00/466k [00:00<?, ?B/s]"
            ],
            "application/vnd.jupyter.widget-view+json": {
              "version_major": 2,
              "version_minor": 0,
              "model_id": "d07cfd7ae77143398f920313a9885d04"
            }
          },
          "metadata": {}
        },
        {
          "output_type": "display_data",
          "data": {
            "text/plain": [
              "Downloading (…)okenizer_config.json:   0%|          | 0.00/363 [00:00<?, ?B/s]"
            ],
            "application/vnd.jupyter.widget-view+json": {
              "version_major": 2,
              "version_minor": 0,
              "model_id": "83ecfac8a9bd4807a3105b7bd230a087"
            }
          },
          "metadata": {}
        },
        {
          "output_type": "display_data",
          "data": {
            "text/plain": [
              "Downloading (…)8e1d/train_script.py:   0%|          | 0.00/13.1k [00:00<?, ?B/s]"
            ],
            "application/vnd.jupyter.widget-view+json": {
              "version_major": 2,
              "version_minor": 0,
              "model_id": "ff00c03827344375a685093231601fb8"
            }
          },
          "metadata": {}
        },
        {
          "output_type": "display_data",
          "data": {
            "text/plain": [
              "Downloading (…)b20bca8e1d/vocab.txt:   0%|          | 0.00/232k [00:00<?, ?B/s]"
            ],
            "application/vnd.jupyter.widget-view+json": {
              "version_major": 2,
              "version_minor": 0,
              "model_id": "3c6649505c5f471eba44a1251ddee447"
            }
          },
          "metadata": {}
        },
        {
          "output_type": "display_data",
          "data": {
            "text/plain": [
              "Downloading (…)bca8e1d/modules.json:   0%|          | 0.00/349 [00:00<?, ?B/s]"
            ],
            "application/vnd.jupyter.widget-view+json": {
              "version_major": 2,
              "version_minor": 0,
              "model_id": "ece20de30c294456b8aa8c44e2fe082d"
            }
          },
          "metadata": {}
        }
      ]
    },
    {
      "cell_type": "markdown",
      "source": [
        "## Last year model from sentence transformers\n",
        "\n",
        "`paraphrase-mpnet-base-v2`"
      ],
      "metadata": {
        "id": "MRutdW6uB4fT"
      }
    },
    {
      "cell_type": "code",
      "source": [
        "model_name_2 = 'paraphrase-mpnet-base-v2'\n",
        "model_2 = SentenceTransformer(model_name_2)"
      ],
      "metadata": {
        "colab": {
          "base_uri": "https://localhost:8080/",
          "height": 401,
          "referenced_widgets": [
            "025f9bb4d0224801992f8d28093edf22",
            "6bcba1c7b1df4e39aca51351130cbd0d",
            "202c5f14d94f4d1c82066d2d74b9643b",
            "00aca8ac57e94dd7abf6f1db81f2b39b",
            "6be2db02e1e442248d1c28467b621cfe",
            "f0f243b8de9c4f5a88a1f4a793598aad",
            "03d5c65c46814ad0a9491181975d4174",
            "ece3b41ac0354c568caa8d12b429ce72",
            "28486fb01c7542e69eafdae662510a4c",
            "d6adc564c90f43d3b334139282beeae2",
            "b1ead0637767407381bbd5463c31a0db",
            "54fbf8f156734fbbb2d2db19c7abfa6d",
            "29108525af3c41079041efe4c34fadc1",
            "4d7c5026942146c2b3d72627d12ae21d",
            "4636a770980946ec8b23bbca311ac1bc",
            "663fad1db0e043dfa9b1e9a6f982f9ef",
            "ae54ecac243d4d36ac32e2e43ef379e3",
            "6b01822c7e3d4a4fa0103195493c03b3",
            "d9575d93f0294ed7910409bc36cb6335",
            "8d01cce88e07416c829fd8762b2b37c8",
            "dcbeec493c7947ad910af343cb37c8b4",
            "8607305abdb14dc7b8d7f46f93c081fa",
            "a2926cbd819c42e7a10b09a4a7c8ce6d",
            "9105742bcb2445e39647927892df41b8",
            "7f8ab5eb2f1e421abe1645efe48a6c25",
            "4dc6deb8437e45e9960a85b262ded2cc",
            "63817569436f4efb8ff867f9b628bc34",
            "5b8003aae5684fa0a3c2f96fc8294eb6",
            "b005aad23e62435ba0181440f253e5ed",
            "7814601c2698481eb302b2096b9818f4",
            "2836fba60e3e449e9ba60be3ed06bee3",
            "f48d4a760c7f413c90b6113ac09e1902",
            "a2dd965dde924000a7bc6e2a6894b856",
            "76ac4a3d105343f49d111b6e7fd88bf9",
            "cdb9f0c77d9c425e804c5013b89befef",
            "f9c2c88ed04f4054824ef7d5235f4475",
            "d4b94f8a99024141b0e5f4a4ea61ec5c",
            "d57cef7ce637498a8f441d0af8757e4f",
            "095fc5a796714ba4abdf5dcaf69817e5",
            "20f4c438bfc34be7aa7703320b35a3af",
            "d96681f4581c4621a81e2159e5a12985",
            "dfab28b77da94405bc8092b040625b7d",
            "f88922edc30a47f496eed6e488fea578",
            "241a49b0c0144eaea39b1f2bad88157e",
            "a08f015c4d144c8bb7d85ddd31dd4a23",
            "4faafd6797bc486ba37a84feb51f9cf8",
            "c5148f364c1647b299f451dadecfa344",
            "ba0d15873c5f4439ada04d95783aa3e3",
            "7437219b45714aa1991008c8cc2cd8ee",
            "50fc00edc13b401698a7676089222a69",
            "af9015a56fef4a899888f401a2c99afe",
            "76a51cda64854b4f85e5b612f80e5d64",
            "47d539f11ccd4956a1d41f8243d0624a",
            "bc70a6091205410288e645044fe7e61b",
            "cffa2cbf9b6846deb14cb23b46e6c561",
            "2d80b2935c0a4672bd72021315c0ad72",
            "fb5a9d69e9454219b5140668290648ff",
            "393091132e3942279cf2690afe651cbd",
            "7ed316a0e944462bb1e5270f5ddaa16c",
            "cebefa62b0da4f65b986f23a0dd57ff2",
            "a8ac7b3c526940039dae4b99cf4da9ba",
            "ced862e67fb649938d149b1638c82af8",
            "5f63069a2fad4133a54451134f3fa04a",
            "63c95e1c189347a4997682a5f0a06d34",
            "cbcede5fb16247a49a2c16d047967859",
            "1a980fd1885c4042949a6fbfafddeadc",
            "73a696cdb02d401eb105584b935ad503",
            "d71978f54be842faa5302d6810b9cc4c",
            "a776c8c256fd4dd7b731f549c74c251a",
            "d20126e7321b4da08154306e88fb8a97",
            "2e81b758bf0e40949ec396f8a832716c",
            "57de61d4fe2549aca73414f6129f12b2",
            "3f9592b3ad574a6cacd6de3b216bf376",
            "52f4ae7a6ffa4ac7bfa65d247d7ef4d8",
            "95f2940fce134f06aaa246ca68be742d",
            "0c25eacc68a447d5ab148a184983c80f",
            "d6903b1ad00d4bb2ac3ecc600b5aec16",
            "3015dab99d634fa7a32925d6b7b0e741",
            "8551651011174d13bcba275e38834ff5",
            "9317400144a34923ab483d5b5f961b91",
            "66204830eab5428b873cb4ceba6a1d3c",
            "64632c29d53f491486de44023f948938",
            "2ddd0a352a7142da9368256e74b15b1a",
            "4d57fad80a9040f58735412a12fa794e",
            "19dcefcd59c140f2ad3aebea06e2cee0",
            "7cb70a8375164b9dadf353eea8002e26",
            "da4c2cfa3545444db8502e98abbcb061",
            "9eea42469ccb4cbc90ac937cc84f8eca",
            "efa737451b7443f68b29eddae1763ed8",
            "373b941056bd4380a41ccd1ffee28386",
            "2a9f770dc24b4487af41ed26ae2a338a",
            "12b04d3613bb41d7bb21f9e7bfe131c4",
            "4de1eec6e0154468808038a0bc90436c",
            "836fcc4237104e8b82ea6ff7ac7b46d5",
            "94210ea4296049e084068a99e0b18dec",
            "96d2623cf89f424d9488840d4551128e",
            "eb72348fb76244f7beccd36574d85f6e",
            "854bcb3e505f4bfabd330869cde750f1",
            "8c0168d5357d43ecb8bd7393f8e181bf",
            "2eaf9024526c49dc95a5d276dc56f0d8",
            "c652bb217cc54eb4bac3c6244ddd24f2",
            "39de0e38d807440ab2cfed9cbe158796",
            "7c1a5f27a5a64562b4f898da14766590",
            "d29a619a50a140a4b8d8d2db30d72fda",
            "586a624b0cb74bd5a76f7b059665ea50",
            "c841e2c0d3734a289a9f0db88b1af30a",
            "b9880286703840fd86e8571cb1bc7303",
            "2bae0f611c7040c59780c20c736ec66a",
            "59d780bf81c8436f93fd6dc05a04f740",
            "7bcd7d1d72bf40f8b9398d01fbb5229a",
            "1e7aea4728604fc0a6b9135c3078c245",
            "5f62069f586a4da899e10c0b0ef0b463",
            "a63e831409ad440e86827dd6baa0567e",
            "220c87b8a5ab435ea3dd95f2241ad757",
            "543148ed336a4d65b442d9c4b18010a5",
            "11b8fb81d2274fdeb09382be02420aa7",
            "6ab11602623747338fdec76aa23acdb8",
            "485bb5f5a3074fb8ad5f7fba23d5f2a3",
            "4a972229644a46c3a7010d928c28e5f7",
            "2cf0f82176b94a6a89d22dda7ee2fbba",
            "3e2f02ce4814421f9a228fc1781cc9d9",
            "aa6de9a5c6cc40e0b28844a913bff39d",
            "538f196e1f0a4af9b705398dac8ece93",
            "c94b7b11cfcf4648b9e839fe263952eb",
            "8ef0406aa83f458497ffe19ddbbe3a52",
            "4f69513a22614c158d1c93850978b197",
            "b9a0ca9ed8ca46b68b42b20e30ef1a65",
            "a74a4396882c4a5bbd4e4bf85577cb5f",
            "ad8b1665a28e42088b9292e532a0707d",
            "07ec13137ac94851a035acd488a9535a",
            "e7d74bb619c343b6bcb225cb435159ec",
            "47f7e3d638c647209dddd80acab0d2fe"
          ]
        },
        "id": "PQrHrivdB8H2",
        "outputId": "4d26d975-bb2c-47e4-bfa5-76bb401b7a5e"
      },
      "execution_count": 4,
      "outputs": [
        {
          "output_type": "display_data",
          "data": {
            "text/plain": [
              "Downloading (…)f39ef/.gitattributes:   0%|          | 0.00/690 [00:00<?, ?B/s]"
            ],
            "application/vnd.jupyter.widget-view+json": {
              "version_major": 2,
              "version_minor": 0,
              "model_id": "025f9bb4d0224801992f8d28093edf22"
            }
          },
          "metadata": {}
        },
        {
          "output_type": "display_data",
          "data": {
            "text/plain": [
              "Downloading (…)_Pooling/config.json:   0%|          | 0.00/190 [00:00<?, ?B/s]"
            ],
            "application/vnd.jupyter.widget-view+json": {
              "version_major": 2,
              "version_minor": 0,
              "model_id": "54fbf8f156734fbbb2d2db19c7abfa6d"
            }
          },
          "metadata": {}
        },
        {
          "output_type": "display_data",
          "data": {
            "text/plain": [
              "Downloading (…)0182ff39ef/README.md:   0%|          | 0.00/3.70k [00:00<?, ?B/s]"
            ],
            "application/vnd.jupyter.widget-view+json": {
              "version_major": 2,
              "version_minor": 0,
              "model_id": "a2926cbd819c42e7a10b09a4a7c8ce6d"
            }
          },
          "metadata": {}
        },
        {
          "output_type": "display_data",
          "data": {
            "text/plain": [
              "Downloading (…)82ff39ef/config.json:   0%|          | 0.00/594 [00:00<?, ?B/s]"
            ],
            "application/vnd.jupyter.widget-view+json": {
              "version_major": 2,
              "version_minor": 0,
              "model_id": "76ac4a3d105343f49d111b6e7fd88bf9"
            }
          },
          "metadata": {}
        },
        {
          "output_type": "display_data",
          "data": {
            "text/plain": [
              "Downloading (…)ce_transformers.json:   0%|          | 0.00/122 [00:00<?, ?B/s]"
            ],
            "application/vnd.jupyter.widget-view+json": {
              "version_major": 2,
              "version_minor": 0,
              "model_id": "a08f015c4d144c8bb7d85ddd31dd4a23"
            }
          },
          "metadata": {}
        },
        {
          "output_type": "display_data",
          "data": {
            "text/plain": [
              "Downloading (…)\"pytorch_model.bin\";:   0%|          | 0.00/438M [00:00<?, ?B/s]"
            ],
            "application/vnd.jupyter.widget-view+json": {
              "version_major": 2,
              "version_minor": 0,
              "model_id": "2d80b2935c0a4672bd72021315c0ad72"
            }
          },
          "metadata": {}
        },
        {
          "output_type": "display_data",
          "data": {
            "text/plain": [
              "Downloading (…)nce_bert_config.json:   0%|          | 0.00/53.0 [00:00<?, ?B/s]"
            ],
            "application/vnd.jupyter.widget-view+json": {
              "version_major": 2,
              "version_minor": 0,
              "model_id": "73a696cdb02d401eb105584b935ad503"
            }
          },
          "metadata": {}
        },
        {
          "output_type": "display_data",
          "data": {
            "text/plain": [
              "Downloading (…)cial_tokens_map.json:   0%|          | 0.00/239 [00:00<?, ?B/s]"
            ],
            "application/vnd.jupyter.widget-view+json": {
              "version_major": 2,
              "version_minor": 0,
              "model_id": "3015dab99d634fa7a32925d6b7b0e741"
            }
          },
          "metadata": {}
        },
        {
          "output_type": "display_data",
          "data": {
            "text/plain": [
              "Downloading (…)f39ef/tokenizer.json:   0%|          | 0.00/466k [00:00<?, ?B/s]"
            ],
            "application/vnd.jupyter.widget-view+json": {
              "version_major": 2,
              "version_minor": 0,
              "model_id": "efa737451b7443f68b29eddae1763ed8"
            }
          },
          "metadata": {}
        },
        {
          "output_type": "display_data",
          "data": {
            "text/plain": [
              "Downloading (…)okenizer_config.json:   0%|          | 0.00/1.19k [00:00<?, ?B/s]"
            ],
            "application/vnd.jupyter.widget-view+json": {
              "version_major": 2,
              "version_minor": 0,
              "model_id": "2eaf9024526c49dc95a5d276dc56f0d8"
            }
          },
          "metadata": {}
        },
        {
          "output_type": "display_data",
          "data": {
            "text/plain": [
              "Downloading (…)0182ff39ef/vocab.txt:   0%|          | 0.00/232k [00:00<?, ?B/s]"
            ],
            "application/vnd.jupyter.widget-view+json": {
              "version_major": 2,
              "version_minor": 0,
              "model_id": "1e7aea4728604fc0a6b9135c3078c245"
            }
          },
          "metadata": {}
        },
        {
          "output_type": "display_data",
          "data": {
            "text/plain": [
              "Downloading (…)2ff39ef/modules.json:   0%|          | 0.00/229 [00:00<?, ?B/s]"
            ],
            "application/vnd.jupyter.widget-view+json": {
              "version_major": 2,
              "version_minor": 0,
              "model_id": "aa6de9a5c6cc40e0b28844a913bff39d"
            }
          },
          "metadata": {}
        }
      ]
    },
    {
      "cell_type": "markdown",
      "source": [
        "## Test 1"
      ],
      "metadata": {
        "id": "f9QdMpfECDqv"
      }
    },
    {
      "cell_type": "code",
      "source": [
        "q1 = \"what is the mass of 2.0 moles of carbon monoxide?\"\n",
        "q2 = \"what is the mass of 3.0 moles of carbon monoxide?\"\n",
        "\n",
        "# Compute embedding for both lists\n",
        "emb_1 = model_1.encode(q1, convert_to_tensor=True)\n",
        "emb_2 = model_1.encode(q2, convert_to_tensor=True)\n",
        "\n",
        "# Compute cosine-similarits\n",
        "cosine_sim = util.pytorch_cos_sim(emb_1, emb_2).item()\n",
        "print(\"Cosine sim from : {} - model name: {}\".format(round(cosine_sim, 3), model_name_1))"
      ],
      "metadata": {
        "colab": {
          "base_uri": "https://localhost:8080/"
        },
        "id": "LF67aEgKCFnA",
        "outputId": "b11f5b08-f130-49d4-95b4-2cd7afe5b7d1"
      },
      "execution_count": 5,
      "outputs": [
        {
          "output_type": "stream",
          "name": "stdout",
          "text": [
            "Cosine sim from : 0.977 - model name: all-mpnet-base-v2\n"
          ]
        }
      ]
    },
    {
      "cell_type": "markdown",
      "source": [
        "## Test 2"
      ],
      "metadata": {
        "id": "Mb51H175Caye"
      }
    },
    {
      "cell_type": "code",
      "source": [
        "q1 = \"what is the mass of 2.0 moles of carbon monoxide?\"\n",
        "q2 = \"what is the mass of 2 moles of carbon monoxide?\"\n",
        "\n",
        "# Compute embedding for both lists\n",
        "emb_1 = model_1.encode(q1, convert_to_tensor=True)\n",
        "emb_2 = model_1.encode(q2, convert_to_tensor=True)\n",
        "\n",
        "# Compute cosine-similarits\n",
        "cosine_sim = util.pytorch_cos_sim(emb_1, emb_2).item()\n",
        "print(\"Cosine sim from : {} - model name: {}\".format(round(cosine_sim, 3), model_name_1))"
      ],
      "metadata": {
        "colab": {
          "base_uri": "https://localhost:8080/"
        },
        "id": "3UhXNpOXCbIF",
        "outputId": "e13f9ac6-796b-410e-d823-a47650fb597c"
      },
      "execution_count": 9,
      "outputs": [
        {
          "output_type": "stream",
          "name": "stdout",
          "text": [
            "Cosine sim from : 0.955 - model name: all-mpnet-base-v2\n"
          ]
        }
      ]
    },
    {
      "cell_type": "markdown",
      "source": [
        "## Test 3"
      ],
      "metadata": {
        "id": "Tg1OBhZjClO0"
      }
    },
    {
      "cell_type": "code",
      "source": [
        "q1 = \"what is the mass of 0.112 moles of sodium sulfite?\"\n",
        "q2 = \"what is the mass of 0.102 moles of sodium sulfite?\"\n",
        "\n",
        "# Compute embedding for both lists\n",
        "emb_1 = model_1.encode(q1, convert_to_tensor=True)\n",
        "emb_2 = model_1.encode(q2, convert_to_tensor=True)\n",
        "\n",
        "# Compute cosine-similarits\n",
        "cosine_sim = util.pytorch_cos_sim(emb_1, emb_2).item()\n",
        "print(\"Cosine sim from : {} - model name: {}\".format(round(cosine_sim, 3), model_name_1))"
      ],
      "metadata": {
        "colab": {
          "base_uri": "https://localhost:8080/"
        },
        "id": "7Wm8DSVbClnl",
        "outputId": "c45b2717-7073-47dd-895f-032e0155784c"
      },
      "execution_count": 7,
      "outputs": [
        {
          "output_type": "stream",
          "name": "stdout",
          "text": [
            "Cosine sim from : 0.993 - model name: all-mpnet-base-v2\n"
          ]
        }
      ]
    },
    {
      "cell_type": "markdown",
      "source": [
        "## Test 4"
      ],
      "metadata": {
        "id": "I051qlC1DZbY"
      }
    },
    {
      "cell_type": "code",
      "source": [
        "q1 = \"what is the mass of 2.0 moles of carbon monoxide?\"\n",
        "q2 = \"what is the mass of 2.0 moles of carbon monoxide?\"\n",
        "\n",
        "# Compute embedding for both lists\n",
        "emb_1 = model_1.encode(q1, convert_to_tensor=True)\n",
        "emb_2 = model_1.encode(q2, convert_to_tensor=True)\n",
        "\n",
        "# Compute cosine-similarits\n",
        "cosine_sim = util.pytorch_cos_sim(emb_1, emb_2).item()\n",
        "print(\"Cosine sim from : {} - model name: {}\".format(round(cosine_sim, 3), model_name_1))"
      ],
      "metadata": {
        "colab": {
          "base_uri": "https://localhost:8080/"
        },
        "id": "JT6xqcM5DZxW",
        "outputId": "8308eac4-23c3-447d-f8c0-68e83c1015d0"
      },
      "execution_count": 11,
      "outputs": [
        {
          "output_type": "stream",
          "name": "stdout",
          "text": [
            "Cosine sim from : 0.992 - model name: all-mpnet-base-v2\n"
          ]
        }
      ]
    },
    {
      "cell_type": "markdown",
      "source": [
        "## Test 5"
      ],
      "metadata": {
        "id": "IGB3TKG-EFA2"
      }
    },
    {
      "cell_type": "code",
      "source": [
        "q1 = \"what is the value of 2000 stock os Saleforce?\"\n",
        "q2 = \"what is the value of 2,000 stock os Saleforce?\"\n",
        "\n",
        "# Compute embedding for both lists\n",
        "emb_1 = model_1.encode(q1, convert_to_tensor=True)\n",
        "emb_2 = model_1.encode(q2, convert_to_tensor=True)\n",
        "\n",
        "# Compute cosine-similarits\n",
        "cosine_sim = util.pytorch_cos_sim(emb_1, emb_2).item()\n",
        "print(\"Cosine sim from : {} - model name: {}\".format(round(cosine_sim, 3), model_name_1))"
      ],
      "metadata": {
        "colab": {
          "base_uri": "https://localhost:8080/"
        },
        "id": "8RJnBB-bEDAa",
        "outputId": "785490b8-adf0-4a7e-8b16-95dc94708d3d"
      },
      "execution_count": 13,
      "outputs": [
        {
          "output_type": "stream",
          "name": "stdout",
          "text": [
            "Cosine sim from : 0.916 - model name: all-mpnet-base-v2\n"
          ]
        }
      ]
    },
    {
      "cell_type": "markdown",
      "source": [
        "## Test BERT Tokenizer\n",
        "\n",
        "https://albertauyeung.github.io/2020/06/19/bert-tokenization.html/\n",
        "\n",
        "We can test BERT Tokenizer:\n",
        "https://huggingface.co/docs/transformers/model_doc/bert\n",
        "\n",
        "BERT has `vocab_size = 30522` tokens!\n",
        "\n",
        "When the BERT model was trained, each token was given a unique ID. Hence, when we want to use a pre-trained BERT model, we will first need to convert each token in the input sentence into its corresponding unique IDs.\n",
        "\n",
        "There is an important point to note when we use a pre-trained model. Since the model is pre-trained on a certain corpus, the vocabulary was also fixed. In other words, when we apply a pre-trained model to some other data, it is possible that some tokens in the new data might not appear in the fixed vocabulary of the pre-trained model. This is commonly known as the out-of-vocabulary (OOV) problem.\n",
        "\n",
        "For tokens not appearing in the original vocabulary, it is designed that they should be replaced with a special token [UNK], which stands for unknown token.\n",
        "\n",
        "However, converting all unseen tokens into [UNK] will take away a lot of information from the input data. Hence, BERT makes use of a WordPiece algorithm that breaks a word into several subwords, such that commonly seen subwords can also be represented by the model.\n",
        "\n",
        "It seems `[UNK]` or unkown token has ID of 100 in `BERT`!\n",
        "\n",
        "It For the pre-training corpus BERT used the BooksCorpus (800M words) and English Wikipedia (2,500M words). For Wikipedia we extract only the text passages and ignore lists, tables, and headers.\n",
        "\n",
        "https://arxiv.org/pdf/1810.04805.pdf"
      ],
      "metadata": {
        "id": "xDo8SD1ID6In"
      }
    },
    {
      "cell_type": "code",
      "source": [
        "bert_tz = BertTokenizer.from_pretrained(\"bert-base-cased\")"
      ],
      "metadata": {
        "colab": {
          "base_uri": "https://localhost:8080/",
          "height": 113,
          "referenced_widgets": [
            "787b0f9d59cd4dcb9e280e3462303f92",
            "ef321543ae5d487baa8841c011b336a9",
            "c8149c648cd2473184167599ac1ac0a0",
            "ec8ebb9991ab47b7a68d37c803a38f2d",
            "796b06732c7a4c9ab098bba12fc489aa",
            "c4e6f3f1da3f44ea91c58848ffda13af",
            "faa184ae25734be6a471e11d815d4ecb",
            "4dd1824561a3417cbc6c6145b92fced5",
            "83e1b0f08699442b88d78dcd003c83f2",
            "97d5f3c109a5455cb22360df6b2696aa",
            "89ec6cfc55be40f29b9d8b09b8bd8b72",
            "7043e730da694a3caa83e23cfd24920f",
            "5b8778a594e74cf3bf9c8e0880bd311e",
            "5dfeafb02d2c470d8928bbddf1439b94",
            "f8844822df5a4c69b89860caa16410e1",
            "ff81d3c44006420e943e80819d51ef75",
            "17addd524fe14489a443527377c61ccb",
            "b456985401624d0caacb0babd5d7536b",
            "9f74c92f885c414894aa4c92740bd083",
            "a6af68fccd7a47639b414ecfab71d310",
            "c8be564a3dba41beb6d8337a837a07d7",
            "201e53d408c641c7a196e2f3e497ffa5",
            "9b213c675d514a7d819265e4e219d01c",
            "915b91e8875146fa99d29858dcb9e87b",
            "d926a6ccb48d48c0975a8f9371d70ea2",
            "cf097235e539461cb2854f262143e1ee",
            "55316880d2ad478dbb05baed1cfa8614",
            "6f5b9ee878e74659beea173b27336f43",
            "2152a4e34d114bea90491759bdc651e7",
            "a5141cd746a242a2a1e9d70a41c2c0df",
            "20a9ccd8fe934ce89250994810a82fd3",
            "4565b6d1314d46459326bc214e020582",
            "1af5761bfa8f4f85b30c08a2b101c33d"
          ]
        },
        "id": "_t2l9K52DcSs",
        "outputId": "064d3647-b682-48b9-c5f1-aec467958d09"
      },
      "execution_count": 12,
      "outputs": [
        {
          "output_type": "display_data",
          "data": {
            "text/plain": [
              "Downloading (…)solve/main/vocab.txt:   0%|          | 0.00/213k [00:00<?, ?B/s]"
            ],
            "application/vnd.jupyter.widget-view+json": {
              "version_major": 2,
              "version_minor": 0,
              "model_id": "787b0f9d59cd4dcb9e280e3462303f92"
            }
          },
          "metadata": {}
        },
        {
          "output_type": "display_data",
          "data": {
            "text/plain": [
              "Downloading (…)okenizer_config.json:   0%|          | 0.00/29.0 [00:00<?, ?B/s]"
            ],
            "application/vnd.jupyter.widget-view+json": {
              "version_major": 2,
              "version_minor": 0,
              "model_id": "7043e730da694a3caa83e23cfd24920f"
            }
          },
          "metadata": {}
        },
        {
          "output_type": "display_data",
          "data": {
            "text/plain": [
              "Downloading (…)lve/main/config.json:   0%|          | 0.00/570 [00:00<?, ?B/s]"
            ],
            "application/vnd.jupyter.widget-view+json": {
              "version_major": 2,
              "version_minor": 0,
              "model_id": "9b213c675d514a7d819265e4e219d01c"
            }
          },
          "metadata": {}
        }
      ]
    },
    {
      "cell_type": "markdown",
      "source": [
        "## Test 6"
      ],
      "metadata": {
        "id": "b5lwiNO9GKwK"
      }
    },
    {
      "cell_type": "code",
      "source": [
        "q = \"what is the value of 2000 stock os Saleforce?\"\n",
        "bert_tz.tokenize(q)"
      ],
      "metadata": {
        "colab": {
          "base_uri": "https://localhost:8080/"
        },
        "id": "JCH_WY3oGMjT",
        "outputId": "d23b90e0-66b5-4baf-be36-71b6d2c138b0"
      },
      "execution_count": 14,
      "outputs": [
        {
          "output_type": "execute_result",
          "data": {
            "text/plain": [
              "['what',\n",
              " 'is',\n",
              " 'the',\n",
              " 'value',\n",
              " 'of',\n",
              " '2000',\n",
              " 'stock',\n",
              " 'o',\n",
              " '##s',\n",
              " 'Sale',\n",
              " '##force',\n",
              " '?']"
            ]
          },
          "metadata": {},
          "execution_count": 14
        }
      ]
    },
    {
      "cell_type": "markdown",
      "source": [
        "## Test 7"
      ],
      "metadata": {
        "id": "tihaIIdrGbGm"
      }
    },
    {
      "cell_type": "code",
      "source": [
        "q = \"what is the value of 2,000 stock os Saleforce?\"\n",
        "bert_tz.tokenize(q)"
      ],
      "metadata": {
        "colab": {
          "base_uri": "https://localhost:8080/"
        },
        "id": "qTwErLs7GbgV",
        "outputId": "91005462-5440-4895-cb4d-ff42665c25d8"
      },
      "execution_count": 15,
      "outputs": [
        {
          "output_type": "execute_result",
          "data": {
            "text/plain": [
              "['what',\n",
              " 'is',\n",
              " 'the',\n",
              " 'value',\n",
              " 'of',\n",
              " '2',\n",
              " ',',\n",
              " '000',\n",
              " 'stock',\n",
              " 'o',\n",
              " '##s',\n",
              " 'Sale',\n",
              " '##force',\n",
              " '?']"
            ]
          },
          "metadata": {},
          "execution_count": 15
        }
      ]
    },
    {
      "cell_type": "markdown",
      "source": [
        "## MLPNET Tokenizer\n",
        "\n",
        "OOV tests\n",
        "\n",
        "https://huggingface.co/docs/transformers/model_doc/mpnet#transformers.MPNetTokenizerFast\n",
        "\n",
        "\n",
        "MPNet tokenizer:\n",
        "https://github.com/huggingface/transformers/blob/main/src/transformers/models/mpnet/tokenization_mpnet.py"
      ],
      "metadata": {
        "id": "EFUP951nOH8k"
      }
    },
    {
      "cell_type": "code",
      "source": [
        "mpnet_tz = MPNetTokenizer.from_pretrained(\"microsoft/mpnet-base\")"
      ],
      "metadata": {
        "colab": {
          "base_uri": "https://localhost:8080/",
          "height": 81,
          "referenced_widgets": [
            "e5879ac51b84470da3b7e26d60475472",
            "e6f860b2fd3849bcaf8484d816673152",
            "e7aa1f07dab2489a95b1c3f799a08ce4",
            "5eb9f597ea4a472c9abfacf0b0f4d6c7",
            "69402ff5c27e4e389eea473254e20046",
            "fcc33864552c489c88a39fb29d76dc48",
            "6ca7a7d03e194b9b8f912010f8f3b7bb",
            "dfebc0ec03fd4f9a9179c151015b324e",
            "f185b15734d94ebbbb33d2cdd6bbf178",
            "2c53ff4a6ceb406d83bebbed631079ee",
            "a7b2ed10d44b408b974d92d51d5c5508",
            "8a5f966f4a3f41bdbb0a9c384bf55742",
            "6f0686f2e2c845e0bbd2f43aea978548",
            "77d6b62d686945739356a8c63d24412b",
            "be2581b685af473e9a91c26dd90b9d7c",
            "be6439692d5c4e969b2cb3c7f1751cdd",
            "fef73cdadda94c07a3c6a00dd1a1bb03",
            "635a1e7990414f1cb00c8f3706f23d67",
            "62d7cbb1f68d417983a77f15a071bdca",
            "c71610a4fb744bbd83683b9805b4271c",
            "cca9704044a045b3a26677e371ebf719",
            "4d21eee259fa4e1ebdd5b54228b040a8"
          ]
        },
        "id": "n4VULMiSGeUV",
        "outputId": "d6263218-470a-4a6e-cb7a-da4b47774bb3"
      },
      "execution_count": 16,
      "outputs": [
        {
          "output_type": "display_data",
          "data": {
            "text/plain": [
              "Downloading (…)solve/main/vocab.txt:   0%|          | 0.00/232k [00:00<?, ?B/s]"
            ],
            "application/vnd.jupyter.widget-view+json": {
              "version_major": 2,
              "version_minor": 0,
              "model_id": "e5879ac51b84470da3b7e26d60475472"
            }
          },
          "metadata": {}
        },
        {
          "output_type": "display_data",
          "data": {
            "text/plain": [
              "Downloading (…)lve/main/config.json:   0%|          | 0.00/493 [00:00<?, ?B/s]"
            ],
            "application/vnd.jupyter.widget-view+json": {
              "version_major": 2,
              "version_minor": 0,
              "model_id": "8a5f966f4a3f41bdbb0a9c384bf55742"
            }
          },
          "metadata": {}
        }
      ]
    },
    {
      "cell_type": "markdown",
      "source": [
        "## Test 8"
      ],
      "metadata": {
        "id": "RgUlr6KwOP-X"
      }
    },
    {
      "cell_type": "code",
      "source": [
        "q = \"what is the value of 2000 stock os Saleforce?\"\n",
        "mpnet_tz.tokenize(q)"
      ],
      "metadata": {
        "colab": {
          "base_uri": "https://localhost:8080/"
        },
        "id": "ttaRtXpcOQYk",
        "outputId": "54f2bf53-27e2-4582-a8e9-79f27455159b"
      },
      "execution_count": 17,
      "outputs": [
        {
          "output_type": "execute_result",
          "data": {
            "text/plain": [
              "['what',\n",
              " 'is',\n",
              " 'the',\n",
              " 'value',\n",
              " 'of',\n",
              " '2000',\n",
              " 'stock',\n",
              " 'os',\n",
              " 'sale',\n",
              " '##force',\n",
              " '?']"
            ]
          },
          "metadata": {},
          "execution_count": 17
        }
      ]
    },
    {
      "cell_type": "markdown",
      "source": [
        "## Test 9"
      ],
      "metadata": {
        "id": "6vAlQtVhOaK0"
      }
    },
    {
      "cell_type": "code",
      "source": [
        "q = \"what is the value of 2,000 stock os Saleforce?\"\n",
        "mpnet_tz.tokenize(q)"
      ],
      "metadata": {
        "colab": {
          "base_uri": "https://localhost:8080/"
        },
        "id": "G-y3CSA_Oaky",
        "outputId": "663bb478-a049-4e11-f59d-c344e4c69bab"
      },
      "execution_count": 18,
      "outputs": [
        {
          "output_type": "execute_result",
          "data": {
            "text/plain": [
              "['what',\n",
              " 'is',\n",
              " 'the',\n",
              " 'value',\n",
              " 'of',\n",
              " '2',\n",
              " ',',\n",
              " '000',\n",
              " 'stock',\n",
              " 'os',\n",
              " 'sale',\n",
              " '##force',\n",
              " '?']"
            ]
          },
          "metadata": {},
          "execution_count": 18
        }
      ]
    }
  ]
}